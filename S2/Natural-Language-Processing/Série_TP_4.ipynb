{
 "cells": [
  {
   "cell_type": "markdown",
   "metadata": {
    "id": "2Z2uwH7ONm_r"
   },
   "source": [
    "# Série TP 4 - TALN - Analyse Syntaxique – Parse Trees with NLTK\n"
   ]
  },
  {
   "cell_type": "code",
   "execution_count": 1,
   "metadata": {
    "id": "h3rERN8oHufV"
   },
   "outputs": [],
   "source": [
    "import nltk "
   ]
  },
  {
   "cell_type": "markdown",
   "metadata": {},
   "source": [
    "### CFG Grammar"
   ]
  },
  {
   "cell_type": "code",
   "execution_count": 2,
   "metadata": {},
   "outputs": [],
   "source": [
    "# Grammar string declaration\n",
    "\n",
    "mygrammar_str= \"\"\"\n",
    "  S -> NP VP\n",
    "  VP -> V NP | V NP PP\n",
    "  PP -> P NP\n",
    "  NP -> Det N | Det N PP\n",
    "  V -> 'saw' | 'ate' | 'walked' | 'shot'\n",
    "  NP -> 'John' | 'Mary' | 'Bob' \n",
    "  Det -> 'a' | 'an' | 'the' | 'my'\n",
    "  N -> 'girl' | 'dog' | 'pajamas' | 'telescope' | 'elephant' | 'bone'\n",
    "  P -> 'in' | 'on' | 'by' | 'with'\n",
    "  \"\"\""
   ]
  },
  {
   "cell_type": "code",
   "execution_count": 3,
   "metadata": {
    "id": "jhjWMetYojD1"
   },
   "outputs": [],
   "source": [
    "# NLTK CFG grammar from string initiation\n",
    "\n",
    "cfg = nltk.CFG.fromstring(mygrammar_str)"
   ]
  },
  {
   "cell_type": "markdown",
   "metadata": {},
   "source": [
    "### Text Data - Example 1 "
   ]
  },
  {
   "cell_type": "code",
   "execution_count": 4,
   "metadata": {},
   "outputs": [],
   "source": [
    "text = 'the dog ate the bone'"
   ]
  },
  {
   "cell_type": "markdown",
   "metadata": {},
   "source": [
    "**NB** : Il n'est pas possible de parser directement le texte brut avec nltk. Il faut d'abord le tokenisé, puis vérifier si les terminaux/tokens dans la grammaire fourni sont POS-taggé ou pas. S'ils ne le sont pas, il faut procéder à cette étape avant le parsing.  "
   ]
  },
  {
   "cell_type": "code",
   "execution_count": 5,
   "metadata": {},
   "outputs": [],
   "source": [
    "# Tokenization\n",
    "tokens = nltk.word_tokenize(text)"
   ]
  },
  {
   "cell_type": "code",
   "execution_count": 6,
   "metadata": {},
   "outputs": [
    {
     "data": {
      "text/plain": [
       "['the', 'dog', 'ate', 'the', 'bone']"
      ]
     },
     "execution_count": 6,
     "metadata": {},
     "output_type": "execute_result"
    }
   ],
   "source": [
    "tokens"
   ]
  },
  {
   "cell_type": "markdown",
   "metadata": {},
   "source": [
    "### Parsing - ChatParser and RecursiveDescentParser"
   ]
  },
  {
   "cell_type": "code",
   "execution_count": 7,
   "metadata": {},
   "outputs": [],
   "source": [
    "# Parsing with ChartParser algorithm\n",
    "\n",
    "chat_parser = nltk.ChartParser(cfg)\n",
    "trees = chat_parser.parse(tokens)"
   ]
  },
  {
   "cell_type": "code",
   "execution_count": 8,
   "metadata": {
    "colab": {
     "base_uri": "https://localhost:8080/"
    },
    "id": "Bov7nRqRojD2",
    "outputId": "a17be94e-d02a-489b-b288-c6370f3029f0"
   },
   "outputs": [
    {
     "name": "stdout",
     "output_type": "stream",
     "text": [
      "(S (NP (Det the) (N dog)) (VP (V ate) (NP (Det the) (N bone))))\n"
     ]
    }
   ],
   "source": [
    "# Print and draw trees\n",
    "for tree in trees:\n",
    "    print(tree)\n",
    "    tree.draw()"
   ]
  },
  {
   "cell_type": "code",
   "execution_count": 9,
   "metadata": {},
   "outputs": [],
   "source": [
    "# Parsing with RecursiveDescentParser algorithm\n",
    "\n",
    "rd_parser = nltk.RecursiveDescentParser(cfg)\n",
    "trees = rd_parser.parse(tokens)"
   ]
  },
  {
   "cell_type": "code",
   "execution_count": 10,
   "metadata": {},
   "outputs": [
    {
     "name": "stdout",
     "output_type": "stream",
     "text": [
      "(S (NP (Det the) (N dog)) (VP (V ate) (NP (Det the) (N bone))))\n"
     ]
    }
   ],
   "source": [
    "# Print and draw trees\n",
    "for tree in trees:\n",
    "    print(tree)\n",
    "    tree.draw()"
   ]
  },
  {
   "cell_type": "markdown",
   "metadata": {},
   "source": [
    "### Tree objects from string"
   ]
  },
  {
   "cell_type": "code",
   "execution_count": 11,
   "metadata": {},
   "outputs": [
    {
     "name": "stdout",
     "output_type": "stream",
     "text": [
      "(S (NP I) (VP (V enjoyed) (NP my cookie)))\n"
     ]
    }
   ],
   "source": [
    "# Tree declaration in NLTK : Tree objects\n",
    "mytree = nltk.Tree.fromstring('(S (NP I) (VP (V enjoyed) (NP my cookie)))')\n",
    "print(mytree)"
   ]
  },
  {
   "cell_type": "code",
   "execution_count": 12,
   "metadata": {},
   "outputs": [
    {
     "name": "stdout",
     "output_type": "stream",
     "text": [
      "             S                \n",
      "  ___________|___              \n",
      " |               VP           \n",
      " |      _________|___          \n",
      " NP    V             NP       \n",
      " |     |          ___|____     \n",
      " I  enjoyed      my     cookie\n",
      "\n"
     ]
    }
   ],
   "source": [
    "mytree.pretty_print()"
   ]
  },
  {
   "cell_type": "markdown",
   "metadata": {},
   "source": [
    "### Text Data - Example 2 "
   ]
  },
  {
   "cell_type": "code",
   "execution_count": 13,
   "metadata": {},
   "outputs": [],
   "source": [
    "text2 = \"John saw a girl with a telescope\""
   ]
  },
  {
   "cell_type": "code",
   "execution_count": 14,
   "metadata": {},
   "outputs": [],
   "source": [
    "tokens2 = nltk.word_tokenize(text2)"
   ]
  },
  {
   "cell_type": "code",
   "execution_count": 15,
   "metadata": {
    "colab": {
     "base_uri": "https://localhost:8080/"
    },
    "id": "rhBnzTZbojD4",
    "outputId": "b5514c39-e275-40cc-9d63-12ff164c921f"
   },
   "outputs": [],
   "source": [
    "rd_parser = nltk.RecursiveDescentParser(cfg)\n",
    "trees2 = rd_parser.parse(tokens2)"
   ]
  },
  {
   "cell_type": "code",
   "execution_count": 16,
   "metadata": {},
   "outputs": [
    {
     "name": "stdout",
     "output_type": "stream",
     "text": [
      "(S\n",
      "  (NP John)\n",
      "  (VP\n",
      "    (V saw)\n",
      "    (NP (Det a) (N girl) (PP (P with) (NP (Det a) (N telescope))))))\n",
      "(S\n",
      "  (NP John)\n",
      "  (VP\n",
      "    (V saw)\n",
      "    (NP (Det a) (N girl))\n",
      "    (PP (P with) (NP (Det a) (N telescope)))))\n"
     ]
    }
   ],
   "source": [
    "# Two parse trees\n",
    "for tree in trees2:\n",
    "    print(tree)\n",
    "    tree.draw()"
   ]
  },
  {
   "cell_type": "code",
   "execution_count": 17,
   "metadata": {},
   "outputs": [
    {
     "name": "stdout",
     "output_type": "stream",
     "text": [
      "(S\n",
      "  (NP John)\n",
      "  (VP\n",
      "    (V saw)\n",
      "    (NP (Det a) (N girl))\n",
      "    (PP (P with) (NP (Det a) (N telescope)))))\n"
     ]
    }
   ],
   "source": [
    "# Print second tree only\n",
    "trees2 = list(rd_parser.parse(tokens2))\n",
    "print(trees2[1])"
   ]
  },
  {
   "cell_type": "code",
   "execution_count": 18,
   "metadata": {},
   "outputs": [
    {
     "name": "stdout",
     "output_type": "stream",
     "text": [
      "      S                                 \n",
      "  ____|_______                           \n",
      " |            VP                        \n",
      " |     _______|____                      \n",
      " |    |            NP                   \n",
      " |    |    ________|____                 \n",
      " |    |   |   |         PP              \n",
      " |    |   |   |     ____|___             \n",
      " |    |   |   |    |        NP          \n",
      " |    |   |   |    |     ___|______      \n",
      " NP   V  Det  N    P   Det         N    \n",
      " |    |   |   |    |    |          |     \n",
      "John saw  a  girl with  a      telescope\n",
      "\n"
     ]
    }
   ],
   "source": [
    "trees2[0].pretty_print()"
   ]
  },
  {
   "cell_type": "code",
   "execution_count": 19,
   "metadata": {},
   "outputs": [
    {
     "name": "stdout",
     "output_type": "stream",
     "text": [
      "      S                                     \n",
      "  ____|___________                           \n",
      " |                VP                        \n",
      " |     ___________|_________                 \n",
      " |    |       |             PP              \n",
      " |    |       |         ____|___             \n",
      " |    |       NP       |        NP          \n",
      " |    |    ___|___     |     ___|______      \n",
      " NP   V  Det      N    P   Det         N    \n",
      " |    |   |       |    |    |          |     \n",
      "John saw  a      girl with  a      telescope\n",
      "\n"
     ]
    }
   ],
   "source": [
    "trees2[1].pretty_print()"
   ]
  },
  {
   "cell_type": "markdown",
   "metadata": {},
   "source": [
    "## Basic CYK Parser in Python"
   ]
  },
  {
   "cell_type": "markdown",
   "metadata": {},
   "source": [
    "- Source : https://github.com/ikergarcia1996/Basic-CYK-Parser\n",
    "- Author : Iker García Ferrero\n",
    "- File : CYK_Parser.py"
   ]
  },
  {
   "cell_type": "code",
   "execution_count": 20,
   "metadata": {},
   "outputs": [],
   "source": [
    "from CYK_Parser import Grammar"
   ]
  },
  {
   "cell_type": "code",
   "execution_count": 21,
   "metadata": {},
   "outputs": [
    {
     "name": "stdout",
     "output_type": "stream",
     "text": [
      "\n",
      "Grammar file readed succesfully. Rules readed:\n",
      "S --> NP VP\n",
      "NP --> Det N\n",
      "VP --> V NP\n",
      "N --> flight\n",
      "V --> includes\n",
      "N --> meal\n",
      "Det --> a\n",
      "Det --> the\n",
      "\n"
     ]
    }
   ],
   "source": [
    "# Initialize the grammar and read the rules from a file\n",
    "g = Grammar('example_grammar1.txt')"
   ]
  },
  {
   "cell_type": "code",
   "execution_count": 22,
   "metadata": {},
   "outputs": [],
   "source": [
    "# Text Data\n",
    "text = 'the flight includes a meal'"
   ]
  },
  {
   "cell_type": "code",
   "execution_count": 23,
   "metadata": {},
   "outputs": [
    {
     "name": "stdout",
     "output_type": "stream",
     "text": [
      "Applied Rule: NP[2,1] --> Det[1,1] N[1,2]\n",
      "Applied Rule: NP[2,4] --> Det[1,4] N[1,5]\n",
      "Applied Rule: VP[3,3] --> V[1,3] NP[2,4]\n",
      "Applied Rule: S[5,1] --> NP[2,1] VP[3,3]\n",
      "----------------------------------------\n",
      "The sentence IS accepted in the language\n",
      "Number of possible trees: 1\n",
      "----------------------------------------\n"
     ]
    }
   ],
   "source": [
    "# Parse a sentence\n",
    "g.parse(text)"
   ]
  },
  {
   "cell_type": "code",
   "execution_count": 24,
   "metadata": {},
   "outputs": [
    {
     "name": "stdout",
     "output_type": "stream",
     "text": [
      "\n",
      "-------  ------  --------  -------  -----\n",
      "['S']\n",
      "[]       []\n",
      "[]       []      ['VP']\n",
      "['NP']   []      []        ['NP']\n",
      "['Det']  ['N']   ['V']     ['Det']  ['N']\n",
      "the      flight  includes  a        meal\n",
      "-------  ------  --------  -------  -----\n",
      "\n"
     ]
    }
   ],
   "source": [
    "# Print the table used for parsing the sentence\n",
    "g.print_parse_table()"
   ]
  },
  {
   "cell_type": "code",
   "execution_count": 25,
   "metadata": {},
   "outputs": [
    {
     "name": "stdout",
     "output_type": "stream",
     "text": [
      "[<CYK_Parser.production_rule object at 0x000001F060DA77F0>]\n"
     ]
    }
   ],
   "source": [
    "# Get the list of trees generated for the sentence\n",
    "trees = g.get_trees()\n",
    "print(trees)"
   ]
  },
  {
   "cell_type": "markdown",
   "metadata": {},
   "source": [
    "### Example 2"
   ]
  },
  {
   "cell_type": "raw",
   "metadata": {},
   "source": [
    "- Soit la grammaire suivante :\n",
    "    S -> NP VP\n",
    "    PP -> P NP\n",
    "    VP -> V NP\n",
    "    VP -> VP PP\n",
    "    NP -> Det N\n",
    "    NP -> NP PP\n",
    "    NP -> they\n",
    "    N -> book\n",
    "    N -> library\n",
    "    P -> from\n",
    "    V -> borrowed\n",
    "    Det -> the\n",
    "    Det -> that\n",
    "\n",
    "Dérouler manuellement l'algorithme CYK sur la phrase suivante, puis vérifier vos résultats avec CYK_Parser.py : \"they borrowed that book from the library\"."
   ]
  },
  {
   "cell_type": "code",
   "execution_count": 27,
   "metadata": {},
   "outputs": [
    {
     "name": "stdout",
     "output_type": "stream",
     "text": [
      "\n",
      "Grammar file readed succesfully. Rules readed:\n",
      "S --> NP VP\n",
      "PP --> P NP\n",
      "VP --> V NP\n",
      "VP --> VP PP\n",
      "NP --> Det N\n",
      "NP --> NP PP\n",
      "NP --> they\n",
      "N --> book\n",
      "N --> library\n",
      "P --> from\n",
      "V --> borrowed\n",
      "Det --> the\n",
      "Det --> that\n",
      "\n",
      "Applied Rule: NP[2,3] --> Det[1,3] N[1,4]\n",
      "Applied Rule: NP[2,6] --> Det[1,6] N[1,7]\n",
      "Applied Rule: VP[3,2] --> V[1,2] NP[2,3]\n",
      "Applied Rule: PP[3,5] --> P[1,5] NP[2,6]\n",
      "Applied Rule: S[4,1] --> NP[1,1] VP[3,2]\n",
      "Applied Rule: NP[5,3] --> NP[2,3] PP[3,5]\n",
      "Applied Rule: VP[6,2] --> V[1,2] NP[5,3]\n",
      "Applied Rule: VP[6,2] --> VP[3,2] PP[3,5]\n",
      "Applied Rule: S[7,1] --> NP[1,1] VP[6,2]\n",
      "Applied Rule: S[7,1] --> NP[1,1] VP[6,2]\n",
      "----------------------------------------\n",
      "The sentence IS accepted in the language\n",
      "Number of possible trees: 2\n",
      "----------------------------------------\n",
      "\n",
      "----------  ------------  -------  -----  ------  -------  -------\n",
      "['S', 'S']\n",
      "[]          ['VP', 'VP']\n",
      "[]          []            ['NP']\n",
      "['S']       []            []       []\n",
      "[]          ['VP']        []       []     ['PP']\n",
      "[]          []            ['NP']   []     []      ['NP']\n",
      "['NP']      ['V']         ['Det']  ['N']  ['P']   ['Det']  ['N']\n",
      "they        borrowed      that     book   from    the      library\n",
      "----------  ------------  -------  -----  ------  -------  -------\n",
      "\n",
      "[<CYK_Parser.production_rule object at 0x000001F06367A280>, <CYK_Parser.production_rule object at 0x000001F06367A3A0>]\n"
     ]
    }
   ],
   "source": [
    "g2 = Grammar('example_grammar2.txt')\n",
    "\n",
    "g2.parse('they borrowed that book from the library')\n",
    "g2.print_parse_table()\n",
    "\n",
    "trees = g2.get_trees()\n",
    "print(trees)"
   ]
  },
  {
   "cell_type": "code",
   "execution_count": null,
   "metadata": {},
   "outputs": [],
   "source": []
  }
 ],
 "metadata": {
  "colab": {
   "collapsed_sections": [],
   "name": "Série_TP_4.ipynb",
   "provenance": []
  },
  "kernelspec": {
   "display_name": "Python 3 (ipykernel)",
   "language": "python",
   "name": "python3"
  },
  "language_info": {
   "codemirror_mode": {
    "name": "ipython",
    "version": 3
   },
   "file_extension": ".py",
   "mimetype": "text/x-python",
   "name": "python",
   "nbconvert_exporter": "python",
   "pygments_lexer": "ipython3",
   "version": "3.8.8"
  }
 },
 "nbformat": 4,
 "nbformat_minor": 1
}
