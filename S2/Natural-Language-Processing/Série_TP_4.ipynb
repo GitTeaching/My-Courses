{
  "nbformat": 4,
  "nbformat_minor": 0,
  "metadata": {
    "colab": {
      "name": "Série_TP_4.ipynb",
      "provenance": [],
      "collapsed_sections": []
    },
    "kernelspec": {
      "display_name": "Python 3",
      "language": "python",
      "name": "python3"
    },
    "language_info": {
      "codemirror_mode": {
        "name": "ipython",
        "version": 3
      },
      "file_extension": ".py",
      "mimetype": "text/x-python",
      "name": "python",
      "nbconvert_exporter": "python",
      "pygments_lexer": "ipython3",
      "version": "3.7.4"
    }
  },
  "cells": [
    {
      "cell_type": "markdown",
      "metadata": {
        "id": "2Z2uwH7ONm_r"
      },
      "source": [
        "# **Série TP 4**\n",
        "## Analyse syntaxique – POS tagging, parsing, et Named Entity Recognition avec SpaCy.\n"
      ]
    },
    {
      "cell_type": "markdown",
      "metadata": {
        "id": "QsxpdOjYNyk9"
      },
      "source": [
        "### **Qu'est-ce que le package Python SpaCy ?**\n",
        "\n",
        "**SpaCy** est une bibliothèque gratuite et open-source pour le traitement automatique du langage naturel (NLP) en Python avec de nombreuses fonctionnalités intégrées. Il devient de plus en plus populaire pour le traitement et l’analyse des données en TAL. \n",
        "La bibliothèque SpaCy permet d'effectuer plusieurs opérations d'analyse sur des textes dans plus de 50 langues: tokenization, lemmatization, POST tagging, reconnaissance d'entités nommées, parsing, etc.\n",
        "SpaCy est la principale alternative à NLTK (Natural Language Tool Kit), la librairie historique pour le TAL avec Python, et propose de nombreuses innovations et options de visualisation qui sont très intéressantes.\n",
        "\n",
        "Le **tokenizer** transforme une chaine de caractères en un objet **Doc**. spaCy applique ensuite chaque composant du pipeline, dans l’ordre. **token.text**\n",
        "\n",
        "spaCy propose des **modèles statistiques** permettant d’exécuter un **pipeline** comprenant en natif les fonctionnalités linguistiques suivantes : **POS tagger**, **parser** et **NER**. À ce pipeline peut s’ajouter un élément de classification de textes. Chaque élément peut être facilement activé et désactivé selon les besoins.\n",
        "\n",
        "spaCy est fourni avec les composants intégrés suivants, à partir du pipeline:\n",
        "\n",
        "- Le part-of-speech tagger définit les attributs **token.tag_** et **token.pos_**.\n",
        "\n",
        "- Le lemmatizer : **token.lemma_**.\n",
        "\n",
        "- Le dependency parser ajoute les attributs **token.dep** et **token.head** et est également chargé de détecter les phrases et les groupes nominaux, également appelés **\"noun chunks\"**.\n",
        "\n",
        "- Le named entity recognizer ajoute les entités détectées à la propriété **doc.ents**. Il définit aussi les attributs de type d'entité sur les tokens qui indiquent si un token fait partie ou non d'une entité.\n",
        "\n",
        "\n",
        "![SpaCy Pipeline Image](https://d33wubrfki0l68.cloudfront.net/3ad0582d97663a1272ffc4ccf09f1c5b335b17e9/7f49c/pipeline-fde48da9b43661abcdf62ab70a546d71.svg)"
      ]
    },
    {
      "cell_type": "markdown",
      "metadata": {
        "id": "JMVtNuLVN7tc"
      },
      "source": [
        "#### Pour **l’installer et télécharger** les modèles, en utilisant PIP depuis cmd.exe ou jupyter : \n",
        "\n",
        ">> pip install spacy\n",
        "\n",
        "Pour modèles en **anglais** :\n",
        ">>  python -m spacy download en_core_web_sm"
      ]
    },
    {
      "cell_type": "markdown",
      "metadata": {
        "id": "wMmYs6gWKXbz"
      },
      "source": [
        "SpaCy - https://spacy.io/usage/linguistic-features\n",
        "\n",
        "Spacy - https://course.spacy.io/fr"
      ]
    },
    {
      "cell_type": "markdown",
      "metadata": {
        "id": "1WVrkIjAPgBK"
      },
      "source": [
        "## **Pratique**"
      ]
    },
    {
      "cell_type": "markdown",
      "metadata": {
        "id": "VCy3R0gxCX_u"
      },
      "source": [
        "### **Installation**"
      ]
    },
    {
      "cell_type": "code",
      "metadata": {
        "id": "AzOCh850CbsE",
        "scrolled": true,
        "outputId": "9b601370-b793-4a5c-cacf-539305b54f40"
      },
      "source": [
        "!pip install -U spacy"
      ],
      "execution_count": null,
      "outputs": [
        {
          "output_type": "stream",
          "text": [
            "Collecting spacy\n",
            "  Using cached https://files.pythonhosted.org/packages/99/c9/35d94c73e26b194c07a3d3adb82c06c38f76bebd3e1ba1e7195fb6f5a7cc/spacy-3.0.6-cp37-cp37m-win_amd64.whl\n",
            "Collecting blis<0.8.0,>=0.4.0 (from spacy)\n",
            "  Using cached https://files.pythonhosted.org/packages/7c/f3/2c18510d125d6af493120ca50fc8f2e3c21c9f58fb38d34c032f813dadcb/blis-0.7.4-cp37-cp37m-win_amd64.whl\n",
            "Collecting cymem<2.1.0,>=2.0.2 (from spacy)\n",
            "  Using cached https://files.pythonhosted.org/packages/3f/7f/e4b81e6355e87c08a039cbc64c3044046ba4665a74e9b62246c71976a849/cymem-2.0.5-cp37-cp37m-win_amd64.whl\n",
            "Collecting srsly<3.0.0,>=2.4.1 (from spacy)\n",
            "  Using cached https://files.pythonhosted.org/packages/e7/f8/62520edb641dde8ba57f7ba9aa82f3c8e6567b8b8aacb690615c9800d156/srsly-2.4.1-cp37-cp37m-win_amd64.whl\n",
            "Collecting typer<0.4.0,>=0.3.0 (from spacy)\n",
            "  Using cached https://files.pythonhosted.org/packages/90/34/d138832f6945432c638f32137e6c79a3b682f06a63c488dcfaca6b166c64/typer-0.3.2-py3-none-any.whl\n",
            "Requirement already satisfied, skipping upgrade: packaging>=20.0 in c:\\users\\ordinateur\\anaconda3\\lib\\site-packages (from spacy) (20.9)\n",
            "Collecting spacy-legacy<3.1.0,>=3.0.4 (from spacy)\n",
            "  Using cached https://files.pythonhosted.org/packages/8d/67/d4002a18e26bf29b17ab563ddb55232b445ab6a02f97bf17d1345ff34d3f/spacy_legacy-3.0.5-py2.py3-none-any.whl\n",
            "Collecting preshed<3.1.0,>=3.0.2 (from spacy)\n",
            "  Using cached https://files.pythonhosted.org/packages/04/19/f9b58e2e1ed1e4f6cb883dc6e1eb0b27271aac93243db57ecc81b00d9a23/preshed-3.0.5-cp37-cp37m-win_amd64.whl\n",
            "Requirement already satisfied, skipping upgrade: numpy>=1.15.0 in c:\\users\\ordinateur\\anaconda3\\lib\\site-packages (from spacy) (1.16.5)\n",
            "Collecting murmurhash<1.1.0,>=0.28.0 (from spacy)\n",
            "  Using cached https://files.pythonhosted.org/packages/c7/3a/dc5400c423a1b85d7d081326d1f391676c10bb690aeae0c211ae4843739c/murmurhash-1.0.5-cp37-cp37m-win_amd64.whl\n",
            "Collecting pathy>=0.3.5 (from spacy)\n",
            "  Using cached https://files.pythonhosted.org/packages/13/87/5991d87be8ed60beb172b4062dbafef18b32fa559635a8e2b633c2974f85/pathy-0.5.2-py3-none-any.whl\n",
            "Requirement already satisfied, skipping upgrade: pydantic<1.8.0,>=1.7.1 in c:\\users\\ordinateur\\anaconda3\\lib\\site-packages (from spacy) (1.7.3)\n",
            "Collecting catalogue<2.1.0,>=2.0.3 (from spacy)\n",
            "  Using cached https://files.pythonhosted.org/packages/82/a5/b5021c74c04cac35a27d34cbf3146d86eb8e173b4491888bc4908c4c8b3b/catalogue-2.0.3-py3-none-any.whl\n",
            "Collecting thinc<8.1.0,>=8.0.3 (from spacy)\n",
            "  Using cached https://files.pythonhosted.org/packages/9d/fc/e44d8b7783f112545ef96b6988ec89eeb87dfd42b4a428c1189b7c5d5434/thinc-8.0.3-cp37-cp37m-win_amd64.whl\n",
            "Requirement already satisfied, skipping upgrade: requests<3.0.0,>=2.13.0 in c:\\users\\ordinateur\\anaconda3\\lib\\site-packages (from spacy) (2.22.0)\n",
            "Collecting typing-extensions<4.0.0.0,>=3.7.4; python_version < \"3.8\" (from spacy)\n",
            "  Using cached https://files.pythonhosted.org/packages/60/7a/e881b5abb54db0e6e671ab088d079c57ce54e8a01a3ca443f561ccadb37e/typing_extensions-3.7.4.3-py3-none-any.whl\n",
            "Requirement already satisfied, skipping upgrade: tqdm<5.0.0,>=4.38.0 in c:\\users\\ordinateur\\anaconda3\\lib\\site-packages (from spacy) (4.60.0)\n",
            "Requirement already satisfied, skipping upgrade: jinja2 in c:\\users\\ordinateur\\anaconda3\\lib\\site-packages (from spacy) (2.10.3)\n",
            "Collecting wasabi<1.1.0,>=0.8.1 (from spacy)\n",
            "  Using cached https://files.pythonhosted.org/packages/a6/1d/d281571b4c3b20fff183b485c6673c62878727119a849c7932651a8b5060/wasabi-0.8.2-py3-none-any.whl\n",
            "Requirement already satisfied, skipping upgrade: setuptools in c:\\users\\ordinateur\\anaconda3\\lib\\site-packages (from spacy) (41.4.0)\n",
            "Collecting click<7.2.0,>=7.1.1 (from typer<0.4.0,>=0.3.0->spacy)\n",
            "  Using cached https://files.pythonhosted.org/packages/d2/3d/fa76db83bf75c4f8d338c2fd15c8d33fdd7ad23a9b5e57eb6c5de26b430e/click-7.1.2-py2.py3-none-any.whl\n",
            "Requirement already satisfied, skipping upgrade: pyparsing>=2.0.2 in c:\\users\\ordinateur\\anaconda3\\lib\\site-packages (from packaging>=20.0->spacy) (2.4.2)\n",
            "Collecting smart-open<4.0.0,>=2.2.0 (from pathy>=0.3.5->spacy)\n",
            "Requirement already satisfied, skipping upgrade: zipp>=0.5; python_version < \"3.8\" in c:\\users\\ordinateur\\anaconda3\\lib\\site-packages (from catalogue<2.1.0,>=2.0.3->spacy) (0.6.0)\n",
            "Requirement already satisfied, skipping upgrade: certifi>=2017.4.17 in c:\\users\\ordinateur\\anaconda3\\lib\\site-packages (from requests<3.0.0,>=2.13.0->spacy) (2019.9.11)\n",
            "Requirement already satisfied, skipping upgrade: chardet<3.1.0,>=3.0.2 in c:\\users\\ordinateur\\anaconda3\\lib\\site-packages (from requests<3.0.0,>=2.13.0->spacy) (3.0.4)\n",
            "Requirement already satisfied, skipping upgrade: idna<2.9,>=2.5 in c:\\users\\ordinateur\\anaconda3\\lib\\site-packages (from requests<3.0.0,>=2.13.0->spacy) (2.8)\n",
            "Requirement already satisfied, skipping upgrade: urllib3!=1.25.0,!=1.25.1,<1.26,>=1.21.1 in c:\\users\\ordinateur\\anaconda3\\lib\\site-packages (from requests<3.0.0,>=2.13.0->spacy) (1.24.2)\n",
            "Requirement already satisfied, skipping upgrade: MarkupSafe>=0.23 in c:\\users\\ordinateur\\anaconda3\\lib\\site-packages (from jinja2->spacy) (1.1.1)\n",
            "Requirement already satisfied, skipping upgrade: more-itertools in c:\\users\\ordinateur\\anaconda3\\lib\\site-packages (from zipp>=0.5; python_version < \"3.8\"->catalogue<2.1.0,>=2.0.3->spacy) (7.2.0)\n",
            "Installing collected packages: blis, cymem, typing-extensions, catalogue, srsly, click, typer, spacy-legacy, murmurhash, preshed, smart-open, pathy, wasabi, thinc, spacy\n",
            "  Found existing installation: Click 7.0\n",
            "    Uninstalling Click-7.0:\n",
            "      Successfully uninstalled Click-7.0\n",
            "Successfully installed blis-0.7.4 catalogue-2.0.3 click-7.1.2 cymem-2.0.5 murmurhash-1.0.5 pathy-0.5.2 preshed-3.0.5 smart-open-3.0.0 spacy-3.0.6 spacy-legacy-3.0.5 srsly-2.4.1 thinc-8.0.3 typer-0.3.2 typing-extensions-3.7.4.3 wasabi-0.8.2\n"
          ],
          "name": "stdout"
        }
      ]
    },
    {
      "cell_type": "code",
      "metadata": {
        "id": "MQZTtbMuCnLz",
        "scrolled": true,
        "outputId": "54509666-f808-4a5e-d1fa-f5dabeadb431"
      },
      "source": [
        "!python -m spacy download en_core_web_sm"
      ],
      "execution_count": null,
      "outputs": [
        {
          "output_type": "stream",
          "text": [
            "Collecting en-core-web-sm==3.0.0 from https://github.com/explosion/spacy-models/releases/download/en_core_web_sm-3.0.0/en_core_web_sm-3.0.0-py3-none-any.whl#egg=en_core_web_sm==3.0.0\n",
            "  Downloading https://github.com/explosion/spacy-models/releases/download/en_core_web_sm-3.0.0/en_core_web_sm-3.0.0-py3-none-any.whl (13.7MB)\n",
            "Requirement already satisfied: spacy<3.1.0,>=3.0.0 in c:\\users\\ordinateur\\anaconda3\\lib\\site-packages (from en-core-web-sm==3.0.0) (3.0.6)\n",
            "Requirement already satisfied: packaging>=20.0 in c:\\users\\ordinateur\\anaconda3\\lib\\site-packages (from spacy<3.1.0,>=3.0.0->en-core-web-sm==3.0.0) (20.9)\n",
            "Requirement already satisfied: typing-extensions<4.0.0.0,>=3.7.4; python_version < \"3.8\" in c:\\users\\ordinateur\\anaconda3\\lib\\site-packages (from spacy<3.1.0,>=3.0.0->en-core-web-sm==3.0.0) (3.7.4.3)\n",
            "Requirement already satisfied: setuptools in c:\\users\\ordinateur\\anaconda3\\lib\\site-packages (from spacy<3.1.0,>=3.0.0->en-core-web-sm==3.0.0) (41.4.0)\n",
            "Requirement already satisfied: spacy-legacy<3.1.0,>=3.0.4 in c:\\users\\ordinateur\\anaconda3\\lib\\site-packages (from spacy<3.1.0,>=3.0.0->en-core-web-sm==3.0.0) (3.0.5)\n",
            "Requirement already satisfied: cymem<2.1.0,>=2.0.2 in c:\\users\\ordinateur\\anaconda3\\lib\\site-packages (from spacy<3.1.0,>=3.0.0->en-core-web-sm==3.0.0) (2.0.5)\n",
            "Requirement already satisfied: requests<3.0.0,>=2.13.0 in c:\\users\\ordinateur\\anaconda3\\lib\\site-packages (from spacy<3.1.0,>=3.0.0->en-core-web-sm==3.0.0) (2.22.0)\n",
            "Requirement already satisfied: pathy>=0.3.5 in c:\\users\\ordinateur\\anaconda3\\lib\\site-packages (from spacy<3.1.0,>=3.0.0->en-core-web-sm==3.0.0) (0.5.2)\n",
            "Requirement already satisfied: srsly<3.0.0,>=2.4.1 in c:\\users\\ordinateur\\anaconda3\\lib\\site-packages (from spacy<3.1.0,>=3.0.0->en-core-web-sm==3.0.0) (2.4.1)\n",
            "Requirement already satisfied: numpy>=1.15.0 in c:\\users\\ordinateur\\anaconda3\\lib\\site-packages (from spacy<3.1.0,>=3.0.0->en-core-web-sm==3.0.0) (1.16.5)\n",
            "Requirement already satisfied: tqdm<5.0.0,>=4.38.0 in c:\\users\\ordinateur\\anaconda3\\lib\\site-packages (from spacy<3.1.0,>=3.0.0->en-core-web-sm==3.0.0) (4.60.0)\n",
            "Requirement already satisfied: pydantic<1.8.0,>=1.7.1 in c:\\users\\ordinateur\\anaconda3\\lib\\site-packages (from spacy<3.1.0,>=3.0.0->en-core-web-sm==3.0.0) (1.7.3)\n",
            "Requirement already satisfied: catalogue<2.1.0,>=2.0.3 in c:\\users\\ordinateur\\anaconda3\\lib\\site-packages (from spacy<3.1.0,>=3.0.0->en-core-web-sm==3.0.0) (2.0.3)\n",
            "Requirement already satisfied: blis<0.8.0,>=0.4.0 in c:\\users\\ordinateur\\anaconda3\\lib\\site-packages (from spacy<3.1.0,>=3.0.0->en-core-web-sm==3.0.0) (0.7.4)\n",
            "Requirement already satisfied: typer<0.4.0,>=0.3.0 in c:\\users\\ordinateur\\anaconda3\\lib\\site-packages (from spacy<3.1.0,>=3.0.0->en-core-web-sm==3.0.0) (0.3.2)\n",
            "Requirement already satisfied: jinja2 in c:\\users\\ordinateur\\anaconda3\\lib\\site-packages (from spacy<3.1.0,>=3.0.0->en-core-web-sm==3.0.0) (2.10.3)\n",
            "Requirement already satisfied: wasabi<1.1.0,>=0.8.1 in c:\\users\\ordinateur\\anaconda3\\lib\\site-packages (from spacy<3.1.0,>=3.0.0->en-core-web-sm==3.0.0) (0.8.2)\n",
            "Requirement already satisfied: murmurhash<1.1.0,>=0.28.0 in c:\\users\\ordinateur\\anaconda3\\lib\\site-packages (from spacy<3.1.0,>=3.0.0->en-core-web-sm==3.0.0) (1.0.5)\n",
            "Requirement already satisfied: preshed<3.1.0,>=3.0.2 in c:\\users\\ordinateur\\anaconda3\\lib\\site-packages (from spacy<3.1.0,>=3.0.0->en-core-web-sm==3.0.0) (3.0.5)\n",
            "Requirement already satisfied: thinc<8.1.0,>=8.0.3 in c:\\users\\ordinateur\\anaconda3\\lib\\site-packages (from spacy<3.1.0,>=3.0.0->en-core-web-sm==3.0.0) (8.0.3)\n",
            "Requirement already satisfied: pyparsing>=2.0.2 in c:\\users\\ordinateur\\anaconda3\\lib\\site-packages (from packaging>=20.0->spacy<3.1.0,>=3.0.0->en-core-web-sm==3.0.0) (2.4.2)\n",
            "Requirement already satisfied: urllib3!=1.25.0,!=1.25.1,<1.26,>=1.21.1 in c:\\users\\ordinateur\\anaconda3\\lib\\site-packages (from requests<3.0.0,>=2.13.0->spacy<3.1.0,>=3.0.0->en-core-web-sm==3.0.0) (1.24.2)\n",
            "Requirement already satisfied: certifi>=2017.4.17 in c:\\users\\ordinateur\\anaconda3\\lib\\site-packages (from requests<3.0.0,>=2.13.0->spacy<3.1.0,>=3.0.0->en-core-web-sm==3.0.0) (2019.9.11)\n",
            "Requirement already satisfied: idna<2.9,>=2.5 in c:\\users\\ordinateur\\anaconda3\\lib\\site-packages (from requests<3.0.0,>=2.13.0->spacy<3.1.0,>=3.0.0->en-core-web-sm==3.0.0) (2.8)\n",
            "Requirement already satisfied: chardet<3.1.0,>=3.0.2 in c:\\users\\ordinateur\\anaconda3\\lib\\site-packages (from requests<3.0.0,>=2.13.0->spacy<3.1.0,>=3.0.0->en-core-web-sm==3.0.0) (3.0.4)\n",
            "Requirement already satisfied: smart-open<4.0.0,>=2.2.0 in c:\\users\\ordinateur\\anaconda3\\lib\\site-packages (from pathy>=0.3.5->spacy<3.1.0,>=3.0.0->en-core-web-sm==3.0.0) (3.0.0)\n",
            "Requirement already satisfied: zipp>=0.5; python_version < \"3.8\" in c:\\users\\ordinateur\\anaconda3\\lib\\site-packages (from catalogue<2.1.0,>=2.0.3->spacy<3.1.0,>=3.0.0->en-core-web-sm==3.0.0) (0.6.0)\n",
            "Requirement already satisfied: click<7.2.0,>=7.1.1 in c:\\users\\ordinateur\\anaconda3\\lib\\site-packages (from typer<0.4.0,>=0.3.0->spacy<3.1.0,>=3.0.0->en-core-web-sm==3.0.0) (7.1.2)\n",
            "Requirement already satisfied: MarkupSafe>=0.23 in c:\\users\\ordinateur\\anaconda3\\lib\\site-packages (from jinja2->spacy<3.1.0,>=3.0.0->en-core-web-sm==3.0.0) (1.1.1)\n",
            "Requirement already satisfied: more-itertools in c:\\users\\ordinateur\\anaconda3\\lib\\site-packages (from zipp>=0.5; python_version < \"3.8\"->catalogue<2.1.0,>=2.0.3->spacy<3.1.0,>=3.0.0->en-core-web-sm==3.0.0) (7.2.0)\n",
            "Installing collected packages: en-core-web-sm\n",
            "Successfully installed en-core-web-sm-3.0.0\n",
            "[+] Download and installation successful\n",
            "You can now load the package via spacy.load('en_core_web_sm')\n"
          ],
          "name": "stdout"
        }
      ]
    },
    {
      "cell_type": "markdown",
      "metadata": {
        "id": "caMZ6mzWPmhZ"
      },
      "source": [
        "### **Import and Models**"
      ]
    },
    {
      "cell_type": "code",
      "metadata": {
        "id": "h3rERN8oHufV"
      },
      "source": [
        "# Import and Models : https://spacy.io/usage/models\n",
        "import spacy\n",
        "from spacy import displacy\n",
        "\n",
        "nlp = spacy.load('en_core_web_sm')"
      ],
      "execution_count": null,
      "outputs": []
    },
    {
      "cell_type": "markdown",
      "metadata": {
        "id": "ZXB9DsgxPwB8"
      },
      "source": [
        "### **Text Data**"
      ]
    },
    {
      "cell_type": "code",
      "metadata": {
        "id": "MorJT3By6Rqj"
      },
      "source": [
        "# Text\n",
        "text = \"I prefer the morning flight through Denver.\""
      ],
      "execution_count": null,
      "outputs": []
    },
    {
      "cell_type": "markdown",
      "metadata": {
        "id": "6bYfz-irP3sC"
      },
      "source": [
        "### **SpaCy NLP Pipeline**"
      ]
    },
    {
      "cell_type": "code",
      "metadata": {
        "id": "fTzcddYC6kER"
      },
      "source": [
        "doc = nlp(text)"
      ],
      "execution_count": null,
      "outputs": []
    },
    {
      "cell_type": "code",
      "metadata": {
        "colab": {
          "base_uri": "https://localhost:8080/"
        },
        "id": "lhPs4dKcDxrJ",
        "outputId": "51ddeae4-3627-4604-ac9a-86f353e3df16"
      },
      "source": [
        "doc"
      ],
      "execution_count": null,
      "outputs": [
        {
          "output_type": "execute_result",
          "data": {
            "text/plain": [
              "I prefer the morning flight through Denver."
            ]
          },
          "metadata": {
            "tags": []
          },
          "execution_count": 5
        }
      ]
    },
    {
      "cell_type": "code",
      "metadata": {
        "colab": {
          "base_uri": "https://localhost:8080/"
        },
        "id": "V_a8aKOsEzBy",
        "outputId": "d9dff269-19d9-4fbf-d651-49afa6000bbb"
      },
      "source": [
        "# Pipeline information - les noms des composants de pipeline\n",
        "print(nlp.pipe_names)"
      ],
      "execution_count": null,
      "outputs": [
        {
          "output_type": "stream",
          "text": [
            "['tok2vec', 'tagger', 'parser', 'ner', 'attribute_ruler', 'lemmatizer']\n"
          ],
          "name": "stdout"
        }
      ]
    },
    {
      "cell_type": "code",
      "metadata": {
        "colab": {
          "base_uri": "https://localhost:8080/"
        },
        "id": "IrOgjt3uD6uq",
        "outputId": "8f618246-6fbf-40e1-b260-79d4a4671ede"
      },
      "source": [
        "# Pipeline information\n",
        "print(nlp.pipeline)"
      ],
      "execution_count": null,
      "outputs": [
        {
          "output_type": "stream",
          "text": [
            "[('tok2vec', <spacy.pipeline.tok2vec.Tok2Vec object at 0x000002B28FD41888>), ('tagger', <spacy.pipeline.tagger.Tagger object at 0x000002B28FD41648>), ('parser', <spacy.pipeline.dep_parser.DependencyParser object at 0x000002B28EABBD68>), ('ner', <spacy.pipeline.ner.EntityRecognizer object at 0x000002B28EABBEB8>), ('attribute_ruler', <spacy.pipeline.attributeruler.AttributeRuler object at 0x000002B28FDF8D48>), ('lemmatizer', <spacy.lang.en.lemmatizer.EnglishLemmatizer object at 0x000002B28FE08348>)]\n"
          ],
          "name": "stdout"
        }
      ]
    },
    {
      "cell_type": "markdown",
      "metadata": {
        "id": "SPlrj63RP-Fp"
      },
      "source": [
        "### **Tokenization**"
      ]
    },
    {
      "cell_type": "code",
      "metadata": {
        "colab": {
          "base_uri": "https://localhost:8080/"
        },
        "id": "L4QMX8zE56QP",
        "outputId": "6d4fc2d1-330d-4dad-e950-c47c2aaa9209"
      },
      "source": [
        "for token in doc:\n",
        "    print(token.text)"
      ],
      "execution_count": null,
      "outputs": [
        {
          "output_type": "stream",
          "text": [
            "I\n",
            "prefer\n",
            "the\n",
            "morning\n",
            "flight\n",
            "through\n",
            "Denver\n",
            ".\n"
          ],
          "name": "stdout"
        }
      ]
    },
    {
      "cell_type": "code",
      "metadata": {
        "id": "X5Rz43TPWCng"
      },
      "source": [
        "[token.text for token in doc]"
      ],
      "execution_count": null,
      "outputs": []
    },
    {
      "cell_type": "markdown",
      "metadata": {
        "id": "IdFfALAkQF2g"
      },
      "source": [
        "### **Part-of-Speech Tagging**:   `token.pos_`    et    `token.tag_`"
      ]
    },
    {
      "cell_type": "markdown",
      "metadata": {
        "id": "xIg32vProjDe"
      },
      "source": [
        "**Tag types**:\n",
        "\n",
        "-Coarse-grained (**Universal Part-of-Speech Tagset**) : Noun, verb, adjective, etc. https://universaldependencies.org/u/pos/\n",
        "\n",
        "-Fine-grained (**Penn Treebank tagset**): https://www.ling.upenn.edu/courses/Fall_2003/ling001/penn_treebank_pos.html\n",
        "    ● noun-proper-singular, noun-proper-plural, nouncommon-mass, ..\n",
        "    ● verb-past, verb-present-3rd, verb-base, ...\n",
        "    ● adjective-simple, adjective-comparative, ..."
      ]
    },
    {
      "cell_type": "code",
      "metadata": {
        "colab": {
          "base_uri": "https://localhost:8080/"
        },
        "id": "zcHAsVbMIWpB",
        "outputId": "542758a9-46fb-499d-bef9-9e5017438743"
      },
      "source": [
        "doc"
      ],
      "execution_count": null,
      "outputs": [
        {
          "output_type": "execute_result",
          "data": {
            "text/plain": [
              "I prefer the morning flight through Denver."
            ]
          },
          "metadata": {
            "tags": []
          },
          "execution_count": 9
        }
      ]
    },
    {
      "cell_type": "code",
      "metadata": {
        "colab": {
          "base_uri": "https://localhost:8080/"
        },
        "id": "zUjaHCCy59QB",
        "outputId": "96a3b340-71f0-4b2d-c529-4fc66529ec0c"
      },
      "source": [
        "# TEXT  -   LEMMA  -  Coarse-grained POS TAG -   Fine-grained POS TAG\n",
        "\n",
        "for token in doc:\n",
        "    print(f'{token.text:{15}} {token.lemma_:{15}}  {token.pos_:{15}} {token.tag_}')"
      ],
      "execution_count": null,
      "outputs": [
        {
          "output_type": "stream",
          "text": [
            "I               I                PRON            PRP\n",
            "prefer          prefer           VERB            VBP\n",
            "the             the              DET             DT\n",
            "morning         morning          NOUN            NN\n",
            "flight          flight           NOUN            NN\n",
            "through         through          ADP             IN\n",
            "Denver          Denver           PROPN           NNP\n",
            ".               .                PUNCT           .\n"
          ],
          "name": "stdout"
        }
      ]
    },
    {
      "cell_type": "code",
      "metadata": {
        "colab": {
          "base_uri": "https://localhost:8080/",
          "height": 35
        },
        "id": "KxxqddsDlcWb",
        "outputId": "62a2bcb8-4989-484d-ff89-4b22b723f9ad"
      },
      "source": [
        "# Label explanations\n",
        "spacy.explain(\"VBP\")"
      ],
      "execution_count": null,
      "outputs": [
        {
          "output_type": "execute_result",
          "data": {
            "text/plain": [
              "'verb, non-3rd person singular present'"
            ]
          },
          "metadata": {
            "tags": []
          },
          "execution_count": 11
        }
      ]
    },
    {
      "cell_type": "code",
      "metadata": {
        "scrolled": false,
        "id": "D01ENEeYojDc",
        "outputId": "cd93a4c3-644f-4b17-a544-60951cdfd02f"
      },
      "source": [
        "spacy.explain(\"VERB\")"
      ],
      "execution_count": null,
      "outputs": [
        {
          "output_type": "execute_result",
          "data": {
            "text/plain": [
              "'verb'"
            ]
          },
          "metadata": {
            "tags": []
          },
          "execution_count": 12
        }
      ]
    },
    {
      "cell_type": "code",
      "metadata": {
        "colab": {
          "base_uri": "https://localhost:8080/"
        },
        "id": "CgjD7OhFngmc",
        "outputId": "f3eeca7f-a4e6-46ae-a18f-3151a4d1ad7e"
      },
      "source": [
        "# Coarse-grained part-of-speech tags  :  token.pos_\n",
        "[token.pos_ for token in doc]"
      ],
      "execution_count": null,
      "outputs": [
        {
          "output_type": "execute_result",
          "data": {
            "text/plain": [
              "['PRON', 'VERB', 'DET', 'NOUN', 'NOUN', 'ADP', 'PROPN', 'PUNCT']"
            ]
          },
          "metadata": {
            "tags": []
          },
          "execution_count": 13
        }
      ]
    },
    {
      "cell_type": "code",
      "metadata": {
        "colab": {
          "base_uri": "https://localhost:8080/"
        },
        "id": "RUg4MoArnjz4",
        "outputId": "96f144b7-a229-4fe3-8c28-855af58009a5"
      },
      "source": [
        "# Fine-grained part-of-speech tags  :   token.tag_\n",
        "[token.tag_ for token in doc]"
      ],
      "execution_count": null,
      "outputs": [
        {
          "output_type": "execute_result",
          "data": {
            "text/plain": [
              "['PRP', 'VBP', 'DT', 'NN', 'NN', 'IN', 'NNP', '.']"
            ]
          },
          "metadata": {
            "tags": []
          },
          "execution_count": 14
        }
      ]
    },
    {
      "cell_type": "markdown",
      "metadata": {
        "id": "ufcy-XRgQPko"
      },
      "source": [
        "### **Dependency Parsing**: `token.dep_`   et  `token.head`"
      ]
    },
    {
      "cell_type": "code",
      "metadata": {
        "colab": {
          "base_uri": "https://localhost:8080/"
        },
        "id": "KWEesddfIYrw",
        "outputId": "1ebac43c-8ec3-438b-b279-d5b5ba0ffc22"
      },
      "source": [
        "doc"
      ],
      "execution_count": null,
      "outputs": [
        {
          "output_type": "execute_result",
          "data": {
            "text/plain": [
              "I prefer the morning flight through Denver."
            ]
          },
          "metadata": {
            "tags": []
          },
          "execution_count": 15
        }
      ]
    },
    {
      "cell_type": "code",
      "metadata": {
        "colab": {
          "base_uri": "https://localhost:8080/"
        },
        "id": "STEPfax0nBm7",
        "outputId": "8a88f8af-31c1-4221-9d26-13736a0c1e37"
      },
      "source": [
        "#  TEXT   -   Syntactic Dependency Label -   Syntactic head token\n",
        "for token in doc:\n",
        "  print(f'{token.text:{15}} {token.dep_:{20}} {token.head.text}')"
      ],
      "execution_count": null,
      "outputs": [
        {
          "output_type": "stream",
          "text": [
            "I               nsubj                prefer\n",
            "prefer          ROOT                 prefer\n",
            "the             det                  flight\n",
            "morning         compound             flight\n",
            "flight          dobj                 prefer\n",
            "through         prep                 flight\n",
            "Denver          pobj                 through\n",
            ".               punct                prefer\n"
          ],
          "name": "stdout"
        }
      ]
    },
    {
      "cell_type": "code",
      "metadata": {
        "colab": {
          "base_uri": "https://localhost:8080/",
          "height": 35
        },
        "id": "zvH_JvJxluSz",
        "outputId": "1abf70e9-a498-4a16-8455-a00806830511"
      },
      "source": [
        "# Label explanations\n",
        "spacy.explain(\"nsubj\")"
      ],
      "execution_count": null,
      "outputs": [
        {
          "output_type": "execute_result",
          "data": {
            "text/plain": [
              "'nominal subject'"
            ]
          },
          "metadata": {
            "tags": []
          },
          "execution_count": 17
        }
      ]
    },
    {
      "cell_type": "code",
      "metadata": {
        "colab": {
          "base_uri": "https://localhost:8080/"
        },
        "id": "D05ds_48_I8I",
        "outputId": "c81b506b-edbc-438f-9179-1593e4677301"
      },
      "source": [
        "# Finding a verb with a subject\n",
        "from spacy.symbols import nsubj, VERB\n",
        "\n",
        "verbs = []\n",
        "for possible_subject in doc:\n",
        "    if possible_subject.dep == nsubj and possible_subject.head.pos == VERB:\n",
        "        verbs.append(possible_subject.head)\n",
        "print(verbs)"
      ],
      "execution_count": null,
      "outputs": [
        {
          "output_type": "stream",
          "text": [
            "[prefer]\n"
          ],
          "name": "stdout"
        }
      ]
    },
    {
      "cell_type": "code",
      "metadata": {
        "id": "j_M3Up-iojDo",
        "outputId": "adfeae2e-340c-49e8-f85b-f69741dd646e"
      },
      "source": [
        "# Tree visualization using nltk\n",
        "\n",
        "from nltk import Tree\n",
        "\n",
        "doc2 = nlp(\"I prefer the morning flight through Denver\")\n",
        "\n",
        "def tok_format(tok):\n",
        "    return \"_\".join([tok.orth_, tok.pos_])\n",
        "\n",
        "\n",
        "def to_nltk_tree(node):\n",
        "    if node.n_lefts + node.n_rights > 0:\n",
        "        return Tree(tok_format(node), [to_nltk_tree(child) for child in node.children])\n",
        "    else:\n",
        "        return tok_format(node)\n",
        "\n",
        "[to_nltk_tree(sent.root).pretty_print() for sent in doc2.sents]"
      ],
      "execution_count": null,
      "outputs": [
        {
          "output_type": "stream",
          "text": [
            "               prefer_VERB                          \n",
            "   _________________|___________                     \n",
            "  |                        flight_NOUN              \n",
            "  |        _____________________|____________        \n",
            "  |       |                     |       through_ADP \n",
            "  |       |                     |            |       \n",
            "I_PRON the_DET             morning_NOUN Denver_PROPN\n",
            "\n"
          ],
          "name": "stdout"
        },
        {
          "output_type": "execute_result",
          "data": {
            "text/plain": [
              "[None]"
            ]
          },
          "metadata": {
            "tags": []
          },
          "execution_count": 19
        }
      ]
    },
    {
      "cell_type": "markdown",
      "metadata": {
        "id": "5gDSbBxdGiEV"
      },
      "source": [
        "### **Shallow Parsing - Chunking - Constituants extracting**  :  `doc.noun_chunks`"
      ]
    },
    {
      "cell_type": "markdown",
      "metadata": {
        "id": "cwEJ79DGHWAC"
      },
      "source": [
        "Shallow parsing, or chunking, is the process of extracting phrases from text. Chunking groups adjacent tokens into phrases on the basis of their POS tags. There are some standard well-known chunks such as noun phrases, verb phrases, and prepositional phrases."
      ]
    },
    {
      "cell_type": "code",
      "metadata": {
        "colab": {
          "base_uri": "https://localhost:8080/"
        },
        "id": "t3EBjecAIayv",
        "outputId": "fd2f09f0-25bb-48d4-a6d4-3c14cacbd033"
      },
      "source": [
        "doc"
      ],
      "execution_count": null,
      "outputs": [
        {
          "output_type": "execute_result",
          "data": {
            "text/plain": [
              "I prefer the morning flight through Denver."
            ]
          },
          "metadata": {
            "tags": []
          },
          "execution_count": 20
        }
      ]
    },
    {
      "cell_type": "code",
      "metadata": {
        "colab": {
          "base_uri": "https://localhost:8080/"
        },
        "id": "ifjB17Fi6HKK",
        "outputId": "d99e9767-53ed-45f8-bac9-3b91b3461d25"
      },
      "source": [
        "# TEXT   ROOT.TEXT   ROOT.DEP_   ROOT.HEAD.TEXT\n",
        "for chunk in doc.noun_chunks:\n",
        "    print(f'{chunk.text:{25}} {chunk.root.text:{25}} {chunk.root.dep_:{25}} {chunk.root.head.text}')"
      ],
      "execution_count": null,
      "outputs": [
        {
          "output_type": "stream",
          "text": [
            "I                         I                         nsubj                     prefer\n",
            "the morning flight        flight                    dobj                      prefer\n",
            "Denver                    Denver                    pobj                      through\n"
          ],
          "name": "stdout"
        }
      ]
    },
    {
      "cell_type": "markdown",
      "metadata": {
        "id": "34sG52fCQWZv"
      },
      "source": [
        "### **Dependency parsing visualization**"
      ]
    },
    {
      "cell_type": "markdown",
      "metadata": {
        "id": "q_VQIk-8Hr97"
      },
      "source": [
        "If you're in a **Jupyter notebook**, use **displacy.render**. Otherwise, use **displacy.serve** to start a web server and show the visualization in your browser."
      ]
    },
    {
      "cell_type": "code",
      "metadata": {
        "colab": {
          "base_uri": "https://localhost:8080/"
        },
        "id": "QSgJHhLT5_6K",
        "outputId": "bc8923ab-5dc8-4201-a213-9cd0fb289cd7"
      },
      "source": [
        "displacy.render(doc, style='dep', jupyter=True)\n",
        "#displacy.serve(doc, style=\"dep\")"
      ],
      "execution_count": null,
      "outputs": [
        {
          "output_type": "display_data",
          "data": {
            "text/html": [
              "<span class=\"tex2jax_ignore\"><svg xmlns=\"http://www.w3.org/2000/svg\" xmlns:xlink=\"http://www.w3.org/1999/xlink\" xml:lang=\"en\" id=\"8c71e9223c964afba59e3f270bb84182-0\" class=\"displacy\" width=\"1275\" height=\"399.5\" direction=\"ltr\" style=\"max-width: none; height: 399.5px; color: #000000; background: #ffffff; font-family: Arial; direction: ltr\">\n",
              "<text class=\"displacy-token\" fill=\"currentColor\" text-anchor=\"middle\" y=\"309.5\">\n",
              "    <tspan class=\"displacy-word\" fill=\"currentColor\" x=\"50\">I</tspan>\n",
              "    <tspan class=\"displacy-tag\" dy=\"2em\" fill=\"currentColor\" x=\"50\">PRON</tspan>\n",
              "</text>\n",
              "\n",
              "<text class=\"displacy-token\" fill=\"currentColor\" text-anchor=\"middle\" y=\"309.5\">\n",
              "    <tspan class=\"displacy-word\" fill=\"currentColor\" x=\"225\">prefer</tspan>\n",
              "    <tspan class=\"displacy-tag\" dy=\"2em\" fill=\"currentColor\" x=\"225\">VERB</tspan>\n",
              "</text>\n",
              "\n",
              "<text class=\"displacy-token\" fill=\"currentColor\" text-anchor=\"middle\" y=\"309.5\">\n",
              "    <tspan class=\"displacy-word\" fill=\"currentColor\" x=\"400\">the</tspan>\n",
              "    <tspan class=\"displacy-tag\" dy=\"2em\" fill=\"currentColor\" x=\"400\">DET</tspan>\n",
              "</text>\n",
              "\n",
              "<text class=\"displacy-token\" fill=\"currentColor\" text-anchor=\"middle\" y=\"309.5\">\n",
              "    <tspan class=\"displacy-word\" fill=\"currentColor\" x=\"575\">morning</tspan>\n",
              "    <tspan class=\"displacy-tag\" dy=\"2em\" fill=\"currentColor\" x=\"575\">NOUN</tspan>\n",
              "</text>\n",
              "\n",
              "<text class=\"displacy-token\" fill=\"currentColor\" text-anchor=\"middle\" y=\"309.5\">\n",
              "    <tspan class=\"displacy-word\" fill=\"currentColor\" x=\"750\">flight</tspan>\n",
              "    <tspan class=\"displacy-tag\" dy=\"2em\" fill=\"currentColor\" x=\"750\">NOUN</tspan>\n",
              "</text>\n",
              "\n",
              "<text class=\"displacy-token\" fill=\"currentColor\" text-anchor=\"middle\" y=\"309.5\">\n",
              "    <tspan class=\"displacy-word\" fill=\"currentColor\" x=\"925\">through</tspan>\n",
              "    <tspan class=\"displacy-tag\" dy=\"2em\" fill=\"currentColor\" x=\"925\">ADP</tspan>\n",
              "</text>\n",
              "\n",
              "<text class=\"displacy-token\" fill=\"currentColor\" text-anchor=\"middle\" y=\"309.5\">\n",
              "    <tspan class=\"displacy-word\" fill=\"currentColor\" x=\"1100\">Denver.</tspan>\n",
              "    <tspan class=\"displacy-tag\" dy=\"2em\" fill=\"currentColor\" x=\"1100\">PROPN</tspan>\n",
              "</text>\n",
              "\n",
              "<g class=\"displacy-arrow\">\n",
              "    <path class=\"displacy-arc\" id=\"arrow-8c71e9223c964afba59e3f270bb84182-0-0\" stroke-width=\"2px\" d=\"M70,264.5 C70,177.0 215.0,177.0 215.0,264.5\" fill=\"none\" stroke=\"currentColor\"/>\n",
              "    <text dy=\"1.25em\" style=\"font-size: 0.8em; letter-spacing: 1px\">\n",
              "        <textPath xlink:href=\"#arrow-8c71e9223c964afba59e3f270bb84182-0-0\" class=\"displacy-label\" startOffset=\"50%\" side=\"left\" fill=\"currentColor\" text-anchor=\"middle\">nsubj</textPath>\n",
              "    </text>\n",
              "    <path class=\"displacy-arrowhead\" d=\"M70,266.5 L62,254.5 78,254.5\" fill=\"currentColor\"/>\n",
              "</g>\n",
              "\n",
              "<g class=\"displacy-arrow\">\n",
              "    <path class=\"displacy-arc\" id=\"arrow-8c71e9223c964afba59e3f270bb84182-0-1\" stroke-width=\"2px\" d=\"M420,264.5 C420,89.5 745.0,89.5 745.0,264.5\" fill=\"none\" stroke=\"currentColor\"/>\n",
              "    <text dy=\"1.25em\" style=\"font-size: 0.8em; letter-spacing: 1px\">\n",
              "        <textPath xlink:href=\"#arrow-8c71e9223c964afba59e3f270bb84182-0-1\" class=\"displacy-label\" startOffset=\"50%\" side=\"left\" fill=\"currentColor\" text-anchor=\"middle\">det</textPath>\n",
              "    </text>\n",
              "    <path class=\"displacy-arrowhead\" d=\"M420,266.5 L412,254.5 428,254.5\" fill=\"currentColor\"/>\n",
              "</g>\n",
              "\n",
              "<g class=\"displacy-arrow\">\n",
              "    <path class=\"displacy-arc\" id=\"arrow-8c71e9223c964afba59e3f270bb84182-0-2\" stroke-width=\"2px\" d=\"M595,264.5 C595,177.0 740.0,177.0 740.0,264.5\" fill=\"none\" stroke=\"currentColor\"/>\n",
              "    <text dy=\"1.25em\" style=\"font-size: 0.8em; letter-spacing: 1px\">\n",
              "        <textPath xlink:href=\"#arrow-8c71e9223c964afba59e3f270bb84182-0-2\" class=\"displacy-label\" startOffset=\"50%\" side=\"left\" fill=\"currentColor\" text-anchor=\"middle\">compound</textPath>\n",
              "    </text>\n",
              "    <path class=\"displacy-arrowhead\" d=\"M595,266.5 L587,254.5 603,254.5\" fill=\"currentColor\"/>\n",
              "</g>\n",
              "\n",
              "<g class=\"displacy-arrow\">\n",
              "    <path class=\"displacy-arc\" id=\"arrow-8c71e9223c964afba59e3f270bb84182-0-3\" stroke-width=\"2px\" d=\"M245,264.5 C245,2.0 750.0,2.0 750.0,264.5\" fill=\"none\" stroke=\"currentColor\"/>\n",
              "    <text dy=\"1.25em\" style=\"font-size: 0.8em; letter-spacing: 1px\">\n",
              "        <textPath xlink:href=\"#arrow-8c71e9223c964afba59e3f270bb84182-0-3\" class=\"displacy-label\" startOffset=\"50%\" side=\"left\" fill=\"currentColor\" text-anchor=\"middle\">dobj</textPath>\n",
              "    </text>\n",
              "    <path class=\"displacy-arrowhead\" d=\"M750.0,266.5 L758.0,254.5 742.0,254.5\" fill=\"currentColor\"/>\n",
              "</g>\n",
              "\n",
              "<g class=\"displacy-arrow\">\n",
              "    <path class=\"displacy-arc\" id=\"arrow-8c71e9223c964afba59e3f270bb84182-0-4\" stroke-width=\"2px\" d=\"M770,264.5 C770,177.0 915.0,177.0 915.0,264.5\" fill=\"none\" stroke=\"currentColor\"/>\n",
              "    <text dy=\"1.25em\" style=\"font-size: 0.8em; letter-spacing: 1px\">\n",
              "        <textPath xlink:href=\"#arrow-8c71e9223c964afba59e3f270bb84182-0-4\" class=\"displacy-label\" startOffset=\"50%\" side=\"left\" fill=\"currentColor\" text-anchor=\"middle\">prep</textPath>\n",
              "    </text>\n",
              "    <path class=\"displacy-arrowhead\" d=\"M915.0,266.5 L923.0,254.5 907.0,254.5\" fill=\"currentColor\"/>\n",
              "</g>\n",
              "\n",
              "<g class=\"displacy-arrow\">\n",
              "    <path class=\"displacy-arc\" id=\"arrow-8c71e9223c964afba59e3f270bb84182-0-5\" stroke-width=\"2px\" d=\"M945,264.5 C945,177.0 1090.0,177.0 1090.0,264.5\" fill=\"none\" stroke=\"currentColor\"/>\n",
              "    <text dy=\"1.25em\" style=\"font-size: 0.8em; letter-spacing: 1px\">\n",
              "        <textPath xlink:href=\"#arrow-8c71e9223c964afba59e3f270bb84182-0-5\" class=\"displacy-label\" startOffset=\"50%\" side=\"left\" fill=\"currentColor\" text-anchor=\"middle\">pobj</textPath>\n",
              "    </text>\n",
              "    <path class=\"displacy-arrowhead\" d=\"M1090.0,266.5 L1098.0,254.5 1082.0,254.5\" fill=\"currentColor\"/>\n",
              "</g>\n",
              "</svg></span>"
            ],
            "text/plain": [
              "<IPython.core.display.HTML object>"
            ]
          },
          "metadata": {
            "tags": []
          }
        }
      ]
    },
    {
      "cell_type": "markdown",
      "metadata": {
        "id": "v93pKe8yQd9e"
      },
      "source": [
        "### **Named Entity Recognition** :    `doc.ents`"
      ]
    },
    {
      "cell_type": "code",
      "metadata": {
        "colab": {
          "base_uri": "https://localhost:8080/"
        },
        "id": "LsJCKvgAIctH",
        "outputId": "e0b0ddff-6442-4b1a-d3da-044faeabc87d"
      },
      "source": [
        "doc"
      ],
      "execution_count": null,
      "outputs": [
        {
          "output_type": "execute_result",
          "data": {
            "text/plain": [
              "I prefer the morning flight through Denver."
            ]
          },
          "metadata": {
            "tags": []
          },
          "execution_count": 23
        }
      ]
    },
    {
      "cell_type": "code",
      "metadata": {
        "colab": {
          "base_uri": "https://localhost:8080/"
        },
        "id": "pm4SYMJO6JW6",
        "outputId": "690e8b9d-70a9-4479-8e6d-b5b1fc1e16ce"
      },
      "source": [
        "# TEXT  -  LABEL DESCRIPTION\n",
        "for ent in doc.ents:\n",
        "    print(ent.text, ent.label_)"
      ],
      "execution_count": null,
      "outputs": [
        {
          "output_type": "stream",
          "text": [
            "the morning TIME\n",
            "Denver GPE\n"
          ],
          "name": "stdout"
        }
      ]
    },
    {
      "cell_type": "code",
      "metadata": {
        "colab": {
          "base_uri": "https://localhost:8080/"
        },
        "id": "jM7CeLt6mkiD",
        "outputId": "2b13d29c-1ef0-4065-a38c-105d752b6fe2"
      },
      "source": [
        "# TEXT - LABEL DESCRIPTION \n",
        "[(ent.text, ent.label_) for ent in doc.ents]"
      ],
      "execution_count": null,
      "outputs": [
        {
          "output_type": "execute_result",
          "data": {
            "text/plain": [
              "[('the morning', 'TIME'), ('Denver', 'GPE')]"
            ]
          },
          "metadata": {
            "tags": []
          },
          "execution_count": 25
        }
      ]
    },
    {
      "cell_type": "code",
      "metadata": {
        "colab": {
          "base_uri": "https://localhost:8080/",
          "height": 35
        },
        "id": "7NndGtcOl8BC",
        "outputId": "31bd0cf5-1685-46a1-eb60-afa5e7035e47"
      },
      "source": [
        "# Label explanations\n",
        "spacy.explain(\"GPE\")"
      ],
      "execution_count": null,
      "outputs": [
        {
          "output_type": "execute_result",
          "data": {
            "text/plain": [
              "'Countries, cities, states'"
            ]
          },
          "metadata": {
            "tags": []
          },
          "execution_count": 26
        }
      ]
    },
    {
      "cell_type": "markdown",
      "metadata": {
        "id": "ofVpj-EDKGmu"
      },
      "source": [
        "### **Named Entity Recognition Visualization**"
      ]
    },
    {
      "cell_type": "code",
      "metadata": {
        "colab": {
          "base_uri": "https://localhost:8080/"
        },
        "id": "8JGbLCQK-509",
        "outputId": "f3c0867f-f014-473f-e3aa-a51034e5e9b4"
      },
      "source": [
        "# Visualizinf NER\n",
        "displacy.render(doc, style=\"ent\", jupyter=True)\n",
        "#displacy.serve(doc, style=\"ent\")"
      ],
      "execution_count": null,
      "outputs": [
        {
          "output_type": "display_data",
          "data": {
            "text/html": [
              "<span class=\"tex2jax_ignore\"><div class=\"entities\" style=\"line-height: 2.5; direction: ltr\">I prefer \n",
              "<mark class=\"entity\" style=\"background: #bfe1d9; padding: 0.45em 0.6em; margin: 0 0.25em; line-height: 1; border-radius: 0.35em;\">\n",
              "    the morning\n",
              "    <span style=\"font-size: 0.8em; font-weight: bold; line-height: 1; border-radius: 0.35em; vertical-align: middle; margin-left: 0.5rem\">TIME</span>\n",
              "</mark>\n",
              " flight through \n",
              "<mark class=\"entity\" style=\"background: #feca74; padding: 0.45em 0.6em; margin: 0 0.25em; line-height: 1; border-radius: 0.35em;\">\n",
              "    Denver\n",
              "    <span style=\"font-size: 0.8em; font-weight: bold; line-height: 1; border-radius: 0.35em; vertical-align: middle; margin-left: 0.5rem\">GPE</span>\n",
              "</mark>\n",
              ".</div></span>"
            ],
            "text/plain": [
              "<IPython.core.display.HTML object>"
            ]
          },
          "metadata": {
            "tags": []
          }
        }
      ]
    },
    {
      "cell_type": "markdown",
      "metadata": {
        "id": "lAWgOdZNojDz"
      },
      "source": [
        "### **Parsing - Syntaxic Parse Tree (Consituency-Based Parse Tree)**"
      ]
    },
    {
      "cell_type": "code",
      "metadata": {
        "id": "JZHSFKnAojD0"
      },
      "source": [
        "import nltk "
      ],
      "execution_count": null,
      "outputs": []
    },
    {
      "cell_type": "code",
      "metadata": {
        "id": "jhjWMetYojD1"
      },
      "source": [
        "# Grammar CFG Declaration\n",
        "\n",
        "grammar1 = nltk.CFG.fromstring(\"\"\"\n",
        "  S -> NP VP\n",
        "  VP -> V NP | V NP PP\n",
        "  PP -> P NP\n",
        "  NP -> Det N | Det N PP\n",
        "  V -> \"saw\" | \"ate\" | \"walked\"\n",
        "  NP -> \"John\" | \"Mary\" | \"Bob\" \n",
        "  Det -> \"a\" | \"an\" | \"the\" | \"my\"\n",
        "  N -> \"girl\" | \"dog\" | \"cat\" | \"telescope\" | \"park\" | \"bone\"\n",
        "  P -> \"in\" | \"on\" | \"by\" | \"with\"\n",
        "  \"\"\")\n",
        "\n",
        "# Algo - RecursiveDescentParser : https://www.nltk.org/api/nltk.parse.html\n",
        "\n",
        "rd_parser = nltk.RecursiveDescentParser(grammar1)"
      ],
      "execution_count": null,
      "outputs": []
    },
    {
      "cell_type": "code",
      "metadata": {
        "colab": {
          "base_uri": "https://localhost:8080/"
        },
        "id": "Bov7nRqRojD2",
        "outputId": "a17be94e-d02a-489b-b288-c6370f3029f0"
      },
      "source": [
        "# Text and Parse Tree\n",
        "sent = ['the', 'dog', 'ate', 'the', 'bone']\n",
        "\n",
        "for tree in rd_parser.parse(sent):\n",
        "    print(tree)"
      ],
      "execution_count": null,
      "outputs": [
        {
          "output_type": "stream",
          "text": [
            "(S (NP (Det the) (N dog)) (VP (V ate) (NP (Det the) (N bone))))\n"
          ],
          "name": "stdout"
        }
      ]
    },
    {
      "cell_type": "code",
      "metadata": {
        "colab": {
          "base_uri": "https://localhost:8080/"
        },
        "id": "rhBnzTZbojD4",
        "outputId": "b5514c39-e275-40cc-9d63-12ff164c921f"
      },
      "source": [
        "# Cas - Ambiguïté structurelle\n",
        "sent = ['John', 'saw', 'a', 'girl', 'with', 'a', 'telescope']\n",
        "\n",
        "for tree in rd_parser.parse(sent):\n",
        "    print(tree)"
      ],
      "execution_count": null,
      "outputs": [
        {
          "output_type": "stream",
          "text": [
            "(S\n",
            "  (NP John)\n",
            "  (VP\n",
            "    (V saw)\n",
            "    (NP (Det a) (N girl) (PP (P with) (NP (Det a) (N telescope))))))\n",
            "(S\n",
            "  (NP John)\n",
            "  (VP\n",
            "    (V saw)\n",
            "    (NP (Det a) (N girl))\n",
            "    (PP (P with) (NP (Det a) (N telescope)))))\n"
          ],
          "name": "stdout"
        }
      ]
    },
    {
      "cell_type": "code",
      "metadata": {
        "id": "5pOf-es1ojD6"
      },
      "source": [
        "# Tree Visualization\n",
        "\n",
        "def parse(sent):\n",
        "    #Returns nltk.Tree.Tree format output\n",
        "    a = []  \n",
        "    parser = nltk.RecursiveDescentParser(grammar1)\n",
        "    for tree in parser.parse(sent):\n",
        "        a.append(tree)\n",
        "    return(a[0]) \n",
        "\n",
        "sentence = ['the', 'dog', 'ate', 'the', 'bone']\n",
        "# sentence = ['John', 'saw', 'a', 'girl', 'with', 'a', 'telescope']\n",
        "\n",
        "#Gives output as structured tree   \n",
        "print(parse(sentence))\n",
        "\n",
        "#Gives tree diagrem in tkinter window\n",
        "parse(sentence).draw()"
      ],
      "execution_count": null,
      "outputs": []
    }
  ]
}