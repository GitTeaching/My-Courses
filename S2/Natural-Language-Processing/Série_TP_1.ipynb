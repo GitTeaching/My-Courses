{
 "cells": [
  {
   "cell_type": "markdown",
   "metadata": {},
   "source": [
    "# Série TP 1 - TALN et FDD"
   ]
  },
  {
   "cell_type": "markdown",
   "metadata": {},
   "source": [
    "### Partie 1 - Introduction et bases du language Python"
   ]
  },
  {
   "cell_type": "code",
   "execution_count": 1,
   "metadata": {
    "colab": {
     "base_uri": "https://localhost:8080/",
     "height": 34
    },
    "colab_type": "code",
    "executionInfo": {
     "elapsed": 1427,
     "status": "ok",
     "timestamp": 1598176629829,
     "user": {
      "displayName": "Keep Music Weird",
      "photoUrl": "https://lh3.googleusercontent.com/a-/AOh14Gi9IyYwcNDdJY9RrMvpMOuSI7FIspu0Dy8OyRZaVg=s64",
      "userId": "00063312648037822198"
     },
     "user_tz": -60
    },
    "id": "L27z5_Bmv24D",
    "outputId": "36e55489-f57c-44e2-a265-2efa0a3edc48"
   },
   "outputs": [
    {
     "name": "stdout",
     "output_type": "stream",
     "text": [
      "Hello, world!\n"
     ]
    }
   ],
   "source": [
    "# déclaration de codage des caractère, utiliser souvent UTF-8, pour prendre en charge toutes les langues.\n",
    "# -*- coding: utf-8 -*-\n",
    "\n",
    "# Affichage\n",
    "print(\"Hello, world!\")"
   ]
  },
  {
   "cell_type": "code",
   "execution_count": 2,
   "metadata": {
    "colab": {
     "base_uri": "https://localhost:8080/",
     "height": 51
    },
    "colab_type": "code",
    "executionInfo": {
     "elapsed": 41807,
     "status": "ok",
     "timestamp": 1598176683191,
     "user": {
      "displayName": "Keep Music Weird",
      "photoUrl": "https://lh3.googleusercontent.com/a-/AOh14Gi9IyYwcNDdJY9RrMvpMOuSI7FIspu0Dy8OyRZaVg=s64",
      "userId": "00063312648037822198"
     },
     "user_tz": -60
    },
    "id": "da9eotUhwDmA",
    "outputId": "a13ccfea-9134-4e98-bcc1-34d1e337bff5"
   },
   "outputs": [
    {
     "name": "stdout",
     "output_type": "stream",
     "text": [
      "Enter username:M1 ISIL\n",
      "Username is :  M1 ISIL\n"
     ]
    }
   ],
   "source": [
    "# Lire entrée utilisateur - String\n",
    "\n",
    "username = input(\"Enter username: \")\n",
    "print(\"Username is : \", username)"
   ]
  },
  {
   "cell_type": "code",
   "execution_count": 3,
   "metadata": {},
   "outputs": [
    {
     "name": "stdout",
     "output_type": "stream",
     "text": [
      "Enter integer:12345\n",
      "User pw is :  12345\n"
     ]
    }
   ],
   "source": [
    "# Lire entrée utilisateur - Entier\n",
    "\n",
    "pw = int(input(\"Enter integer: \"))\n",
    "print(\"User pw is : \", pw)"
   ]
  },
  {
   "cell_type": "code",
   "execution_count": 4,
   "metadata": {
    "colab": {
     "base_uri": "https://localhost:8080/",
     "height": 68
    },
    "colab_type": "code",
    "executionInfo": {
     "elapsed": 961,
     "status": "ok",
     "timestamp": 1598176706619,
     "user": {
      "displayName": "Keep Music Weird",
      "photoUrl": "https://lh3.googleusercontent.com/a-/AOh14Gi9IyYwcNDdJY9RrMvpMOuSI7FIspu0Dy8OyRZaVg=s64",
      "userId": "00063312648037822198"
     },
     "user_tz": -60
    },
    "id": "bbrMayU_wOvB",
    "outputId": "f0ad487a-a288-4fd4-e19d-28fd3534096f"
   },
   "outputs": [
    {
     "name": "stdout",
     "output_type": "stream",
     "text": [
      "5 John True\n",
      "<class 'int'> <class 'str'> <class 'bool'>\n"
     ]
    }
   ],
   "source": [
    "# Déclaration des variables, pas de déclaration explicite\n",
    "# Il suffit d'affecter une valeur pour spécifier le type d'une variable\n",
    "\n",
    "x = 5\n",
    "y = \"John\"\n",
    "z = True\n",
    "\n",
    "print(x, y, z)\n",
    "print(type(x), type(y), type(z))\n"
   ]
  },
  {
   "cell_type": "code",
   "execution_count": 5,
   "metadata": {
    "colab": {
     "base_uri": "https://localhost:8080/",
     "height": 34
    },
    "colab_type": "code",
    "executionInfo": {
     "elapsed": 1478,
     "status": "ok",
     "timestamp": 1598176724357,
     "user": {
      "displayName": "Keep Music Weird",
      "photoUrl": "https://lh3.googleusercontent.com/a-/AOh14Gi9IyYwcNDdJY9RrMvpMOuSI7FIspu0Dy8OyRZaVg=s64",
      "userId": "00063312648037822198"
     },
     "user_tz": -60
    },
    "id": "690oxzYXwUgh",
    "outputId": "f0d61be9-179a-4ba1-a7b2-96e5214358f9"
   },
   "outputs": [
    {
     "name": "stdout",
     "output_type": "stream",
     "text": [
      "Ttype de age <class 'int'>\n",
      "Type de salaire <class 'float'>\n",
      "Type de name <class 'str'>\n"
     ]
    }
   ],
   "source": [
    "# Déclaration des variables, pas de déclaration explicite\n",
    "# Il suffit d'affecter une valeur pour spécifier le type d'une variable\n",
    "\n",
    "age = 125 \n",
    "print(\"Ttype de age\", type(age))\n",
    "salaire = 3.14\n",
    "print(\"Type de salaire\", type(salaire))\n",
    "name = \"Ahmed\"\n",
    "print(\"Type de name\", type(name))"
   ]
  },
  {
   "cell_type": "code",
   "execution_count": 6,
   "metadata": {},
   "outputs": [],
   "source": [
    "# Type Casting - conversion\n",
    "\n",
    "x = str(3)    # x devient '3'\n",
    "y = int(3)    # y devient 3\n",
    "z = float(3)  # z devient 3.0"
   ]
  },
  {
   "cell_type": "code",
   "execution_count": 7,
   "metadata": {},
   "outputs": [],
   "source": [
    "# Single or double quotes en Python\n",
    "\n",
    "x = \"John\"\n",
    "# same as\n",
    "x = 'John'"
   ]
  },
  {
   "cell_type": "code",
   "execution_count": 8,
   "metadata": {},
   "outputs": [
    {
     "name": "stdout",
     "output_type": "stream",
     "text": [
      "Orange\n",
      "Banana\n",
      "Cherry\n"
     ]
    }
   ],
   "source": [
    "# Assignation multiple de variables \n",
    "x, y, z = \"Orange\", \"Banana\", \"Cherry\"\n",
    "print(x)\n",
    "print(y)\n",
    "print(z)"
   ]
  },
  {
   "cell_type": "code",
   "execution_count": 9,
   "metadata": {},
   "outputs": [
    {
     "name": "stdout",
     "output_type": "stream",
     "text": [
      "His name is John . He is  36 years old.\n",
      "His name is John. He is 36 years old.\n"
     ]
    }
   ],
   "source": [
    "# String Formatting\n",
    "\n",
    "age = 36\n",
    "name = \"John\"\n",
    "\n",
    "print(\"His name is\", name, \". He is \", age, \"years old.\")\n",
    "\n",
    "print(f\"His name is {name}. He is {age} years old.\")\n"
   ]
  },
  {
   "cell_type": "code",
   "execution_count": 10,
   "metadata": {
    "colab": {
     "base_uri": "https://localhost:8080/",
     "height": 51
    },
    "colab_type": "code",
    "executionInfo": {
     "elapsed": 1110,
     "status": "ok",
     "timestamp": 1598176753933,
     "user": {
      "displayName": "Keep Music Weird",
      "photoUrl": "https://lh3.googleusercontent.com/a-/AOh14Gi9IyYwcNDdJY9RrMvpMOuSI7FIspu0Dy8OyRZaVg=s64",
      "userId": "00063312648037822198"
     },
     "user_tz": -60
    },
    "id": "NljibaGbwdNI",
    "outputId": "f7b5e19d-2edd-4d88-fb1d-27e792484961"
   },
   "outputs": [
    {
     "name": "stdout",
     "output_type": "stream",
     "text": [
      "Type de ls:  <class 'list'>\n",
      "Liste:  [1, 2, 31, 4, 10, 98, 458]\n"
     ]
    }
   ],
   "source": [
    "# Python Datatypes - List\n",
    "\n",
    "ls = [1, 2, 31, 4, 10, 98, 458]\n",
    "print(\"Type de ls: \", type(ls))\n",
    "print(\"Liste: \", ls)"
   ]
  },
  {
   "cell_type": "code",
   "execution_count": 11,
   "metadata": {
    "colab": {
     "base_uri": "https://localhost:8080/",
     "height": 34
    },
    "colab_type": "code",
    "executionInfo": {
     "elapsed": 980,
     "status": "ok",
     "timestamp": 1598176763783,
     "user": {
      "displayName": "Keep Music Weird",
      "photoUrl": "https://lh3.googleusercontent.com/a-/AOh14Gi9IyYwcNDdJY9RrMvpMOuSI7FIspu0Dy8OyRZaVg=s64",
      "userId": "00063312648037822198"
     },
     "user_tz": -60
    },
    "id": "x0mwUY2-wgHT",
    "outputId": "7092abda-1a6c-46bc-b2da-9663629d5f9c"
   },
   "outputs": [
    {
     "name": "stdout",
     "output_type": "stream",
     "text": [
      "[1, 2, 31, 4, 10, 98, 458, 5]\n"
     ]
    }
   ],
   "source": [
    "# Ajouter un element à la liste\n",
    "\n",
    "ls.append(5)\n",
    "print(ls)"
   ]
  },
  {
   "cell_type": "code",
   "execution_count": 12,
   "metadata": {},
   "outputs": [
    {
     "name": "stdout",
     "output_type": "stream",
     "text": [
      "[1, 2, 31, 4, 10, 98, 458]\n"
     ]
    }
   ],
   "source": [
    "# Supprimer un element de la liste\n",
    "\n",
    "ls.remove(5)\n",
    "print(ls)"
   ]
  },
  {
   "cell_type": "code",
   "execution_count": 13,
   "metadata": {},
   "outputs": [
    {
     "name": "stdout",
     "output_type": "stream",
     "text": [
      "458 [1, 2, 31, 4, 10, 98]\n"
     ]
    }
   ],
   "source": [
    "# Supprimer le dernier element de la liste et le retourner\n",
    "\n",
    "last = ls.pop()\n",
    "print(last, ls)"
   ]
  },
  {
   "cell_type": "code",
   "execution_count": 14,
   "metadata": {},
   "outputs": [
    {
     "name": "stdout",
     "output_type": "stream",
     "text": [
      "6\n"
     ]
    }
   ],
   "source": [
    "# List length\n",
    "print(len(ls))"
   ]
  },
  {
   "cell_type": "code",
   "execution_count": 15,
   "metadata": {},
   "outputs": [
    {
     "name": "stdout",
     "output_type": "stream",
     "text": [
      "2\n"
     ]
    }
   ],
   "source": [
    "# Acces list element by index\n",
    "print(ls[1])"
   ]
  },
  {
   "cell_type": "code",
   "execution_count": 16,
   "metadata": {},
   "outputs": [
    {
     "name": "stdout",
     "output_type": "stream",
     "text": [
      "98\n"
     ]
    }
   ],
   "source": [
    "# Indice négatif : dernier element de la liste\n",
    "print(ls[-1])"
   ]
  },
  {
   "cell_type": "code",
   "execution_count": 17,
   "metadata": {},
   "outputs": [
    {
     "name": "stdout",
     "output_type": "stream",
     "text": [
      "[1, 2, 35, 4, 10, 98]\n"
     ]
    }
   ],
   "source": [
    "# Changer un element\n",
    "ls[2] = 35\n",
    "print(ls)"
   ]
  },
  {
   "cell_type": "code",
   "execution_count": 18,
   "metadata": {},
   "outputs": [
    {
     "name": "stdout",
     "output_type": "stream",
     "text": [
      "[1, 2, 4, 10, 35, 98]\n"
     ]
    }
   ],
   "source": [
    "# Sort list\n",
    "ls.sort()\n",
    "print(ls)"
   ]
  },
  {
   "cell_type": "code",
   "execution_count": 19,
   "metadata": {
    "colab": {
     "base_uri": "https://localhost:8080/",
     "height": 34
    },
    "colab_type": "code",
    "executionInfo": {
     "elapsed": 925,
     "status": "ok",
     "timestamp": 1598176777896,
     "user": {
      "displayName": "Keep Music Weird",
      "photoUrl": "https://lh3.googleusercontent.com/a-/AOh14Gi9IyYwcNDdJY9RrMvpMOuSI7FIspu0Dy8OyRZaVg=s64",
      "userId": "00063312648037822198"
     },
     "user_tz": -60
    },
    "id": "Et0GOhVowi0Q",
    "outputId": "023e76cb-0915-4e3e-b1b4-abac9253405d"
   },
   "outputs": [
    {
     "name": "stdout",
     "output_type": "stream",
     "text": [
      "['apple', 'banana', 'cherry', 'orange', 'kiwi', 'melon', 'mango']\n"
     ]
    }
   ],
   "source": [
    "# Liste de mots\n",
    "\n",
    "wordlist = [\"apple\", \"banana\", \"cherry\", \"orange\", \"kiwi\", \"melon\", \"mango\"]\n",
    "print (wordlist)"
   ]
  },
  {
   "cell_type": "code",
   "execution_count": 20,
   "metadata": {},
   "outputs": [
    {
     "name": "stdout",
     "output_type": "stream",
     "text": [
      "['cherry', 'orange', 'kiwi']\n"
     ]
    }
   ],
   "source": [
    "# List slicing\n",
    "\n",
    "wordlist_slice = wordlist[2:5]\n",
    "print(wordlist_slice)"
   ]
  },
  {
   "cell_type": "code",
   "execution_count": 21,
   "metadata": {},
   "outputs": [
    {
     "name": "stdout",
     "output_type": "stream",
     "text": [
      "['apple', 'banana', 'cherry', 'orange']\n"
     ]
    }
   ],
   "source": [
    "print(wordlist[:4])"
   ]
  },
  {
   "cell_type": "code",
   "execution_count": 22,
   "metadata": {},
   "outputs": [
    {
     "name": "stdout",
     "output_type": "stream",
     "text": [
      "['cherry', 'orange', 'kiwi', 'melon', 'mango']\n"
     ]
    }
   ],
   "source": [
    "print(wordlist[2:])"
   ]
  },
  {
   "cell_type": "code",
   "execution_count": 23,
   "metadata": {},
   "outputs": [
    {
     "name": "stdout",
     "output_type": "stream",
     "text": [
      "['abc', 34, True, 40, 'male'] 5\n"
     ]
    }
   ],
   "source": [
    "# Une autre liste\n",
    "other = [\"abc\", 34, True, 40, \"male\"]\n",
    "print(other, len(other))"
   ]
  },
  {
   "cell_type": "code",
   "execution_count": 24,
   "metadata": {},
   "outputs": [
    {
     "name": "stdout",
     "output_type": "stream",
     "text": [
      "apple\n",
      "banana\n",
      "cherry\n"
     ]
    }
   ],
   "source": [
    "# Unpacking\n",
    "fruits = [\"apple\", \"banana\", \"cherry\"]\n",
    "x, y, z = fruits\n",
    "print(x)\n",
    "print(y)\n",
    "print(z)"
   ]
  },
  {
   "cell_type": "code",
   "execution_count": 25,
   "metadata": {
    "colab": {
     "base_uri": "https://localhost:8080/",
     "height": 136
    },
    "colab_type": "code",
    "executionInfo": {
     "elapsed": 850,
     "status": "ok",
     "timestamp": 1598176797834,
     "user": {
      "displayName": "Keep Music Weird",
      "photoUrl": "https://lh3.googleusercontent.com/a-/AOh14Gi9IyYwcNDdJY9RrMvpMOuSI7FIspu0Dy8OyRZaVg=s64",
      "userId": "00063312648037822198"
     },
     "user_tz": -60
    },
    "id": "2DLFetL1wl0Q",
    "outputId": "b43baf48-9767-45a6-f7a1-e68dfe8617c0"
   },
   "outputs": [
    {
     "name": "stdout",
     "output_type": "stream",
     "text": [
      "{'brand': 'Ford', 'model': 'Mustang', 'year': 1964}\n"
     ]
    }
   ],
   "source": [
    "# Python Datatypes - Dictionary\n",
    "\n",
    "car = {\n",
    "  \"brand\": \"Ford\",\n",
    "  \"model\": \"Mustang\",\n",
    "  \"year\": 1964\n",
    "}\n",
    "print(car)"
   ]
  },
  {
   "cell_type": "code",
   "execution_count": 26,
   "metadata": {},
   "outputs": [
    {
     "name": "stdout",
     "output_type": "stream",
     "text": [
      "dict_keys(['brand', 'model', 'year'])\n"
     ]
    }
   ],
   "source": [
    "print(car.keys())"
   ]
  },
  {
   "cell_type": "code",
   "execution_count": 27,
   "metadata": {},
   "outputs": [
    {
     "name": "stdout",
     "output_type": "stream",
     "text": [
      "dict_values(['Ford', 'Mustang', 1964])\n"
     ]
    }
   ],
   "source": [
    "print(car.values())"
   ]
  },
  {
   "cell_type": "code",
   "execution_count": 28,
   "metadata": {},
   "outputs": [
    {
     "name": "stdout",
     "output_type": "stream",
     "text": [
      "dict_items([('brand', 'Ford'), ('model', 'Mustang'), ('year', 1964)])\n"
     ]
    }
   ],
   "source": [
    "items = car.items()\n",
    "print(items)"
   ]
  },
  {
   "cell_type": "code",
   "execution_count": 29,
   "metadata": {},
   "outputs": [
    {
     "name": "stdout",
     "output_type": "stream",
     "text": [
      "Ford\n"
     ]
    }
   ],
   "source": [
    "print(car[\"brand\"])"
   ]
  },
  {
   "cell_type": "code",
   "execution_count": 30,
   "metadata": {},
   "outputs": [
    {
     "name": "stdout",
     "output_type": "stream",
     "text": [
      "3\n"
     ]
    }
   ],
   "source": [
    "print(len(car))"
   ]
  },
  {
   "cell_type": "code",
   "execution_count": 31,
   "metadata": {},
   "outputs": [
    {
     "name": "stdout",
     "output_type": "stream",
     "text": [
      "{'brand': 'Ford', 'model': 'Mustang', 'year': 2020, 'color': 'white'}\n"
     ]
    }
   ],
   "source": [
    "car[\"color\"] = \"white\"\n",
    "car[\"year\"] = 2020\n",
    "print(car)"
   ]
  },
  {
   "cell_type": "code",
   "execution_count": 32,
   "metadata": {},
   "outputs": [
    {
     "name": "stdout",
     "output_type": "stream",
     "text": [
      "{'banana', 'cherry', 'apple'}\n",
      "('apple', 'banana', 'cherry')\n"
     ]
    }
   ],
   "source": [
    "# Python Datatypes - Set & Tuple\n",
    "\n",
    "myset = {\"apple\", \"banana\", \"cherry\"}\n",
    "print(myset)\n",
    "\n",
    "thistuple = (\"apple\", \"banana\", \"cherry\")\n",
    "print(thistuple)"
   ]
  },
  {
   "cell_type": "code",
   "execution_count": 33,
   "metadata": {
    "colab": {
     "base_uri": "https://localhost:8080/",
     "height": 34
    },
    "colab_type": "code",
    "executionInfo": {
     "elapsed": 776,
     "status": "ok",
     "timestamp": 1598176820541,
     "user": {
      "displayName": "Keep Music Weird",
      "photoUrl": "https://lh3.googleusercontent.com/a-/AOh14Gi9IyYwcNDdJY9RrMvpMOuSI7FIspu0Dy8OyRZaVg=s64",
      "userId": "00063312648037822198"
     },
     "user_tz": -60
    },
    "id": "E3Yql--dws__",
    "outputId": "88fe8948-b47e-4f23-9194-fd00e02d86ae"
   },
   "outputs": [
    {
     "name": "stdout",
     "output_type": "stream",
     "text": [
      "b is greater than a\n"
     ]
    }
   ],
   "source": [
    "# Structure de contrôle - if..elif..else\n",
    "\n",
    "a = 33\n",
    "b = 200\n",
    "if b > a:\n",
    "    # Attention aux tabulations/indentation (4 espaces)\n",
    "    print(\"b is greater than a\")"
   ]
  },
  {
   "cell_type": "code",
   "execution_count": 34,
   "metadata": {},
   "outputs": [
    {
     "name": "stdout",
     "output_type": "stream",
     "text": [
      "b is greater than a\n"
     ]
    }
   ],
   "source": [
    "if b > a:\n",
    "  print(\"b is greater than a\")\n",
    "elif a == b:\n",
    "  print(\"a and b are equal\")\n",
    "else:\n",
    "  print(\"a is greater than b\")"
   ]
  },
  {
   "cell_type": "code",
   "execution_count": 35,
   "metadata": {},
   "outputs": [
    {
     "name": "stdout",
     "output_type": "stream",
     "text": [
      "Both conditions are True\n"
     ]
    }
   ],
   "source": [
    "a = 200\n",
    "b = 33\n",
    "c = 500\n",
    "if a > b and c > a:\n",
    "  print(\"Both conditions are True\")"
   ]
  },
  {
   "cell_type": "code",
   "execution_count": 37,
   "metadata": {
    "colab": {
     "base_uri": "https://localhost:8080/",
     "height": 34
    },
    "colab_type": "code",
    "executionInfo": {
     "elapsed": 774,
     "status": "ok",
     "timestamp": 1598176835433,
     "user": {
      "displayName": "Keep Music Weird",
      "photoUrl": "https://lh3.googleusercontent.com/a-/AOh14Gi9IyYwcNDdJY9RrMvpMOuSI7FIspu0Dy8OyRZaVg=s64",
      "userId": "00063312648037822198"
     },
     "user_tz": -60
    },
    "id": "cdPhJT-0wxSI",
    "outputId": "fc443613-bdc4-41e6-8f49-72d62801ed25"
   },
   "outputs": [],
   "source": [
    "# Tester si un élément appartient à une liste\n",
    "a = 5\n",
    "if a in ls:\n",
    "    print(\"a existe dans la liste\")"
   ]
  },
  {
   "cell_type": "code",
   "execution_count": 39,
   "metadata": {
    "colab": {
     "base_uri": "https://localhost:8080/",
     "height": 85
    },
    "colab_type": "code",
    "executionInfo": {
     "elapsed": 782,
     "status": "ok",
     "timestamp": 1598176845625,
     "user": {
      "displayName": "Keep Music Weird",
      "photoUrl": "https://lh3.googleusercontent.com/a-/AOh14Gi9IyYwcNDdJY9RrMvpMOuSI7FIspu0Dy8OyRZaVg=s64",
      "userId": "00063312648037822198"
     },
     "user_tz": -60
    },
    "id": "no_ETInNwz4S",
    "outputId": "eda5471c-6658-4906-b4d1-5d3998067bf7"
   },
   "outputs": [
    {
     "name": "stdout",
     "output_type": "stream",
     "text": [
      "0\n",
      "1\n",
      "2\n",
      "3\n",
      "4\n"
     ]
    }
   ],
   "source": [
    "# Les boucles  - for loop\n",
    "\n",
    "for x in range(0, 5, 1):\n",
    "  print(x)"
   ]
  },
  {
   "cell_type": "code",
   "execution_count": 40,
   "metadata": {},
   "outputs": [
    {
     "name": "stdout",
     "output_type": "stream",
     "text": [
      "0\n",
      "1\n",
      "2\n",
      "3\n",
      "4\n"
     ]
    }
   ],
   "source": [
    "for x in range(5):\n",
    "  print(x)"
   ]
  },
  {
   "cell_type": "code",
   "execution_count": 41,
   "metadata": {},
   "outputs": [
    {
     "name": "stdout",
     "output_type": "stream",
     "text": [
      "apple\n",
      "banana\n",
      "cherry\n",
      "orange\n",
      "kiwi\n",
      "melon\n",
      "mango\n"
     ]
    }
   ],
   "source": [
    "wordlist = [\"apple\", \"banana\", \"cherry\", \"orange\", \"kiwi\", \"melon\", \"mango\"]\n",
    "for word in wordlist:\n",
    "    print (word)"
   ]
  },
  {
   "cell_type": "code",
   "execution_count": 42,
   "metadata": {},
   "outputs": [
    {
     "name": "stdout",
     "output_type": "stream",
     "text": [
      "brand Ford\n",
      "model Mustang\n",
      "year 1964\n"
     ]
    }
   ],
   "source": [
    "car = {\n",
    "  \"brand\": \"Ford\",\n",
    "  \"model\": \"Mustang\",\n",
    "  \"year\": 1964\n",
    "}\n",
    "for x, y in car.items():\n",
    "  print(x, y)"
   ]
  },
  {
   "cell_type": "code",
   "execution_count": 43,
   "metadata": {},
   "outputs": [
    {
     "name": "stdout",
     "output_type": "stream",
     "text": [
      "Ford\n",
      "Mustang\n",
      "1964\n"
     ]
    }
   ],
   "source": [
    "for x in car.values():\n",
    "  print(x)"
   ]
  },
  {
   "cell_type": "code",
   "execution_count": 44,
   "metadata": {},
   "outputs": [
    {
     "name": "stdout",
     "output_type": "stream",
     "text": [
      "1\n",
      "2\n",
      "3\n",
      "4\n",
      "5\n"
     ]
    }
   ],
   "source": [
    "# Les boucles  - while loop\n",
    "i = 1\n",
    "while i < 6:\n",
    "  print(i)\n",
    "  i += 1"
   ]
  },
  {
   "cell_type": "code",
   "execution_count": 46,
   "metadata": {},
   "outputs": [
    {
     "name": "stdout",
     "output_type": "stream",
     "text": [
      "Hello from a function\n"
     ]
    }
   ],
   "source": [
    "# Les fonctions - Déclaration et appel\n",
    "\n",
    "def my_func():\n",
    "  print(\"Hello from a function\")\n",
    "\n",
    "my_func()"
   ]
  },
  {
   "cell_type": "code",
   "execution_count": 47,
   "metadata": {},
   "outputs": [
    {
     "name": "stdout",
     "output_type": "stream",
     "text": [
      "Hello, Emil\n",
      "Hello, Tobias\n"
     ]
    }
   ],
   "source": [
    "def other_func(name):\n",
    "  print(\"Hello,\", name)\n",
    "\n",
    "other_func(\"Emil\")\n",
    "other_func(\"Tobias\")"
   ]
  },
  {
   "cell_type": "code",
   "execution_count": 48,
   "metadata": {},
   "outputs": [
    {
     "name": "stdout",
     "output_type": "stream",
     "text": [
      "50\n"
     ]
    }
   ],
   "source": [
    "def mult_func(x):\n",
    "  return 5 * x\n",
    "\n",
    "prod = mult_func(10)\n",
    "print(prod)"
   ]
  },
  {
   "cell_type": "markdown",
   "metadata": {},
   "source": [
    "### Partie 2 - Quelques programmes en Python"
   ]
  },
  {
   "cell_type": "code",
   "execution_count": 51,
   "metadata": {
    "colab": {
     "base_uri": "https://localhost:8080/",
     "height": 34
    },
    "colab_type": "code",
    "executionInfo": {
     "elapsed": 758,
     "status": "ok",
     "timestamp": 1598176872019,
     "user": {
      "displayName": "Keep Music Weird",
      "photoUrl": "https://lh3.googleusercontent.com/a-/AOh14Gi9IyYwcNDdJY9RrMvpMOuSI7FIspu0Dy8OyRZaVg=s64",
      "userId": "00063312648037822198"
     },
     "user_tz": -60
    },
    "id": "8tgb_CqRw6JA",
    "outputId": "4f524ea9-1b6d-4f9f-a4e0-ba304659fdb6"
   },
   "outputs": [
    {
     "name": "stdout",
     "output_type": "stream",
     "text": [
      "Le caractère e existe 10 fois.\n"
     ]
    }
   ],
   "source": [
    "# Programme python qui permet de calculer le nombre d'occurrence d'un caractère dans un string\n",
    "\n",
    "chaine = \"Le TAL est l’ensemble des méthodes et des programmes...\"\n",
    "mycar= \"e\"\n",
    "cpt = 0\n",
    "\n",
    "for c in chaine:\n",
    "    if c == mycar:\n",
    "        cpt += 1\n",
    "\n",
    "print(f\"Le caractère {mycar} existe {cpt} fois.\")\n"
   ]
  },
  {
   "cell_type": "code",
   "execution_count": 52,
   "metadata": {},
   "outputs": [
    {
     "name": "stdout",
     "output_type": "stream",
     "text": [
      "{'L': 2, 'e': 10, ' ': 8, 'T': 1, 'A': 1, 's': 6, 't': 3, 'l': 2, '’': 1, 'n': 1, 'm': 4, 'b': 1, 'd': 3, 'é': 1, 'h': 1, 'o': 2, 'p': 1, 'r': 2, 'g': 1, 'a': 1, '.': 3}\n"
     ]
    }
   ],
   "source": [
    "# Programme python qui permet de calculer la fréquence des caractères dans un texte\n",
    "\n",
    "input_string = \"Le TAL est l’ensemble des méthodes et des programmes...\"\n",
    "\n",
    "frequencies = {} \n",
    "\n",
    "for char in input_string:    \n",
    "   if char in frequencies: \n",
    "      frequencies[char] += 1\n",
    "   else: \n",
    "      frequencies[char] = 1   \n",
    "\n",
    "print(frequencies)"
   ]
  },
  {
   "cell_type": "code",
   "execution_count": 53,
   "metadata": {},
   "outputs": [
    {
     "name": "stdout",
     "output_type": "stream",
     "text": [
      "{'Programme': 1, 'python': 1, 'qui': 1, 'permet': 1, 'de': 2, 'calculer': 1, 'la': 1, 'fréquence': 1, 'des': 1, 'mots': 2, 'dans': 1, 'un': 1, 'texte': 1}\n"
     ]
    }
   ],
   "source": [
    "# Programme python qui permet de calculer la fréquence des mots dans un texte \n",
    "\n",
    "input_string = \"Programme python qui permet de calculer la fréquence des mots dans un texte de mots\"\n",
    "\n",
    "wordlist = input_string.split()\n",
    "\n",
    "wordfreq = {} \n",
    "\n",
    "for word in wordlist:    \n",
    "   if word in wordfreq: \n",
    "      wordfreq[word] += 1\n",
    "   else: \n",
    "      wordfreq[word] = 1   \n",
    "\n",
    "print(wordfreq)"
   ]
  },
  {
   "cell_type": "code",
   "execution_count": 54,
   "metadata": {},
   "outputs": [
    {
     "name": "stdout",
     "output_type": "stream",
     "text": [
      "['de', 'mots', 'Programme', 'python', 'qui', 'permet']\n"
     ]
    }
   ],
   "source": [
    "# Les 6 mots les plus fréquents\n",
    "print(sorted(wordfreq, key=wordfreq.get, reverse=True)[:6])"
   ]
  }
 ],
 "metadata": {
  "colab": {
   "authorship_tag": "ABX9TyPUOKLVo4chA9W4ETAYhDXi",
   "collapsed_sections": [],
   "name": "Série TP 1.ipynb",
   "provenance": []
  },
  "kernelspec": {
   "display_name": "Python 3 (ipykernel)",
   "language": "python",
   "name": "python3"
  },
  "language_info": {
   "codemirror_mode": {
    "name": "ipython",
    "version": 3
   },
   "file_extension": ".py",
   "mimetype": "text/x-python",
   "name": "python",
   "nbconvert_exporter": "python",
   "pygments_lexer": "ipython3",
   "version": "3.8.8"
  }
 },
 "nbformat": 4,
 "nbformat_minor": 1
}
