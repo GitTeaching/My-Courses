{
 "cells": [
  {
   "cell_type": "code",
   "execution_count": 1,
   "metadata": {
    "colab": {
     "base_uri": "https://localhost:8080/",
     "height": 34
    },
    "colab_type": "code",
    "executionInfo": {
     "elapsed": 1427,
     "status": "ok",
     "timestamp": 1598176629829,
     "user": {
      "displayName": "Keep Music Weird",
      "photoUrl": "https://lh3.googleusercontent.com/a-/AOh14Gi9IyYwcNDdJY9RrMvpMOuSI7FIspu0Dy8OyRZaVg=s64",
      "userId": "00063312648037822198"
     },
     "user_tz": -60
    },
    "id": "L27z5_Bmv24D",
    "outputId": "36e55489-f57c-44e2-a265-2efa0a3edc48"
   },
   "outputs": [
    {
     "name": "stdout",
     "output_type": "stream",
     "text": [
      "Bonjour\n"
     ]
    }
   ],
   "source": [
    "# déclaration de codage des caractère, utiliser souvent UTF-8, pour prendre en charge toutes les langues.\n",
    "# -*- coding: utf-8 -*-\n",
    "\n",
    "print(\"Bonjour\")"
   ]
  },
  {
   "cell_type": "code",
   "execution_count": 2,
   "metadata": {
    "colab": {
     "base_uri": "https://localhost:8080/",
     "height": 51
    },
    "colab_type": "code",
    "executionInfo": {
     "elapsed": 41807,
     "status": "ok",
     "timestamp": 1598176683191,
     "user": {
      "displayName": "Keep Music Weird",
      "photoUrl": "https://lh3.googleusercontent.com/a-/AOh14Gi9IyYwcNDdJY9RrMvpMOuSI7FIspu0Dy8OyRZaVg=s64",
      "userId": "00063312648037822198"
     },
     "user_tz": -60
    },
    "id": "da9eotUhwDmA",
    "outputId": "a13ccfea-9134-4e98-bcc1-34d1e337bff5"
   },
   "outputs": [
    {
     "name": "stdout",
     "output_type": "stream",
     "text": [
      "Enter a text: M1 ISIL\n",
      "User input is :  M1 ISIL\n"
     ]
    }
   ],
   "source": [
    "# lire entrée utilisateur\n",
    "input1 = input('Enter a text: ')\n",
    "print(\"User input is : \", input1)"
   ]
  },
  {
   "cell_type": "code",
   "execution_count": 3,
   "metadata": {
    "colab": {
     "base_uri": "https://localhost:8080/",
     "height": 68
    },
    "colab_type": "code",
    "executionInfo": {
     "elapsed": 961,
     "status": "ok",
     "timestamp": 1598176706619,
     "user": {
      "displayName": "Keep Music Weird",
      "photoUrl": "https://lh3.googleusercontent.com/a-/AOh14Gi9IyYwcNDdJY9RrMvpMOuSI7FIspu0Dy8OyRZaVg=s64",
      "userId": "00063312648037822198"
     },
     "user_tz": -60
    },
    "id": "bbrMayU_wOvB",
    "outputId": "f0ad487a-a288-4fd4-e19d-28fd3534096f"
   },
   "outputs": [
    {
     "name": "stdout",
     "output_type": "stream",
     "text": [
      "type de age <class 'int'>\n",
      "type de salaire <class 'float'>\n",
      "type de name <class 'str'>\n"
     ]
    }
   ],
   "source": [
    "# Déclaration des variables\n",
    "# pas de déclaration explicite\n",
    "# il suffit d'affecter une valeur pour spécifier le type d'une variable\n",
    "\n",
    "age = 25 # entier\n",
    "print(\"type de age\", type(age))\n",
    "\n",
    "salaire = 3.14\n",
    "print(\"type de salaire\", type(salaire))\n",
    "\n",
    "name = \"Ahmed\"\n",
    "print(\"type de name\", type(name))"
   ]
  },
  {
   "cell_type": "code",
   "execution_count": 4,
   "metadata": {
    "colab": {
     "base_uri": "https://localhost:8080/",
     "height": 34
    },
    "colab_type": "code",
    "executionInfo": {
     "elapsed": 1478,
     "status": "ok",
     "timestamp": 1598176724357,
     "user": {
      "displayName": "Keep Music Weird",
      "photoUrl": "https://lh3.googleusercontent.com/a-/AOh14Gi9IyYwcNDdJY9RrMvpMOuSI7FIspu0Dy8OyRZaVg=s64",
      "userId": "00063312648037822198"
     },
     "user_tz": -60
    },
    "id": "690oxzYXwUgh",
    "outputId": "f0d61be9-179a-4ba1-a7b2-96e5214358f9"
   },
   "outputs": [
    {
     "name": "stdout",
     "output_type": "stream",
     "text": [
      "I am Ahmed I am 25 old\n"
     ]
    }
   ],
   "source": [
    "#substitution\n",
    "s2 = \"I am %s\" %name\n",
    "s3 = \"I am %d old\" %age\n",
    "print (s2, s3)"
   ]
  },
  {
   "cell_type": "code",
   "execution_count": 5,
   "metadata": {
    "colab": {
     "base_uri": "https://localhost:8080/",
     "height": 51
    },
    "colab_type": "code",
    "executionInfo": {
     "elapsed": 1110,
     "status": "ok",
     "timestamp": 1598176753933,
     "user": {
      "displayName": "Keep Music Weird",
      "photoUrl": "https://lh3.googleusercontent.com/a-/AOh14Gi9IyYwcNDdJY9RrMvpMOuSI7FIspu0Dy8OyRZaVg=s64",
      "userId": "00063312648037822198"
     },
     "user_tz": -60
    },
    "id": "NljibaGbwdNI",
    "outputId": "f7b5e19d-2edd-4d88-fb1d-27e792484961"
   },
   "outputs": [
    {
     "name": "stdout",
     "output_type": "stream",
     "text": [
      "type de ls:  <class 'list'>\n",
      "[1, 2, 31, 4]\n"
     ]
    }
   ],
   "source": [
    "# listes\n",
    "liste = [1, 2, 31, 4]\n",
    "print (\"type de ls: \", type(liste))\n",
    "print (liste)"
   ]
  },
  {
   "cell_type": "code",
   "execution_count": 6,
   "metadata": {
    "colab": {
     "base_uri": "https://localhost:8080/",
     "height": 34
    },
    "colab_type": "code",
    "executionInfo": {
     "elapsed": 980,
     "status": "ok",
     "timestamp": 1598176763783,
     "user": {
      "displayName": "Keep Music Weird",
      "photoUrl": "https://lh3.googleusercontent.com/a-/AOh14Gi9IyYwcNDdJY9RrMvpMOuSI7FIspu0Dy8OyRZaVg=s64",
      "userId": "00063312648037822198"
     },
     "user_tz": -60
    },
    "id": "x0mwUY2-wgHT",
    "outputId": "7092abda-1a6c-46bc-b2da-9663629d5f9c"
   },
   "outputs": [
    {
     "name": "stdout",
     "output_type": "stream",
     "text": [
      "[1, 2, 31, 4, 5]\n"
     ]
    }
   ],
   "source": [
    "# ajouter in element\n",
    "liste.append(5)\n",
    "print(liste)"
   ]
  },
  {
   "cell_type": "code",
   "execution_count": 7,
   "metadata": {
    "colab": {
     "base_uri": "https://localhost:8080/",
     "height": 34
    },
    "colab_type": "code",
    "executionInfo": {
     "elapsed": 925,
     "status": "ok",
     "timestamp": 1598176777896,
     "user": {
      "displayName": "Keep Music Weird",
      "photoUrl": "https://lh3.googleusercontent.com/a-/AOh14Gi9IyYwcNDdJY9RrMvpMOuSI7FIspu0Dy8OyRZaVg=s64",
      "userId": "00063312648037822198"
     },
     "user_tz": -60
    },
    "id": "Et0GOhVowi0Q",
    "outputId": "023e76cb-0915-4e3e-b1b4-abac9253405d"
   },
   "outputs": [
    {
     "name": "stdout",
     "output_type": "stream",
     "text": [
      "['I', 'am', 'learning', 'english']\n"
     ]
    }
   ],
   "source": [
    "# liste de mots\n",
    "wordlist = [\"I\", \"am\", \"learning\", \"english\"]\n",
    "print(wordlist)"
   ]
  },
  {
   "cell_type": "code",
   "execution_count": 8,
   "metadata": {
    "colab": {
     "base_uri": "https://localhost:8080/",
     "height": 136
    },
    "colab_type": "code",
    "executionInfo": {
     "elapsed": 850,
     "status": "ok",
     "timestamp": 1598176797834,
     "user": {
      "displayName": "Keep Music Weird",
      "photoUrl": "https://lh3.googleusercontent.com/a-/AOh14Gi9IyYwcNDdJY9RrMvpMOuSI7FIspu0Dy8OyRZaVg=s64",
      "userId": "00063312648037822198"
     },
     "user_tz": -60
    },
    "id": "2DLFetL1wl0Q",
    "outputId": "b43baf48-9767-45a6-f7a1-e68dfe8617c0"
   },
   "outputs": [
    {
     "name": "stdout",
     "output_type": "stream",
     "text": [
      "{'brand': 'Ford', 'model': 'Mustang', 'year': 1964}\n",
      "dict_keys(['brand', 'model', 'year'])\n",
      "dict_values(['Ford', 'Mustang', 1964])\n",
      "Ford\n",
      "brand Ford\n",
      "model Mustang\n",
      "year 1964\n"
     ]
    }
   ],
   "source": [
    "# les dictionnaires\n",
    "thisdict = {\n",
    "  \"brand\": \"Ford\",\n",
    "  \"model\": \"Mustang\",\n",
    "  \"year\": 1964\n",
    "}\n",
    "\n",
    "print(thisdict)\n",
    "print(thisdict.keys())\n",
    "print(thisdict.values())\n",
    "print(thisdict[\"brand\"])\n",
    "\n",
    "for x, y in thisdict.items():\n",
    "  print(x, y)"
   ]
  },
  {
   "cell_type": "code",
   "execution_count": 9,
   "metadata": {
    "colab": {
     "base_uri": "https://localhost:8080/",
     "height": 34
    },
    "colab_type": "code",
    "executionInfo": {
     "elapsed": 776,
     "status": "ok",
     "timestamp": 1598176820541,
     "user": {
      "displayName": "Keep Music Weird",
      "photoUrl": "https://lh3.googleusercontent.com/a-/AOh14Gi9IyYwcNDdJY9RrMvpMOuSI7FIspu0Dy8OyRZaVg=s64",
      "userId": "00063312648037822198"
     },
     "user_tz": -60
    },
    "id": "E3Yql--dws__",
    "outputId": "88fe8948-b47e-4f23-9194-fd00e02d86ae"
   },
   "outputs": [
    {
     "name": "stdout",
     "output_type": "stream",
     "text": [
      "a entre 10 et 15\n"
     ]
    }
   ],
   "source": [
    "# structure de controle\n",
    "a = 15\n",
    "if a > 15:  \n",
    "    #attention aux tabulations\n",
    "    print ('a supérieur à 15')\n",
    "elif a <= 15 and a >= 10:\n",
    "    print ('a entre 10 et 15')\n",
    "else:\n",
    "    print ('a est intfieur à 10')"
   ]
  },
  {
   "cell_type": "code",
   "execution_count": 10,
   "metadata": {
    "colab": {
     "base_uri": "https://localhost:8080/",
     "height": 34
    },
    "colab_type": "code",
    "executionInfo": {
     "elapsed": 774,
     "status": "ok",
     "timestamp": 1598176835433,
     "user": {
      "displayName": "Keep Music Weird",
      "photoUrl": "https://lh3.googleusercontent.com/a-/AOh14Gi9IyYwcNDdJY9RrMvpMOuSI7FIspu0Dy8OyRZaVg=s64",
      "userId": "00063312648037822198"
     },
     "user_tz": -60
    },
    "id": "cdPhJT-0wxSI",
    "outputId": "fc443613-bdc4-41e6-8f49-72d62801ed25"
   },
   "outputs": [
    {
     "name": "stdout",
     "output_type": "stream",
     "text": [
      "a existe dans la liste\n"
     ]
    }
   ],
   "source": [
    "# tester si un element appartient à une liste\n",
    "a = 5\n",
    "if a in liste:\n",
    "    print (\"a existe dans la liste\")"
   ]
  },
  {
   "cell_type": "code",
   "execution_count": 11,
   "metadata": {
    "colab": {
     "base_uri": "https://localhost:8080/",
     "height": 85
    },
    "colab_type": "code",
    "executionInfo": {
     "elapsed": 782,
     "status": "ok",
     "timestamp": 1598176845625,
     "user": {
      "displayName": "Keep Music Weird",
      "photoUrl": "https://lh3.googleusercontent.com/a-/AOh14Gi9IyYwcNDdJY9RrMvpMOuSI7FIspu0Dy8OyRZaVg=s64",
      "userId": "00063312648037822198"
     },
     "user_tz": -60
    },
    "id": "no_ETInNwz4S",
    "outputId": "eda5471c-6658-4906-b4d1-5d3998067bf7"
   },
   "outputs": [
    {
     "name": "stdout",
     "output_type": "stream",
     "text": [
      "I\n",
      "am\n",
      "learning\n",
      "english\n"
     ]
    }
   ],
   "source": [
    "# les boucles\n",
    "for word in wordlist:\n",
    "    print (word)"
   ]
  },
  {
   "cell_type": "code",
   "execution_count": 12,
   "metadata": {
    "colab": {
     "base_uri": "https://localhost:8080/",
     "height": 34
    },
    "colab_type": "code",
    "executionInfo": {
     "elapsed": 758,
     "status": "ok",
     "timestamp": 1598176872019,
     "user": {
      "displayName": "Keep Music Weird",
      "photoUrl": "https://lh3.googleusercontent.com/a-/AOh14Gi9IyYwcNDdJY9RrMvpMOuSI7FIspu0Dy8OyRZaVg=s64",
      "userId": "00063312648037822198"
     },
     "user_tz": -60
    },
    "id": "8tgb_CqRw6JA",
    "outputId": "4f524ea9-1b6d-4f9f-a4e0-ba304659fdb6"
   },
   "outputs": [
    {
     "name": "stdout",
     "output_type": "stream",
     "text": [
      "le caractère e existe 13 fois\n"
     ]
    }
   ],
   "source": [
    "# boucle et tests\n",
    "# calculer le nombre d'occurence d'un caractère dans une chaine de caractère\n",
    "chaine = \"Le TAL est l’ensemble des méthodes et des programmes qui permettent\"\n",
    "caractere= \"e\"\n",
    "cpt = 0\n",
    "for c in chaine:\n",
    "    if c == caractere:\n",
    "        cpt += 1\n",
    "print(\"le caractère %s existe %d fois\"%(caractere, cpt))"
   ]
  },
  {
   "cell_type": "code",
   "execution_count": 13,
   "metadata": {},
   "outputs": [
    {
     "name": "stdout",
     "output_type": "stream",
     "text": [
      "{'D': 1, 'a': 6, 't': 2, ' ': 6, 'S': 1, 'c': 7, 'i': 1, 'e': 7, 'n': 2, 'l': 3, 'u': 2, 'r': 4, 'f': 1, 'é': 1, 'q': 1, 'd': 1, 's': 2, 'è': 1}\n"
     ]
    }
   ],
   "source": [
    "# Programme python qui permet de calculer la fréquence des caractères dans un texte\n",
    "input_string = \"Data Science calculer la fréquence des caractères\"\n",
    "frequencies = {} \n",
    "for char in input_string:    \n",
    "   if char in frequencies: \n",
    "      frequencies[char] += 1\n",
    "   else: \n",
    "      frequencies[char] = 1   \n",
    "print(frequencies)"
   ]
  },
  {
   "cell_type": "code",
   "execution_count": 14,
   "metadata": {},
   "outputs": [
    {
     "name": "stdout",
     "output_type": "stream",
     "text": [
      "{'Data': 1, 'Science': 1, 'calculer': 1, 'la': 1, 'fréquence': 1, 'des': 1, 'caractères': 1}\n"
     ]
    }
   ],
   "source": [
    "# Programme python qui permet de calculer la fréquence des mots dans # un texte donné\n",
    "input_string = \"Data Science calculer la fréquence des caractères\"\n",
    "wordlist = input_string.split()\n",
    "wordfreq = {} \n",
    "for word in wordlist:    \n",
    "   if word in wordfreq: \n",
    "      wordfreq[word] += 1\n",
    "   else: \n",
    "      wordfreq[word] = 1   \n",
    "print(wordfreq)"
   ]
  },
  {
   "cell_type": "code",
   "execution_count": 15,
   "metadata": {},
   "outputs": [
    {
     "name": "stdout",
     "output_type": "stream",
     "text": [
      "['Data', 'Science', 'calculer', 'la', 'fréquence', 'des']\n"
     ]
    }
   ],
   "source": [
    "# Les 6 mots les plus fréquents\n",
    "print(sorted(wordfreq, key=wordfreq.get, reverse=True)[:6])"
   ]
  }
 ],
 "metadata": {
  "colab": {
   "authorship_tag": "ABX9TyPUOKLVo4chA9W4ETAYhDXi",
   "collapsed_sections": [],
   "name": "Série TP 1.ipynb",
   "provenance": []
  },
  "kernelspec": {
   "display_name": "Python 3",
   "language": "python",
   "name": "python3"
  },
  "language_info": {
   "codemirror_mode": {
    "name": "ipython",
    "version": 3
   },
   "file_extension": ".py",
   "mimetype": "text/x-python",
   "name": "python",
   "nbconvert_exporter": "python",
   "pygments_lexer": "ipython3",
   "version": "3.7.0"
  }
 },
 "nbformat": 4,
 "nbformat_minor": 1
}
