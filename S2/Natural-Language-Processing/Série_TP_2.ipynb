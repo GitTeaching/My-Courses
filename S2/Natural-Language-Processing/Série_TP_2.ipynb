{
  "nbformat": 4,
  "nbformat_minor": 0,
  "metadata": {
    "colab": {
      "name": "Série TP 2.ipynb",
      "provenance": [],
      "collapsed_sections": []
    },
    "kernelspec": {
      "name": "python3",
      "display_name": "Python 3"
    },
    "language_info": {
      "name": "python"
    }
  },
  "cells": [
    {
      "cell_type": "markdown",
      "metadata": {
        "id": "HYt1S-PUEyNh"
      },
      "source": [
        "## **L'encodage**"
      ]
    },
    {
      "cell_type": "code",
      "metadata": {
        "colab": {
          "base_uri": "https://localhost:8080/"
        },
        "id": "O_Drmfl-Epf5",
        "outputId": "6a7f9d5c-d08d-431a-e4e9-6f9d1295b1ad"
      },
      "source": [
        "# fixer le codage des caractères dans l'entête de script\n",
        "# -*- coding: utf-8 -*-\n",
        "\n",
        "# L'encodage - afficher tous les codages qui existes\n",
        "# Importer les bibliothèques sys et encodings\n",
        "import sys\n",
        "import encodings\n",
        "\n",
        "# get encoding sets\n",
        "codages = encodings.aliases.aliases.values()\n",
        "\n",
        "# éliminer les doubles\n",
        "codages = set(codages)\n",
        "\n",
        "# trier les éléments de la liste\n",
        "codages = sorted(codages)\n",
        "\n",
        "# commande join permet de mettre un séparateur entre les éléments \n",
        "print(\"\\n\".join(codages))"
      ],
      "execution_count": 1,
      "outputs": [
        {
          "output_type": "stream",
          "text": [
            "ascii\n",
            "base64_codec\n",
            "big5\n",
            "big5hkscs\n",
            "bz2_codec\n",
            "cp037\n",
            "cp1026\n",
            "cp1125\n",
            "cp1140\n",
            "cp1250\n",
            "cp1251\n",
            "cp1252\n",
            "cp1253\n",
            "cp1254\n",
            "cp1255\n",
            "cp1256\n",
            "cp1257\n",
            "cp1258\n",
            "cp273\n",
            "cp424\n",
            "cp437\n",
            "cp500\n",
            "cp775\n",
            "cp850\n",
            "cp852\n",
            "cp855\n",
            "cp857\n",
            "cp858\n",
            "cp860\n",
            "cp861\n",
            "cp862\n",
            "cp863\n",
            "cp864\n",
            "cp865\n",
            "cp866\n",
            "cp869\n",
            "cp932\n",
            "cp949\n",
            "cp950\n",
            "euc_jis_2004\n",
            "euc_jisx0213\n",
            "euc_jp\n",
            "euc_kr\n",
            "gb18030\n",
            "gb2312\n",
            "gbk\n",
            "hex_codec\n",
            "hp_roman8\n",
            "hz\n",
            "iso2022_jp\n",
            "iso2022_jp_1\n",
            "iso2022_jp_2\n",
            "iso2022_jp_2004\n",
            "iso2022_jp_3\n",
            "iso2022_jp_ext\n",
            "iso2022_kr\n",
            "iso8859_10\n",
            "iso8859_11\n",
            "iso8859_13\n",
            "iso8859_14\n",
            "iso8859_15\n",
            "iso8859_16\n",
            "iso8859_2\n",
            "iso8859_3\n",
            "iso8859_4\n",
            "iso8859_5\n",
            "iso8859_6\n",
            "iso8859_7\n",
            "iso8859_8\n",
            "iso8859_9\n",
            "johab\n",
            "koi8_r\n",
            "kz1048\n",
            "latin_1\n",
            "mac_cyrillic\n",
            "mac_greek\n",
            "mac_iceland\n",
            "mac_latin2\n",
            "mac_roman\n",
            "mac_turkish\n",
            "mbcs\n",
            "ptcp154\n",
            "quopri_codec\n",
            "rot_13\n",
            "shift_jis\n",
            "shift_jis_2004\n",
            "shift_jisx0213\n",
            "tactis\n",
            "tis_620\n",
            "utf_16\n",
            "utf_16_be\n",
            "utf_16_le\n",
            "utf_32\n",
            "utf_32_be\n",
            "utf_32_le\n",
            "utf_7\n",
            "utf_8\n",
            "uu_codec\n",
            "zlib_codec\n"
          ],
          "name": "stdout"
        }
      ]
    },
    {
      "cell_type": "code",
      "metadata": {
        "colab": {
          "base_uri": "https://localhost:8080/"
        },
        "id": "tC6Xx5iEE-gO",
        "outputId": "2615e87f-45cd-4ab6-d420-1aa215aa69f5"
      },
      "source": [
        "# deux fonctions de Python concernent le codage Unicode des caractères : chr et ord\n",
        "print(chr(97))\n",
        "print(chr(237))\n",
        "print(chr(8364))\n",
        "print(ord('A'))\n",
        "print(ord('é'))\n",
        "print(ord('€'))"
      ],
      "execution_count": 2,
      "outputs": [
        {
          "output_type": "stream",
          "text": [
            "a\n",
            "í\n",
            "€\n",
            "65\n",
            "233\n",
            "8364\n"
          ],
          "name": "stdout"
        }
      ]
    },
    {
      "cell_type": "code",
      "metadata": {
        "colab": {
          "base_uri": "https://localhost:8080/"
        },
        "id": "P5gZB-DwFBvu",
        "outputId": "6e508ed8-3263-4942-f138-7a0c42980f7e"
      },
      "source": [
        "# en Python 3 il existe deux types de chaine de caractère : le type str (unicode) et le type bytes(octets)\n",
        "ch = 'Bonjour'\n",
        "print(type(ch)) # str \n",
        "bt = b'Bonsoir'\n",
        "print(type(bt)) # bytes "
      ],
      "execution_count": 3,
      "outputs": [
        {
          "output_type": "stream",
          "text": [
            "<class 'str'>\n",
            "<class 'bytes'>\n"
          ],
          "name": "stdout"
        }
      ]
    },
    {
      "cell_type": "code",
      "metadata": {
        "colab": {
          "base_uri": "https://localhost:8080/",
          "height": 129
        },
        "id": "WXKk3ZAsFIlN",
        "outputId": "193ef560-b28a-4975-da5d-16ad5885591a"
      },
      "source": [
        "# SyntaxError: bytes can only contain ASCII literal characters.\n",
        "bt_2 = b'مرحبا'"
      ],
      "execution_count": 4,
      "outputs": [
        {
          "output_type": "error",
          "ename": "SyntaxError",
          "evalue": "ignored",
          "traceback": [
            "\u001b[0;36m  File \u001b[0;32m\"<ipython-input-4-3fbf9d938dad>\"\u001b[0;36m, line \u001b[0;32m2\u001b[0m\n\u001b[0;31m    bt_2 = b'مرحبا'\u001b[0m\n\u001b[0m          ^\u001b[0m\n\u001b[0;31mSyntaxError\u001b[0m\u001b[0;31m:\u001b[0m bytes can only contain ASCII literal characters.\n"
          ]
        }
      ]
    },
    {
      "cell_type": "code",
      "metadata": {
        "colab": {
          "base_uri": "https://localhost:8080/"
        },
        "id": "nSEfgadvFQMN",
        "outputId": "0470c0ab-6b3f-47a8-e934-5f364b9d8c36"
      },
      "source": [
        "# solution 1 – fonction bytes pour convertir le str en bytes\n",
        "ch_2 = 'مرحبا'\n",
        "bt_2 = bytes(ch_2, 'utf-8')\n",
        "print(type(bt_2))"
      ],
      "execution_count": 6,
      "outputs": [
        {
          "output_type": "stream",
          "text": [
            "<class 'bytes'>\n"
          ],
          "name": "stdout"
        }
      ]
    },
    {
      "cell_type": "code",
      "metadata": {
        "colab": {
          "base_uri": "https://localhost:8080/"
        },
        "id": "EGKnAmV_FaFk",
        "outputId": "72339bad-cd31-45d0-bdd5-5cb612552847"
      },
      "source": [
        "# solution 2 - encoder str en bytes – les # caractères en bytes sont affichés comme s’ils sont des caractères # encodés en ASCII\n",
        "before = \"Hello €\"\n",
        "after = before.encode(\"utf-8\")\n",
        "print(after, type(after))"
      ],
      "execution_count": 7,
      "outputs": [
        {
          "output_type": "stream",
          "text": [
            "b'Hello \\xe2\\x82\\xac' <class 'bytes'>\n"
          ],
          "name": "stdout"
        }
      ]
    },
    {
      "cell_type": "code",
      "metadata": {
        "colab": {
          "base_uri": "https://localhost:8080/"
        },
        "id": "GOxiYgpwFefk",
        "outputId": "85929f2d-c997-425c-efbe-fba401646c5a"
      },
      "source": [
        "# reconvertir le bytes vers le bon encodage str utf-8 – pas d’erreur\n",
        "print(after.decode(\"utf-8\"))"
      ],
      "execution_count": 9,
      "outputs": [
        {
          "output_type": "stream",
          "text": [
            "Hello €\n"
          ],
          "name": "stdout"
        }
      ]
    },
    {
      "cell_type": "code",
      "metadata": {
        "colab": {
          "base_uri": "https://localhost:8080/",
          "height": 180
        },
        "id": "uonseX1VFlG0",
        "outputId": "0da396ed-6e9e-410b-e949-03d65880bec5"
      },
      "source": [
        "# essayer de décoder bytes avec l’encodage ascii - UnicodeDecodeError\n",
        "print(after.decode(\"ascii\"))"
      ],
      "execution_count": 10,
      "outputs": [
        {
          "output_type": "error",
          "ename": "UnicodeDecodeError",
          "evalue": "ignored",
          "traceback": [
            "\u001b[0;31m---------------------------------------------------------------------------\u001b[0m",
            "\u001b[0;31mUnicodeDecodeError\u001b[0m                        Traceback (most recent call last)",
            "\u001b[0;32m<ipython-input-10-f90972e3c8fa>\u001b[0m in \u001b[0;36m<module>\u001b[0;34m()\u001b[0m\n\u001b[1;32m      1\u001b[0m \u001b[0;31m# essayer de décoder bytes avec l’encodage ascii - UnicodeDecodeError\u001b[0m\u001b[0;34m\u001b[0m\u001b[0;34m\u001b[0m\u001b[0;34m\u001b[0m\u001b[0m\n\u001b[0;32m----> 2\u001b[0;31m \u001b[0mprint\u001b[0m\u001b[0;34m(\u001b[0m\u001b[0mafter\u001b[0m\u001b[0;34m.\u001b[0m\u001b[0mdecode\u001b[0m\u001b[0;34m(\u001b[0m\u001b[0;34m\"ascii\"\u001b[0m\u001b[0;34m)\u001b[0m\u001b[0;34m)\u001b[0m\u001b[0;34m\u001b[0m\u001b[0;34m\u001b[0m\u001b[0m\n\u001b[0m",
            "\u001b[0;31mUnicodeDecodeError\u001b[0m: 'ascii' codec can't decode byte 0xe2 in position 6: ordinal not in range(128)"
          ]
        }
      ]
    },
    {
      "cell_type": "code",
      "metadata": {
        "colab": {
          "base_uri": "https://localhost:8080/"
        },
        "id": "oU5PNh98Fn33",
        "outputId": "59f68002-5b82-4d19-c442-9775fb4088e1"
      },
      "source": [
        "# exemple 2 - encoder de l’ascii vers bytes en remplaçant les \n",
        "# caracatères non ascii en caractères ascii aléatoires\n",
        "before = \"This is the euro symbol: €\"\n",
        "after = before.encode(\"ascii\", errors = \"replace\")\n",
        "print(after)\n",
        "# reconvertir/décoder vers le str utf-8\n",
        "print(after.decode(\"ascii\")) # perte du caractère € dans la chaine originale, remplacé par le ?, car non représenté dans l’ascii"
      ],
      "execution_count": 11,
      "outputs": [
        {
          "output_type": "stream",
          "text": [
            "b'This is the euro symbol: ?'\n",
            "This is the euro symbol: ?\n"
          ],
          "name": "stdout"
        }
      ]
    },
    {
      "cell_type": "code",
      "metadata": {
        "colab": {
          "base_uri": "https://localhost:8080/"
        },
        "id": "sqoLyAhuGAzj",
        "outputId": "1386683b-1e5c-4bc6-df7a-665b2abefc97"
      },
      "source": [
        "# afficher des formules chimiques\n",
        "print(\"The chemical formula of water is H\\u2082O.Water dissociates into H\\u207A and OH\\u207B\")"
      ],
      "execution_count": 12,
      "outputs": [
        {
          "output_type": "stream",
          "text": [
            "The chemical formula of water is H₂O.Water dissociates into H⁺ and OH⁻\n"
          ],
          "name": "stdout"
        }
      ]
    },
    {
      "cell_type": "code",
      "metadata": {
        "colab": {
          "base_uri": "https://localhost:8080/"
        },
        "id": "0AnMy5YVGDiL",
        "outputId": "c4ce3cc8-32dc-4e52-f50e-f3fff61a79ba"
      },
      "source": [
        "# afficher les caractères arabe en unicode dans l’intervalle\n",
        "for i in range(0x0600, 0x06ff):\n",
        "    print(chr(i))"
      ],
      "execution_count": 13,
      "outputs": [
        {
          "output_type": "stream",
          "text": [
            "؀\n",
            "؁\n",
            "؂\n",
            "؃\n",
            "؄\n",
            "؅\n",
            "؆\n",
            "؇\n",
            "؈\n",
            "؉\n",
            "؊\n",
            "؋\n",
            "،\n",
            "؍\n",
            "؎\n",
            "؏\n",
            "ؐ\n",
            "ؑ\n",
            "ؒ\n",
            "ؓ\n",
            "ؔ\n",
            "ؕ\n",
            "ؖ\n",
            "ؗ\n",
            "ؘ\n",
            "ؙ\n",
            "ؚ\n",
            "؛\n",
            "؜\n",
            "؝\n",
            "؞\n",
            "؟\n",
            "ؠ\n",
            "ء\n",
            "آ\n",
            "أ\n",
            "ؤ\n",
            "إ\n",
            "ئ\n",
            "ا\n",
            "ب\n",
            "ة\n",
            "ت\n",
            "ث\n",
            "ج\n",
            "ح\n",
            "خ\n",
            "د\n",
            "ذ\n",
            "ر\n",
            "ز\n",
            "س\n",
            "ش\n",
            "ص\n",
            "ض\n",
            "ط\n",
            "ظ\n",
            "ع\n",
            "غ\n",
            "ػ\n",
            "ؼ\n",
            "ؽ\n",
            "ؾ\n",
            "ؿ\n",
            "ـ\n",
            "ف\n",
            "ق\n",
            "ك\n",
            "ل\n",
            "م\n",
            "ن\n",
            "ه\n",
            "و\n",
            "ى\n",
            "ي\n",
            "ً\n",
            "ٌ\n",
            "ٍ\n",
            "َ\n",
            "ُ\n",
            "ِ\n",
            "ّ\n",
            "ْ\n",
            "ٓ\n",
            "ٔ\n",
            "ٕ\n",
            "ٖ\n",
            "ٗ\n",
            "٘\n",
            "ٙ\n",
            "ٚ\n",
            "ٛ\n",
            "ٜ\n",
            "ٝ\n",
            "ٞ\n",
            "ٟ\n",
            "٠\n",
            "١\n",
            "٢\n",
            "٣\n",
            "٤\n",
            "٥\n",
            "٦\n",
            "٧\n",
            "٨\n",
            "٩\n",
            "٪\n",
            "٫\n",
            "٬\n",
            "٭\n",
            "ٮ\n",
            "ٯ\n",
            "ٰ\n",
            "ٱ\n",
            "ٲ\n",
            "ٳ\n",
            "ٴ\n",
            "ٵ\n",
            "ٶ\n",
            "ٷ\n",
            "ٸ\n",
            "ٹ\n",
            "ٺ\n",
            "ٻ\n",
            "ټ\n",
            "ٽ\n",
            "پ\n",
            "ٿ\n",
            "ڀ\n",
            "ځ\n",
            "ڂ\n",
            "ڃ\n",
            "ڄ\n",
            "څ\n",
            "چ\n",
            "ڇ\n",
            "ڈ\n",
            "ډ\n",
            "ڊ\n",
            "ڋ\n",
            "ڌ\n",
            "ڍ\n",
            "ڎ\n",
            "ڏ\n",
            "ڐ\n",
            "ڑ\n",
            "ڒ\n",
            "ړ\n",
            "ڔ\n",
            "ڕ\n",
            "ږ\n",
            "ڗ\n",
            "ژ\n",
            "ڙ\n",
            "ښ\n",
            "ڛ\n",
            "ڜ\n",
            "ڝ\n",
            "ڞ\n",
            "ڟ\n",
            "ڠ\n",
            "ڡ\n",
            "ڢ\n",
            "ڣ\n",
            "ڤ\n",
            "ڥ\n",
            "ڦ\n",
            "ڧ\n",
            "ڨ\n",
            "ک\n",
            "ڪ\n",
            "ګ\n",
            "ڬ\n",
            "ڭ\n",
            "ڮ\n",
            "گ\n",
            "ڰ\n",
            "ڱ\n",
            "ڲ\n",
            "ڳ\n",
            "ڴ\n",
            "ڵ\n",
            "ڶ\n",
            "ڷ\n",
            "ڸ\n",
            "ڹ\n",
            "ں\n",
            "ڻ\n",
            "ڼ\n",
            "ڽ\n",
            "ھ\n",
            "ڿ\n",
            "ۀ\n",
            "ہ\n",
            "ۂ\n",
            "ۃ\n",
            "ۄ\n",
            "ۅ\n",
            "ۆ\n",
            "ۇ\n",
            "ۈ\n",
            "ۉ\n",
            "ۊ\n",
            "ۋ\n",
            "ی\n",
            "ۍ\n",
            "ێ\n",
            "ۏ\n",
            "ې\n",
            "ۑ\n",
            "ے\n",
            "ۓ\n",
            "۔\n",
            "ە\n",
            "ۖ\n",
            "ۗ\n",
            "ۘ\n",
            "ۙ\n",
            "ۚ\n",
            "ۛ\n",
            "ۜ\n",
            "۝\n",
            "۞\n",
            "۟\n",
            "۠\n",
            "ۡ\n",
            "ۢ\n",
            "ۣ\n",
            "ۤ\n",
            "ۥ\n",
            "ۦ\n",
            "ۧ\n",
            "ۨ\n",
            "۩\n",
            "۪\n",
            "۫\n",
            "۬\n",
            "ۭ\n",
            "ۮ\n",
            "ۯ\n",
            "۰\n",
            "۱\n",
            "۲\n",
            "۳\n",
            "۴\n",
            "۵\n",
            "۶\n",
            "۷\n",
            "۸\n",
            "۹\n",
            "ۺ\n",
            "ۻ\n",
            "ۼ\n",
            "۽\n",
            "۾\n"
          ],
          "name": "stdout"
        }
      ]
    },
    {
      "cell_type": "code",
      "metadata": {
        "colab": {
          "base_uri": "https://localhost:8080/"
        },
        "id": "H-89E3NrGGfu",
        "outputId": "01480939-edcc-44f6-ab2f-83d369e3baf8"
      },
      "source": [
        "# afficher les caractères tifinagh en unicode dans l’intervalle\n",
        "for i in range(0x2d30,0x2d6f):\n",
        "    print(chr(i))"
      ],
      "execution_count": 14,
      "outputs": [
        {
          "output_type": "stream",
          "text": [
            "ⴰ\n",
            "ⴱ\n",
            "ⴲ\n",
            "ⴳ\n",
            "ⴴ\n",
            "ⴵ\n",
            "ⴶ\n",
            "ⴷ\n",
            "ⴸ\n",
            "ⴹ\n",
            "ⴺ\n",
            "ⴻ\n",
            "ⴼ\n",
            "ⴽ\n",
            "ⴾ\n",
            "ⴿ\n",
            "ⵀ\n",
            "ⵁ\n",
            "ⵂ\n",
            "ⵃ\n",
            "ⵄ\n",
            "ⵅ\n",
            "ⵆ\n",
            "ⵇ\n",
            "ⵈ\n",
            "ⵉ\n",
            "ⵊ\n",
            "ⵋ\n",
            "ⵌ\n",
            "ⵍ\n",
            "ⵎ\n",
            "ⵏ\n",
            "ⵐ\n",
            "ⵑ\n",
            "ⵒ\n",
            "ⵓ\n",
            "ⵔ\n",
            "ⵕ\n",
            "ⵖ\n",
            "ⵗ\n",
            "ⵘ\n",
            "ⵙ\n",
            "ⵚ\n",
            "ⵛ\n",
            "ⵜ\n",
            "ⵝ\n",
            "ⵞ\n",
            "ⵟ\n",
            "ⵠ\n",
            "ⵡ\n",
            "ⵢ\n",
            "ⵣ\n",
            "ⵤ\n",
            "ⵥ\n",
            "ⵦ\n",
            "ⵧ\n",
            "⵨\n",
            "⵩\n",
            "⵪\n",
            "⵫\n",
            "⵬\n",
            "⵭\n",
            "⵮\n"
          ],
          "name": "stdout"
        }
      ]
    },
    {
      "cell_type": "code",
      "metadata": {
        "colab": {
          "base_uri": "https://localhost:8080/"
        },
        "id": "fCXfzjtdGNgz",
        "outputId": "735ea307-c588-4b8c-af52-385126a240a1"
      },
      "source": [
        "# afficher les caractères arabe en unicode avec leurs noms\n",
        "import unicodedata\n",
        "for i in range(0x0627,0x06ff):\n",
        "    try:\n",
        "        print(i, unicodedata.name(chr(i)))\n",
        "    except:\n",
        "        name =\"no name\""
      ],
      "execution_count": 15,
      "outputs": [
        {
          "output_type": "stream",
          "text": [
            "1575 ARABIC LETTER ALEF\n",
            "1576 ARABIC LETTER BEH\n",
            "1577 ARABIC LETTER TEH MARBUTA\n",
            "1578 ARABIC LETTER TEH\n",
            "1579 ARABIC LETTER THEH\n",
            "1580 ARABIC LETTER JEEM\n",
            "1581 ARABIC LETTER HAH\n",
            "1582 ARABIC LETTER KHAH\n",
            "1583 ARABIC LETTER DAL\n",
            "1584 ARABIC LETTER THAL\n",
            "1585 ARABIC LETTER REH\n",
            "1586 ARABIC LETTER ZAIN\n",
            "1587 ARABIC LETTER SEEN\n",
            "1588 ARABIC LETTER SHEEN\n",
            "1589 ARABIC LETTER SAD\n",
            "1590 ARABIC LETTER DAD\n",
            "1591 ARABIC LETTER TAH\n",
            "1592 ARABIC LETTER ZAH\n",
            "1593 ARABIC LETTER AIN\n",
            "1594 ARABIC LETTER GHAIN\n",
            "1595 ARABIC LETTER KEHEH WITH TWO DOTS ABOVE\n",
            "1596 ARABIC LETTER KEHEH WITH THREE DOTS BELOW\n",
            "1597 ARABIC LETTER FARSI YEH WITH INVERTED V\n",
            "1598 ARABIC LETTER FARSI YEH WITH TWO DOTS ABOVE\n",
            "1599 ARABIC LETTER FARSI YEH WITH THREE DOTS ABOVE\n",
            "1600 ARABIC TATWEEL\n",
            "1601 ARABIC LETTER FEH\n",
            "1602 ARABIC LETTER QAF\n",
            "1603 ARABIC LETTER KAF\n",
            "1604 ARABIC LETTER LAM\n",
            "1605 ARABIC LETTER MEEM\n",
            "1606 ARABIC LETTER NOON\n",
            "1607 ARABIC LETTER HEH\n",
            "1608 ARABIC LETTER WAW\n",
            "1609 ARABIC LETTER ALEF MAKSURA\n",
            "1610 ARABIC LETTER YEH\n",
            "1611 ARABIC FATHATAN\n",
            "1612 ARABIC DAMMATAN\n",
            "1613 ARABIC KASRATAN\n",
            "1614 ARABIC FATHA\n",
            "1615 ARABIC DAMMA\n",
            "1616 ARABIC KASRA\n",
            "1617 ARABIC SHADDA\n",
            "1618 ARABIC SUKUN\n",
            "1619 ARABIC MADDAH ABOVE\n",
            "1620 ARABIC HAMZA ABOVE\n",
            "1621 ARABIC HAMZA BELOW\n",
            "1622 ARABIC SUBSCRIPT ALEF\n",
            "1623 ARABIC INVERTED DAMMA\n",
            "1624 ARABIC MARK NOON GHUNNA\n",
            "1625 ARABIC ZWARAKAY\n",
            "1626 ARABIC VOWEL SIGN SMALL V ABOVE\n",
            "1627 ARABIC VOWEL SIGN INVERTED SMALL V ABOVE\n",
            "1628 ARABIC VOWEL SIGN DOT BELOW\n",
            "1629 ARABIC REVERSED DAMMA\n",
            "1630 ARABIC FATHA WITH TWO DOTS\n",
            "1631 ARABIC WAVY HAMZA BELOW\n",
            "1632 ARABIC-INDIC DIGIT ZERO\n",
            "1633 ARABIC-INDIC DIGIT ONE\n",
            "1634 ARABIC-INDIC DIGIT TWO\n",
            "1635 ARABIC-INDIC DIGIT THREE\n",
            "1636 ARABIC-INDIC DIGIT FOUR\n",
            "1637 ARABIC-INDIC DIGIT FIVE\n",
            "1638 ARABIC-INDIC DIGIT SIX\n",
            "1639 ARABIC-INDIC DIGIT SEVEN\n",
            "1640 ARABIC-INDIC DIGIT EIGHT\n",
            "1641 ARABIC-INDIC DIGIT NINE\n",
            "1642 ARABIC PERCENT SIGN\n",
            "1643 ARABIC DECIMAL SEPARATOR\n",
            "1644 ARABIC THOUSANDS SEPARATOR\n",
            "1645 ARABIC FIVE POINTED STAR\n",
            "1646 ARABIC LETTER DOTLESS BEH\n",
            "1647 ARABIC LETTER DOTLESS QAF\n",
            "1648 ARABIC LETTER SUPERSCRIPT ALEF\n",
            "1649 ARABIC LETTER ALEF WASLA\n",
            "1650 ARABIC LETTER ALEF WITH WAVY HAMZA ABOVE\n",
            "1651 ARABIC LETTER ALEF WITH WAVY HAMZA BELOW\n",
            "1652 ARABIC LETTER HIGH HAMZA\n",
            "1653 ARABIC LETTER HIGH HAMZA ALEF\n",
            "1654 ARABIC LETTER HIGH HAMZA WAW\n",
            "1655 ARABIC LETTER U WITH HAMZA ABOVE\n",
            "1656 ARABIC LETTER HIGH HAMZA YEH\n",
            "1657 ARABIC LETTER TTEH\n",
            "1658 ARABIC LETTER TTEHEH\n",
            "1659 ARABIC LETTER BEEH\n",
            "1660 ARABIC LETTER TEH WITH RING\n",
            "1661 ARABIC LETTER TEH WITH THREE DOTS ABOVE DOWNWARDS\n",
            "1662 ARABIC LETTER PEH\n",
            "1663 ARABIC LETTER TEHEH\n",
            "1664 ARABIC LETTER BEHEH\n",
            "1665 ARABIC LETTER HAH WITH HAMZA ABOVE\n",
            "1666 ARABIC LETTER HAH WITH TWO DOTS VERTICAL ABOVE\n",
            "1667 ARABIC LETTER NYEH\n",
            "1668 ARABIC LETTER DYEH\n",
            "1669 ARABIC LETTER HAH WITH THREE DOTS ABOVE\n",
            "1670 ARABIC LETTER TCHEH\n",
            "1671 ARABIC LETTER TCHEHEH\n",
            "1672 ARABIC LETTER DDAL\n",
            "1673 ARABIC LETTER DAL WITH RING\n",
            "1674 ARABIC LETTER DAL WITH DOT BELOW\n",
            "1675 ARABIC LETTER DAL WITH DOT BELOW AND SMALL TAH\n",
            "1676 ARABIC LETTER DAHAL\n",
            "1677 ARABIC LETTER DDAHAL\n",
            "1678 ARABIC LETTER DUL\n",
            "1679 ARABIC LETTER DAL WITH THREE DOTS ABOVE DOWNWARDS\n",
            "1680 ARABIC LETTER DAL WITH FOUR DOTS ABOVE\n",
            "1681 ARABIC LETTER RREH\n",
            "1682 ARABIC LETTER REH WITH SMALL V\n",
            "1683 ARABIC LETTER REH WITH RING\n",
            "1684 ARABIC LETTER REH WITH DOT BELOW\n",
            "1685 ARABIC LETTER REH WITH SMALL V BELOW\n",
            "1686 ARABIC LETTER REH WITH DOT BELOW AND DOT ABOVE\n",
            "1687 ARABIC LETTER REH WITH TWO DOTS ABOVE\n",
            "1688 ARABIC LETTER JEH\n",
            "1689 ARABIC LETTER REH WITH FOUR DOTS ABOVE\n",
            "1690 ARABIC LETTER SEEN WITH DOT BELOW AND DOT ABOVE\n",
            "1691 ARABIC LETTER SEEN WITH THREE DOTS BELOW\n",
            "1692 ARABIC LETTER SEEN WITH THREE DOTS BELOW AND THREE DOTS ABOVE\n",
            "1693 ARABIC LETTER SAD WITH TWO DOTS BELOW\n",
            "1694 ARABIC LETTER SAD WITH THREE DOTS ABOVE\n",
            "1695 ARABIC LETTER TAH WITH THREE DOTS ABOVE\n",
            "1696 ARABIC LETTER AIN WITH THREE DOTS ABOVE\n",
            "1697 ARABIC LETTER DOTLESS FEH\n",
            "1698 ARABIC LETTER FEH WITH DOT MOVED BELOW\n",
            "1699 ARABIC LETTER FEH WITH DOT BELOW\n",
            "1700 ARABIC LETTER VEH\n",
            "1701 ARABIC LETTER FEH WITH THREE DOTS BELOW\n",
            "1702 ARABIC LETTER PEHEH\n",
            "1703 ARABIC LETTER QAF WITH DOT ABOVE\n",
            "1704 ARABIC LETTER QAF WITH THREE DOTS ABOVE\n",
            "1705 ARABIC LETTER KEHEH\n",
            "1706 ARABIC LETTER SWASH KAF\n",
            "1707 ARABIC LETTER KAF WITH RING\n",
            "1708 ARABIC LETTER KAF WITH DOT ABOVE\n",
            "1709 ARABIC LETTER NG\n",
            "1710 ARABIC LETTER KAF WITH THREE DOTS BELOW\n",
            "1711 ARABIC LETTER GAF\n",
            "1712 ARABIC LETTER GAF WITH RING\n",
            "1713 ARABIC LETTER NGOEH\n",
            "1714 ARABIC LETTER GAF WITH TWO DOTS BELOW\n",
            "1715 ARABIC LETTER GUEH\n",
            "1716 ARABIC LETTER GAF WITH THREE DOTS ABOVE\n",
            "1717 ARABIC LETTER LAM WITH SMALL V\n",
            "1718 ARABIC LETTER LAM WITH DOT ABOVE\n",
            "1719 ARABIC LETTER LAM WITH THREE DOTS ABOVE\n",
            "1720 ARABIC LETTER LAM WITH THREE DOTS BELOW\n",
            "1721 ARABIC LETTER NOON WITH DOT BELOW\n",
            "1722 ARABIC LETTER NOON GHUNNA\n",
            "1723 ARABIC LETTER RNOON\n",
            "1724 ARABIC LETTER NOON WITH RING\n",
            "1725 ARABIC LETTER NOON WITH THREE DOTS ABOVE\n",
            "1726 ARABIC LETTER HEH DOACHASHMEE\n",
            "1727 ARABIC LETTER TCHEH WITH DOT ABOVE\n",
            "1728 ARABIC LETTER HEH WITH YEH ABOVE\n",
            "1729 ARABIC LETTER HEH GOAL\n",
            "1730 ARABIC LETTER HEH GOAL WITH HAMZA ABOVE\n",
            "1731 ARABIC LETTER TEH MARBUTA GOAL\n",
            "1732 ARABIC LETTER WAW WITH RING\n",
            "1733 ARABIC LETTER KIRGHIZ OE\n",
            "1734 ARABIC LETTER OE\n",
            "1735 ARABIC LETTER U\n",
            "1736 ARABIC LETTER YU\n",
            "1737 ARABIC LETTER KIRGHIZ YU\n",
            "1738 ARABIC LETTER WAW WITH TWO DOTS ABOVE\n",
            "1739 ARABIC LETTER VE\n",
            "1740 ARABIC LETTER FARSI YEH\n",
            "1741 ARABIC LETTER YEH WITH TAIL\n",
            "1742 ARABIC LETTER YEH WITH SMALL V\n",
            "1743 ARABIC LETTER WAW WITH DOT ABOVE\n",
            "1744 ARABIC LETTER E\n",
            "1745 ARABIC LETTER YEH WITH THREE DOTS BELOW\n",
            "1746 ARABIC LETTER YEH BARREE\n",
            "1747 ARABIC LETTER YEH BARREE WITH HAMZA ABOVE\n",
            "1748 ARABIC FULL STOP\n",
            "1749 ARABIC LETTER AE\n",
            "1750 ARABIC SMALL HIGH LIGATURE SAD WITH LAM WITH ALEF MAKSURA\n",
            "1751 ARABIC SMALL HIGH LIGATURE QAF WITH LAM WITH ALEF MAKSURA\n",
            "1752 ARABIC SMALL HIGH MEEM INITIAL FORM\n",
            "1753 ARABIC SMALL HIGH LAM ALEF\n",
            "1754 ARABIC SMALL HIGH JEEM\n",
            "1755 ARABIC SMALL HIGH THREE DOTS\n",
            "1756 ARABIC SMALL HIGH SEEN\n",
            "1757 ARABIC END OF AYAH\n",
            "1758 ARABIC START OF RUB EL HIZB\n",
            "1759 ARABIC SMALL HIGH ROUNDED ZERO\n",
            "1760 ARABIC SMALL HIGH UPRIGHT RECTANGULAR ZERO\n",
            "1761 ARABIC SMALL HIGH DOTLESS HEAD OF KHAH\n",
            "1762 ARABIC SMALL HIGH MEEM ISOLATED FORM\n",
            "1763 ARABIC SMALL LOW SEEN\n",
            "1764 ARABIC SMALL HIGH MADDA\n",
            "1765 ARABIC SMALL WAW\n",
            "1766 ARABIC SMALL YEH\n",
            "1767 ARABIC SMALL HIGH YEH\n",
            "1768 ARABIC SMALL HIGH NOON\n",
            "1769 ARABIC PLACE OF SAJDAH\n",
            "1770 ARABIC EMPTY CENTRE LOW STOP\n",
            "1771 ARABIC EMPTY CENTRE HIGH STOP\n",
            "1772 ARABIC ROUNDED HIGH STOP WITH FILLED CENTRE\n",
            "1773 ARABIC SMALL LOW MEEM\n",
            "1774 ARABIC LETTER DAL WITH INVERTED V\n",
            "1775 ARABIC LETTER REH WITH INVERTED V\n",
            "1776 EXTENDED ARABIC-INDIC DIGIT ZERO\n",
            "1777 EXTENDED ARABIC-INDIC DIGIT ONE\n",
            "1778 EXTENDED ARABIC-INDIC DIGIT TWO\n",
            "1779 EXTENDED ARABIC-INDIC DIGIT THREE\n",
            "1780 EXTENDED ARABIC-INDIC DIGIT FOUR\n",
            "1781 EXTENDED ARABIC-INDIC DIGIT FIVE\n",
            "1782 EXTENDED ARABIC-INDIC DIGIT SIX\n",
            "1783 EXTENDED ARABIC-INDIC DIGIT SEVEN\n",
            "1784 EXTENDED ARABIC-INDIC DIGIT EIGHT\n",
            "1785 EXTENDED ARABIC-INDIC DIGIT NINE\n",
            "1786 ARABIC LETTER SHEEN WITH DOT BELOW\n",
            "1787 ARABIC LETTER DAD WITH DOT BELOW\n",
            "1788 ARABIC LETTER GHAIN WITH DOT BELOW\n",
            "1789 ARABIC SIGN SINDHI AMPERSAND\n",
            "1790 ARABIC SIGN SINDHI POSTPOSITION MEN\n"
          ],
          "name": "stdout"
        }
      ]
    },
    {
      "cell_type": "markdown",
      "metadata": {
        "id": "cs8FsjrkGR8f"
      },
      "source": [
        "## **Segmentation - Tokenization**"
      ]
    },
    {
      "cell_type": "code",
      "metadata": {
        "colab": {
          "base_uri": "https://localhost:8080/"
        },
        "id": "_0GipjloGWYV",
        "outputId": "52a3330b-e446-4ff4-fdb9-b50c480be07c"
      },
      "source": [
        "# 1 - Tester la fonction tokenize() simple - Split text into words\n",
        "def tokenize(text):\n",
        "    # diviser la ligne par les espaces\n",
        "    list_word = text.split(\" \")\n",
        "    return list_word\n",
        "\n",
        "text = \"I'm Very Hungry, I want to eat something.\"\n",
        "tokens = tokenize(text);\n",
        "print(tokens)    "
      ],
      "execution_count": 16,
      "outputs": [
        {
          "output_type": "stream",
          "text": [
            "[\"I'm\", 'Very', 'Hungry,', 'I', 'want', 'to', 'eat', 'something.']\n"
          ],
          "name": "stdout"
        }
      ]
    },
    {
      "cell_type": "code",
      "metadata": {
        "id": "cvuazkZPGaA7"
      },
      "source": [
        "# 2 - Plusieurs implémentation de la fonction tokenize() en utilisant le module re (regular expression)\n",
        "import re\n",
        "\n",
        "# tokenize par des exp-reg simples\n",
        "def tokenize_regex_punct(text):\n",
        "    tokens = re.split(\"[.,:; ]+\", text)\n",
        "    return tokens\n",
        "\n",
        "# tokenize par des exp-reg simples, en gardant la ponctuation\n",
        "def tokenize_regex_punct_keep(text):\n",
        "    tokens = re.split(\"([.,:; ]+)\", text)\n",
        "    return tokens\n",
        "\n",
        "# tokenize par des expression régulière\n",
        "def tokenize_regex(text):\n",
        "    tokens = re.split(\"\\W+\", text)\n",
        "    return tokens\n",
        "\n",
        "# tokenize par des expression régulière, en gardant la ponctuation\n",
        "def tokenize_regex_keep_punct(text):\n",
        "    tokens = re.split(\"(\\W+)\", text)\n",
        "    return tokens"
      ],
      "execution_count": 17,
      "outputs": []
    },
    {
      "cell_type": "code",
      "metadata": {
        "id": "6b3W6fQXGgRS"
      },
      "source": [
        "text = \"I'm Very Hungry, I want to eat something. United Kingdom.\""
      ],
      "execution_count": 18,
      "outputs": []
    },
    {
      "cell_type": "code",
      "metadata": {
        "colab": {
          "base_uri": "https://localhost:8080/"
        },
        "id": "jlHt1X6EGktl",
        "outputId": "ac409e4c-da68-480c-f939-bd83d997a066"
      },
      "source": [
        "tokens = tokenize_regex_punct(text);\n",
        "print(tokens)"
      ],
      "execution_count": 19,
      "outputs": [
        {
          "output_type": "stream",
          "text": [
            "[\"I'm\", 'Very', 'Hungry', 'I', 'want', 'to', 'eat', 'something', 'United', 'Kingdom', '']\n"
          ],
          "name": "stdout"
        }
      ]
    },
    {
      "cell_type": "code",
      "metadata": {
        "colab": {
          "base_uri": "https://localhost:8080/"
        },
        "id": "LEAdeEQpGm0q",
        "outputId": "42d169dd-be18-47e4-ee92-813bd9cc025e"
      },
      "source": [
        "tokens = tokenize_regex_punct_keep(text);\n",
        "print(tokens) "
      ],
      "execution_count": 20,
      "outputs": [
        {
          "output_type": "stream",
          "text": [
            "[\"I'm\", ' ', 'Very', ' ', 'Hungry', ', ', 'I', ' ', 'want', ' ', 'to', ' ', 'eat', ' ', 'something', '. ', 'United', ' ', 'Kingdom', '.', '']\n"
          ],
          "name": "stdout"
        }
      ]
    },
    {
      "cell_type": "code",
      "metadata": {
        "colab": {
          "base_uri": "https://localhost:8080/"
        },
        "id": "ozDZ2BURGotq",
        "outputId": "ca82f078-77b1-4b72-cde3-48625a05117f"
      },
      "source": [
        "tokens = tokenize_regex(text);\n",
        "print(tokens) "
      ],
      "execution_count": 21,
      "outputs": [
        {
          "output_type": "stream",
          "text": [
            "['I', 'm', 'Very', 'Hungry', 'I', 'want', 'to', 'eat', 'something', 'United', 'Kingdom', '']\n"
          ],
          "name": "stdout"
        }
      ]
    },
    {
      "cell_type": "code",
      "metadata": {
        "colab": {
          "base_uri": "https://localhost:8080/"
        },
        "id": "v8Oj5PIQGqV6",
        "outputId": "700e25c8-b9af-45f0-a8df-f11348e77cb9"
      },
      "source": [
        "tokens = tokenize_regex_keep_punct(text);\n",
        "print(tokens)"
      ],
      "execution_count": 22,
      "outputs": [
        {
          "output_type": "stream",
          "text": [
            "['I', \"'\", 'm', ' ', 'Very', ' ', 'Hungry', ', ', 'I', ' ', 'want', ' ', 'to', ' ', 'eat', ' ', 'something', '. ', 'United', ' ', 'Kingdom', '.', '']\n"
          ],
          "name": "stdout"
        }
      ]
    }
  ]
}