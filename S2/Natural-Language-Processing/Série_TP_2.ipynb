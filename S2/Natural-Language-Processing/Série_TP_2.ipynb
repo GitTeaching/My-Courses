{
 "cells": [
  {
   "cell_type": "markdown",
   "metadata": {},
   "source": [
    "# Série TP 2 - TALN - Traitements de Bas Niveau"
   ]
  },
  {
   "cell_type": "markdown",
   "metadata": {},
   "source": [
    "## Partie 1 - Encodage de caractères et Tokenization "
   ]
  },
  {
   "cell_type": "markdown",
   "metadata": {
    "id": "HYt1S-PUEyNh"
   },
   "source": [
    "### 1 - L'encodage de caractères et de chaines de caractères"
   ]
  },
  {
   "cell_type": "code",
   "execution_count": 1,
   "metadata": {
    "colab": {
     "base_uri": "https://localhost:8080/"
    },
    "id": "O_Drmfl-Epf5",
    "outputId": "6a7f9d5c-d08d-431a-e4e9-6f9d1295b1ad"
   },
   "outputs": [],
   "source": [
    "# Fixer l' encodage des caractères dans l'entête du script - Par défaut unicode UTF-8\n",
    "# -*- coding: utf-8 -*-"
   ]
  },
  {
   "cell_type": "code",
   "execution_count": 2,
   "metadata": {
    "collapsed": true
   },
   "outputs": [
    {
     "name": "stdout",
     "output_type": "stream",
     "text": [
      "ascii\n",
      "base64_codec\n",
      "big5\n",
      "big5hkscs\n",
      "bz2_codec\n",
      "cp037\n",
      "cp1026\n",
      "cp1125\n",
      "cp1140\n",
      "cp1250\n",
      "cp1251\n",
      "cp1252\n",
      "cp1253\n",
      "cp1254\n",
      "cp1255\n",
      "cp1256\n",
      "cp1257\n",
      "cp1258\n",
      "cp273\n",
      "cp424\n",
      "cp437\n",
      "cp500\n",
      "cp775\n",
      "cp850\n",
      "cp852\n",
      "cp855\n",
      "cp857\n",
      "cp858\n",
      "cp860\n",
      "cp861\n",
      "cp862\n",
      "cp863\n",
      "cp864\n",
      "cp865\n",
      "cp866\n",
      "cp869\n",
      "cp932\n",
      "cp949\n",
      "cp950\n",
      "euc_jis_2004\n",
      "euc_jisx0213\n",
      "euc_jp\n",
      "euc_kr\n",
      "gb18030\n",
      "gb2312\n",
      "gbk\n",
      "hex_codec\n",
      "hp_roman8\n",
      "hz\n",
      "iso2022_jp\n",
      "iso2022_jp_1\n",
      "iso2022_jp_2\n",
      "iso2022_jp_2004\n",
      "iso2022_jp_3\n",
      "iso2022_jp_ext\n",
      "iso2022_kr\n",
      "iso8859_10\n",
      "iso8859_11\n",
      "iso8859_13\n",
      "iso8859_14\n",
      "iso8859_15\n",
      "iso8859_16\n",
      "iso8859_2\n",
      "iso8859_3\n",
      "iso8859_4\n",
      "iso8859_5\n",
      "iso8859_6\n",
      "iso8859_7\n",
      "iso8859_8\n",
      "iso8859_9\n",
      "johab\n",
      "koi8_r\n",
      "kz1048\n",
      "latin_1\n",
      "mac_cyrillic\n",
      "mac_greek\n",
      "mac_iceland\n",
      "mac_latin2\n",
      "mac_roman\n",
      "mac_turkish\n",
      "mbcs\n",
      "ptcp154\n",
      "quopri_codec\n",
      "rot_13\n",
      "shift_jis\n",
      "shift_jis_2004\n",
      "shift_jisx0213\n",
      "tactis\n",
      "tis_620\n",
      "utf_16\n",
      "utf_16_be\n",
      "utf_16_le\n",
      "utf_32\n",
      "utf_32_be\n",
      "utf_32_le\n",
      "utf_7\n",
      "utf_8\n",
      "uu_codec\n",
      "zlib_codec\n"
     ]
    }
   ],
   "source": [
    "# Afficher tous les encodages qui existent\n",
    "\n",
    "import sys\n",
    "import encodings\n",
    "\n",
    "# Récuperer le nom des encodages\n",
    "encodages = encodings.aliases.aliases.values()\n",
    "\n",
    "# Eliminer les doublants\n",
    "encodages = set(encodages)\n",
    "\n",
    "# Trier les éléments de la liste\n",
    "encodages = sorted(encodages)\n",
    "\n",
    "# join permet de mettre un séparateur entre les éléments pour les afficher\n",
    "print(\"\\n\".join(encodages))"
   ]
  },
  {
   "cell_type": "code",
   "execution_count": 3,
   "metadata": {},
   "outputs": [
    {
     "data": {
      "text/plain": [
       "65"
      ]
     },
     "execution_count": 3,
     "metadata": {},
     "output_type": "execute_result"
    }
   ],
   "source": [
    "# Recuperer le codepoint en décimal d'un caractère : ord()\n",
    "\n",
    "ord('A')"
   ]
  },
  {
   "cell_type": "code",
   "execution_count": 4,
   "metadata": {},
   "outputs": [
    {
     "name": "stdout",
     "output_type": "stream",
     "text": [
      "233\n",
      "8364\n"
     ]
    }
   ],
   "source": [
    "print(ord('é'))\n",
    "print(ord('€'))"
   ]
  },
  {
   "cell_type": "code",
   "execution_count": 5,
   "metadata": {
    "colab": {
     "base_uri": "https://localhost:8080/"
    },
    "id": "tC6Xx5iEE-gO",
    "outputId": "2615e87f-45cd-4ab6-d420-1aa215aa69f5"
   },
   "outputs": [
    {
     "data": {
      "text/plain": [
       "'A'"
      ]
     },
     "execution_count": 5,
     "metadata": {},
     "output_type": "execute_result"
    }
   ],
   "source": [
    "# Recuperer le caractère par son codepoint en décimal : chr()\n",
    "\n",
    "chr(65)"
   ]
  },
  {
   "cell_type": "code",
   "execution_count": 6,
   "metadata": {},
   "outputs": [
    {
     "name": "stdout",
     "output_type": "stream",
     "text": [
      "a\n",
      "í\n",
      "€\n"
     ]
    }
   ],
   "source": [
    "print(chr(97))\n",
    "print(chr(237))\n",
    "print(chr(8364))"
   ]
  },
  {
   "cell_type": "code",
   "execution_count": 7,
   "metadata": {
    "collapsed": true
   },
   "outputs": [
    {
     "name": "stdout",
     "output_type": "stream",
     "text": [
      "\u0000\n",
      "\u0001\n",
      "\u0002\n",
      "\u0003\n",
      "\u0004\n",
      "\u0005\n",
      "\u0006\n",
      "\u0007\n",
      "\b\n",
      "\t\n",
      "\n",
      "\n",
      "\u000b",
      "\n",
      "\f",
      "\n",
      "\r\n",
      "\u000e\n",
      "\u000f\n",
      "\u0010\n",
      "\u0011\n",
      "\u0012\n",
      "\u0013\n",
      "\u0014\n",
      "\u0015\n",
      "\u0016\n",
      "\u0017\n",
      "\u0018\n",
      "\u0019\n",
      "\u001a\n",
      "\u001b\n",
      "\u001c",
      "\n",
      "\u001d",
      "\n",
      "\u001e",
      "\n",
      "\u001f\n",
      " \n",
      "!\n",
      "\"\n",
      "#\n",
      "$\n",
      "%\n",
      "&\n",
      "'\n",
      "(\n",
      ")\n",
      "*\n",
      "+\n",
      ",\n",
      "-\n",
      ".\n",
      "/\n",
      "0\n",
      "1\n",
      "2\n",
      "3\n",
      "4\n",
      "5\n",
      "6\n",
      "7\n",
      "8\n",
      "9\n",
      ":\n",
      ";\n",
      "<\n",
      "=\n",
      ">\n",
      "?\n",
      "@\n",
      "A\n",
      "B\n",
      "C\n",
      "D\n",
      "E\n",
      "F\n",
      "G\n",
      "H\n",
      "I\n",
      "J\n",
      "K\n",
      "L\n",
      "M\n",
      "N\n",
      "O\n",
      "P\n",
      "Q\n",
      "R\n",
      "S\n",
      "T\n",
      "U\n",
      "V\n",
      "W\n",
      "X\n",
      "Y\n",
      "Z\n",
      "[\n",
      "\\\n",
      "]\n",
      "^\n",
      "_\n",
      "`\n",
      "a\n",
      "b\n",
      "c\n",
      "d\n",
      "e\n",
      "f\n",
      "g\n",
      "h\n",
      "i\n",
      "j\n",
      "k\n",
      "l\n",
      "m\n",
      "n\n",
      "o\n",
      "p\n",
      "q\n",
      "r\n",
      "s\n",
      "t\n",
      "u\n",
      "v\n",
      "w\n",
      "x\n",
      "y\n",
      "z\n",
      "{\n",
      "|\n",
      "}\n",
      "~\n",
      "\n"
     ]
    }
   ],
   "source": [
    "# Afficher tous les caractères (le Charset) de l'encodage ASCII 7 bits - 128 caractères\n",
    "for i in range(128):\n",
    "    print(chr(i))"
   ]
  },
  {
   "cell_type": "code",
   "execution_count": 8,
   "metadata": {},
   "outputs": [
    {
     "name": "stdout",
     "output_type": "stream",
     "text": [
      "ض\n"
     ]
    }
   ],
   "source": [
    "# Afficher un caractère par son code point Unicode : \\u + codepoint en 4 chiffres\n",
    "print('\\u0636')"
   ]
  },
  {
   "cell_type": "code",
   "execution_count": 9,
   "metadata": {},
   "outputs": [
    {
     "name": "stdout",
     "output_type": "stream",
     "text": [
      "Ὠ\n"
     ]
    }
   ],
   "source": [
    "print('\\u1F68')"
   ]
  },
  {
   "cell_type": "code",
   "execution_count": 10,
   "metadata": {
    "colab": {
     "base_uri": "https://localhost:8080/"
    },
    "id": "P5gZB-DwFBvu",
    "outputId": "6e508ed8-3263-4942-f138-7a0c42980f7e"
   },
   "outputs": [
    {
     "name": "stdout",
     "output_type": "stream",
     "text": [
      "Bonjour <class 'str'>\n",
      "b'Bonsoir' <class 'bytes'>\n"
     ]
    }
   ],
   "source": [
    "# En Python3, il existe deux types de chaine de caractère: str (character string) et bytes (byte string)\n",
    "\n",
    "ch = 'Bonjour'\n",
    "print(ch, type(ch)) \n",
    "\n",
    "bt = b'Bonsoir'\n",
    "print(bt, type(bt)) "
   ]
  },
  {
   "cell_type": "markdown",
   "metadata": {},
   "source": [
    "##### Différence entre str et bytes \n",
    "\n",
    "La seule chose qu'un ordinateur peut stocker, ce sont des bytes (octets).\n",
    "\n",
    "Pour stocker quoi que ce soit dans un ordinateur, vous devez d'abord l'encoder, c'est-à-dire le convertir en bytes. Par exemple:\n",
    "- Si vous souhaitez stocker de la musique, vous devez d'abord l'encoder en MP3, WAV, etc.\n",
    "- Si vous souhaitez stocker une image, vous devez d'abord l'encoder en PNG, JPEG, etc.\n",
    "- Si vous souhaitez stocker du texte, vous devez d'abord l'encoder en ASCII, UTF-8, etc.\n",
    "\n",
    "MP3, WAV, PNG, JPEG, ASCII et UTF-8 sont des exemples d'encodages. Un encodage est un format pour représenter l'audio, les images, le texte, etc. en bytes.\n",
    "\n",
    "En Python, une chaîne binaire (bytes) n'est que cela : une séquence d'octets binaire. Ce n'est pas lisible par l'être humain. Tout doit être converti en une chaîne bytes avant de pouvoir être stocké dans un ordinateur.\n",
    "\n",
    "D'autre part, une chaîne de caractères (str), souvent simplement appelée \"string\", est une séquence de caractères. Il est lisible par l'être humain. Une chaîne de caractères ne peut pas être stockée directement dans un ordinateur, elle doit d'abord être encodée (convertie en une chaîne bytes). Il existe plusieurs encodages par lesquels une chaîne de caractères peut être convertie en une chaîne bytes, tels que ASCII et UTF-8."
   ]
  },
  {
   "cell_type": "code",
   "execution_count": 11,
   "metadata": {
    "colab": {
     "base_uri": "https://localhost:8080/",
     "height": 129
    },
    "id": "WXKk3ZAsFIlN",
    "outputId": "193ef560-b28a-4975-da5d-16ad5885591a"
   },
   "outputs": [
    {
     "ename": "SyntaxError",
     "evalue": "bytes can only contain ASCII literal characters. (208655503.py, line 3)",
     "output_type": "error",
     "traceback": [
      "\u001b[1;36m  Input \u001b[1;32mIn [11]\u001b[1;36m\u001b[0m\n\u001b[1;33m    bt_2 = b'مرحبا'\u001b[0m\n\u001b[1;37m           ^\u001b[0m\n\u001b[1;31mSyntaxError\u001b[0m\u001b[1;31m:\u001b[0m bytes can only contain ASCII literal characters.\n"
     ]
    }
   ],
   "source": [
    "# A noter que : bytes ne peut contenir que des caractères ASCII (1 octet)\n",
    "\n",
    "bt_2 = b'مرحبا'"
   ]
  },
  {
   "cell_type": "code",
   "execution_count": 12,
   "metadata": {},
   "outputs": [],
   "source": [
    "# Encoder (convertir) une chaine de caractères str vers bytes en utilisant l'encodage ascii : encode()\n",
    "my_str = 'I am a string'\n",
    "my_bt = my_str.encode('ascii')"
   ]
  },
  {
   "cell_type": "code",
   "execution_count": 13,
   "metadata": {},
   "outputs": [
    {
     "name": "stdout",
     "output_type": "stream",
     "text": [
      "b'I am a string'\n"
     ]
    }
   ],
   "source": [
    "# Rappel: les chaînes bytes ne sont pas lisibles par l'humain, Python les décode à partir de l'ASCII lorsque vous les affichez\n",
    "print(my_bt)"
   ]
  },
  {
   "cell_type": "code",
   "execution_count": 14,
   "metadata": {},
   "outputs": [
    {
     "data": {
      "text/plain": [
       "'I am a string'"
      ]
     },
     "execution_count": 14,
     "metadata": {},
     "output_type": "execute_result"
    }
   ],
   "source": [
    "# Decoder (reconvertir) le bytes vers str : decode()\n",
    "my_bt.decode('ascii')"
   ]
  },
  {
   "cell_type": "code",
   "execution_count": 15,
   "metadata": {
    "colab": {
     "base_uri": "https://localhost:8080/"
    },
    "id": "nSEfgadvFQMN",
    "outputId": "0470c0ab-6b3f-47a8-e934-5f364b9d8c36"
   },
   "outputs": [
    {
     "name": "stdout",
     "output_type": "stream",
     "text": [
      "b'I am a string'\n"
     ]
    }
   ],
   "source": [
    "# Encoder (convertir) une chaine de caractères str vers bytes en utilisant l'encodage UTF-8 : encode()\n",
    "my_str = 'I am a string'\n",
    "my_bt = my_str.encode('utf-8')\n",
    "print(my_bt)"
   ]
  },
  {
   "cell_type": "code",
   "execution_count": 16,
   "metadata": {
    "colab": {
     "base_uri": "https://localhost:8080/"
    },
    "id": "GOxiYgpwFefk",
    "outputId": "85929f2d-c997-425c-efbe-fba401646c5a"
   },
   "outputs": [
    {
     "data": {
      "text/plain": [
       "'I am a string'"
      ]
     },
     "execution_count": 16,
     "metadata": {},
     "output_type": "execute_result"
    }
   ],
   "source": [
    "# Decoder (reconvertir) le bytes vers str : decode()\n",
    "my_bt.decode('utf-8')"
   ]
  },
  {
   "cell_type": "code",
   "execution_count": 17,
   "metadata": {
    "colab": {
     "base_uri": "https://localhost:8080/",
     "height": 180
    },
    "id": "uonseX1VFlG0",
    "outputId": "0da396ed-6e9e-410b-e949-03d65880bec5"
   },
   "outputs": [
    {
     "ename": "UnicodeEncodeError",
     "evalue": "'ascii' codec can't encode character '\\u20ac' in position 38: ordinal not in range(128)",
     "output_type": "error",
     "traceback": [
      "\u001b[1;31m---------------------------------------------------------------------------\u001b[0m",
      "\u001b[1;31mUnicodeEncodeError\u001b[0m                        Traceback (most recent call last)",
      "Input \u001b[1;32mIn [17]\u001b[0m, in \u001b[0;36m<cell line: 3>\u001b[1;34m()\u001b[0m\n\u001b[0;32m      1\u001b[0m \u001b[38;5;66;03m# Attention aux erreurs - caractères non pris en compte par l'encodage : UnicodeDecodeError\u001b[39;00m\n\u001b[0;32m      2\u001b[0m utf_str \u001b[38;5;241m=\u001b[39m \u001b[38;5;124m\"\u001b[39m\u001b[38;5;124mEuro symbol is a non ASCII character: €\u001b[39m\u001b[38;5;124m\"\u001b[39m\n\u001b[1;32m----> 3\u001b[0m ascii_bt \u001b[38;5;241m=\u001b[39m \u001b[43mutf_str\u001b[49m\u001b[38;5;241;43m.\u001b[39;49m\u001b[43mencode\u001b[49m\u001b[43m(\u001b[49m\u001b[38;5;124;43m'\u001b[39;49m\u001b[38;5;124;43mascii\u001b[39;49m\u001b[38;5;124;43m'\u001b[39;49m\u001b[43m)\u001b[49m\n\u001b[0;32m      4\u001b[0m \u001b[38;5;28mprint\u001b[39m(ascii_bt)\n",
      "\u001b[1;31mUnicodeEncodeError\u001b[0m: 'ascii' codec can't encode character '\\u20ac' in position 38: ordinal not in range(128)"
     ]
    }
   ],
   "source": [
    "# Attention aux erreurs - caractères non pris en compte par l'encodage : UnicodeDecodeError\n",
    "utf_str = \"Euro symbol is a non ASCII character: €\"\n",
    "ascii_bt = utf_str.encode('ascii')\n",
    "print(ascii_bt)"
   ]
  },
  {
   "cell_type": "code",
   "execution_count": 18,
   "metadata": {},
   "outputs": [
    {
     "name": "stdout",
     "output_type": "stream",
     "text": [
      "b'Euro symbol is a non ASCII character: '\n"
     ]
    }
   ],
   "source": [
    "# Solution : le paramètre errors ('replace', 'backslashreplace', 'ignore', 'namereplace')\n",
    "utf_str = \"Euro symbol is a non ASCII character: €\"\n",
    "ascii_bt = utf_str.encode('ascii', errors=\"ignore\")\n",
    "print(ascii_bt)"
   ]
  },
  {
   "cell_type": "code",
   "execution_count": 19,
   "metadata": {},
   "outputs": [
    {
     "name": "stdout",
     "output_type": "stream",
     "text": [
      "b'Euro symbol is a non ASCII character: \\\\N{EURO SIGN}'\n"
     ]
    }
   ],
   "source": [
    "# Solution : le paramètre errors ('replace', 'backslashreplace', 'ignore', 'namereplace')\n",
    "utf_str = \"Euro symbol is a non ASCII character: €\"\n",
    "ascii_bt = utf_str.encode('ascii', errors=\"namereplace\")\n",
    "print(ascii_bt)"
   ]
  },
  {
   "cell_type": "code",
   "execution_count": 20,
   "metadata": {},
   "outputs": [
    {
     "name": "stdout",
     "output_type": "stream",
     "text": [
      "b'Euro symbol is a non ASCII character: ?'\n"
     ]
    }
   ],
   "source": [
    "# Solution : le paramètre errors ('replace', 'backslashreplace', 'ignore', 'namereplace')\n",
    "utf_str = \"Euro symbol is a non ASCII character: €\"\n",
    "ascii_bt = utf_str.encode('ascii', errors=\"replace\")\n",
    "print(ascii_bt)"
   ]
  },
  {
   "cell_type": "code",
   "execution_count": 21,
   "metadata": {
    "colab": {
     "base_uri": "https://localhost:8080/"
    },
    "id": "oU5PNh98Fn33",
    "outputId": "59f68002-5b82-4d19-c442-9775fb4088e1"
   },
   "outputs": [
    {
     "data": {
      "text/plain": [
       "'Euro symbol is a non ASCII character: ?'"
      ]
     },
     "execution_count": 21,
     "metadata": {},
     "output_type": "execute_result"
    }
   ],
   "source": [
    "# Reconvertir/décoder vers le str\n",
    "ascii_bt.decode(\"ascii\") # perte du caractère € dans la chaine originale, remplacé par le ?, car non représenté dans l’ascii"
   ]
  },
  {
   "cell_type": "code",
   "execution_count": 22,
   "metadata": {},
   "outputs": [
    {
     "name": "stdout",
     "output_type": "stream",
     "text": [
      "τoρνoς\n",
      "蓏콯캁澽苏\n"
     ]
    }
   ],
   "source": [
    "# La même chaîne bytes peut représenter 2 chaînes str différentes dans 2 encodages différents\n",
    "\n",
    "machaine = b'\\xcf\\x84o\\xcf\\x81\\xce\\xbdo\\xcf\\x82'\n",
    "\n",
    "print(machaine.decode('utf-8'))\n",
    "\n",
    "print(machaine.decode('utf-16'))"
   ]
  },
  {
   "cell_type": "code",
   "execution_count": 23,
   "metadata": {
    "colab": {
     "base_uri": "https://localhost:8080/"
    },
    "id": "sqoLyAhuGAzj",
    "outputId": "1386683b-1e5c-4bc6-df7a-665b2abefc97"
   },
   "outputs": [
    {
     "name": "stdout",
     "output_type": "stream",
     "text": [
      "The chemical formula of water is H₂O.Water dissociates into H⁺ and OH⁻\n"
     ]
    }
   ],
   "source": [
    "# Afficher des formules chimiques avec codepoint unicode : \\u\n",
    "\n",
    "print(\"The chemical formula of water is H\\u2082O.Water dissociates into H\\u207A and OH\\u207B\")"
   ]
  },
  {
   "cell_type": "code",
   "execution_count": 24,
   "metadata": {
    "colab": {
     "base_uri": "https://localhost:8080/"
    },
    "collapsed": true,
    "id": "0AnMy5YVGDiL",
    "outputId": "c4ce3cc8-32dc-4e52-f50e-f3fff61a79ba"
   },
   "outputs": [
    {
     "name": "stdout",
     "output_type": "stream",
     "text": [
      "؀\n",
      "؁\n",
      "؂\n",
      "؃\n",
      "؄\n",
      "؅\n",
      "؆\n",
      "؇\n",
      "؈\n",
      "؉\n",
      "؊\n",
      "؋\n",
      "،\n",
      "؍\n",
      "؎\n",
      "؏\n",
      "ؐ\n",
      "ؑ\n",
      "ؒ\n",
      "ؓ\n",
      "ؔ\n",
      "ؕ\n",
      "ؖ\n",
      "ؗ\n",
      "ؘ\n",
      "ؙ\n",
      "ؚ\n",
      "؛\n",
      "؜\n",
      "؝\n",
      "؞\n",
      "؟\n",
      "ؠ\n",
      "ء\n",
      "آ\n",
      "أ\n",
      "ؤ\n",
      "إ\n",
      "ئ\n",
      "ا\n",
      "ب\n",
      "ة\n",
      "ت\n",
      "ث\n",
      "ج\n",
      "ح\n",
      "خ\n",
      "د\n",
      "ذ\n",
      "ر\n",
      "ز\n",
      "س\n",
      "ش\n",
      "ص\n",
      "ض\n",
      "ط\n",
      "ظ\n",
      "ع\n",
      "غ\n",
      "ػ\n",
      "ؼ\n",
      "ؽ\n",
      "ؾ\n",
      "ؿ\n",
      "ـ\n",
      "ف\n",
      "ق\n",
      "ك\n",
      "ل\n",
      "م\n",
      "ن\n",
      "ه\n",
      "و\n",
      "ى\n",
      "ي\n",
      "ً\n",
      "ٌ\n",
      "ٍ\n",
      "َ\n",
      "ُ\n",
      "ِ\n",
      "ّ\n",
      "ْ\n",
      "ٓ\n",
      "ٔ\n",
      "ٕ\n",
      "ٖ\n",
      "ٗ\n",
      "٘\n",
      "ٙ\n",
      "ٚ\n",
      "ٛ\n",
      "ٜ\n",
      "ٝ\n",
      "ٞ\n",
      "ٟ\n",
      "٠\n",
      "١\n",
      "٢\n",
      "٣\n",
      "٤\n",
      "٥\n",
      "٦\n",
      "٧\n",
      "٨\n",
      "٩\n",
      "٪\n",
      "٫\n",
      "٬\n",
      "٭\n",
      "ٮ\n",
      "ٯ\n",
      "ٰ\n",
      "ٱ\n",
      "ٲ\n",
      "ٳ\n",
      "ٴ\n",
      "ٵ\n",
      "ٶ\n",
      "ٷ\n",
      "ٸ\n",
      "ٹ\n",
      "ٺ\n",
      "ٻ\n",
      "ټ\n",
      "ٽ\n",
      "پ\n",
      "ٿ\n",
      "ڀ\n",
      "ځ\n",
      "ڂ\n",
      "ڃ\n",
      "ڄ\n",
      "څ\n",
      "چ\n",
      "ڇ\n",
      "ڈ\n",
      "ډ\n",
      "ڊ\n",
      "ڋ\n",
      "ڌ\n",
      "ڍ\n",
      "ڎ\n",
      "ڏ\n",
      "ڐ\n",
      "ڑ\n",
      "ڒ\n",
      "ړ\n",
      "ڔ\n",
      "ڕ\n",
      "ږ\n",
      "ڗ\n",
      "ژ\n",
      "ڙ\n",
      "ښ\n",
      "ڛ\n",
      "ڜ\n",
      "ڝ\n",
      "ڞ\n",
      "ڟ\n",
      "ڠ\n",
      "ڡ\n",
      "ڢ\n",
      "ڣ\n",
      "ڤ\n",
      "ڥ\n",
      "ڦ\n",
      "ڧ\n",
      "ڨ\n",
      "ک\n",
      "ڪ\n",
      "ګ\n",
      "ڬ\n",
      "ڭ\n",
      "ڮ\n",
      "گ\n",
      "ڰ\n",
      "ڱ\n",
      "ڲ\n",
      "ڳ\n",
      "ڴ\n",
      "ڵ\n",
      "ڶ\n",
      "ڷ\n",
      "ڸ\n",
      "ڹ\n",
      "ں\n",
      "ڻ\n",
      "ڼ\n",
      "ڽ\n",
      "ھ\n",
      "ڿ\n",
      "ۀ\n",
      "ہ\n",
      "ۂ\n",
      "ۃ\n",
      "ۄ\n",
      "ۅ\n",
      "ۆ\n",
      "ۇ\n",
      "ۈ\n",
      "ۉ\n",
      "ۊ\n",
      "ۋ\n",
      "ی\n",
      "ۍ\n",
      "ێ\n",
      "ۏ\n",
      "ې\n",
      "ۑ\n",
      "ے\n",
      "ۓ\n",
      "۔\n",
      "ە\n",
      "ۖ\n",
      "ۗ\n",
      "ۘ\n",
      "ۙ\n",
      "ۚ\n",
      "ۛ\n",
      "ۜ\n",
      "۝\n",
      "۞\n",
      "۟\n",
      "۠\n",
      "ۡ\n",
      "ۢ\n",
      "ۣ\n",
      "ۤ\n",
      "ۥ\n",
      "ۦ\n",
      "ۧ\n",
      "ۨ\n",
      "۩\n",
      "۪\n",
      "۫\n",
      "۬\n",
      "ۭ\n",
      "ۮ\n",
      "ۯ\n",
      "۰\n",
      "۱\n",
      "۲\n",
      "۳\n",
      "۴\n",
      "۵\n",
      "۶\n",
      "۷\n",
      "۸\n",
      "۹\n",
      "ۺ\n",
      "ۻ\n",
      "ۼ\n",
      "۽\n",
      "۾\n"
     ]
    }
   ],
   "source": [
    "# Afficher les caractères arabes \n",
    "for i in range(1536, 1791):\n",
    "    print(chr(i))"
   ]
  },
  {
   "cell_type": "code",
   "execution_count": 25,
   "metadata": {
    "colab": {
     "base_uri": "https://localhost:8080/"
    },
    "collapsed": true,
    "id": "H-89E3NrGGfu",
    "outputId": "01480939-edcc-44f6-ab2f-83d369e3baf8"
   },
   "outputs": [
    {
     "name": "stdout",
     "output_type": "stream",
     "text": [
      "ⴰ\n",
      "ⴱ\n",
      "ⴲ\n",
      "ⴳ\n",
      "ⴴ\n",
      "ⴵ\n",
      "ⴶ\n",
      "ⴷ\n",
      "ⴸ\n",
      "ⴹ\n",
      "ⴺ\n",
      "ⴻ\n",
      "ⴼ\n",
      "ⴽ\n",
      "ⴾ\n",
      "ⴿ\n",
      "ⵀ\n",
      "ⵁ\n",
      "ⵂ\n",
      "ⵃ\n",
      "ⵄ\n",
      "ⵅ\n",
      "ⵆ\n",
      "ⵇ\n",
      "ⵈ\n",
      "ⵉ\n",
      "ⵊ\n",
      "ⵋ\n",
      "ⵌ\n",
      "ⵍ\n",
      "ⵎ\n",
      "ⵏ\n",
      "ⵐ\n",
      "ⵑ\n",
      "ⵒ\n",
      "ⵓ\n",
      "ⵔ\n",
      "ⵕ\n",
      "ⵖ\n",
      "ⵗ\n",
      "ⵘ\n",
      "ⵙ\n",
      "ⵚ\n",
      "ⵛ\n",
      "ⵜ\n",
      "ⵝ\n",
      "ⵞ\n",
      "ⵟ\n",
      "ⵠ\n",
      "ⵡ\n",
      "ⵢ\n",
      "ⵣ\n",
      "ⵤ\n",
      "ⵥ\n",
      "ⵦ\n",
      "ⵧ\n",
      "⵨\n",
      "⵩\n",
      "⵪\n",
      "⵫\n",
      "⵬\n",
      "⵭\n",
      "⵮\n"
     ]
    }
   ],
   "source": [
    "# Afficher les caractères tifinagh \n",
    "for i in range(11568 , 11631):\n",
    "    print(chr(i))"
   ]
  },
  {
   "cell_type": "code",
   "execution_count": 26,
   "metadata": {
    "colab": {
     "base_uri": "https://localhost:8080/"
    },
    "collapsed": true,
    "id": "fCXfzjtdGNgz",
    "outputId": "735ea307-c588-4b8c-af52-385126a240a1"
   },
   "outputs": [
    {
     "name": "stdout",
     "output_type": "stream",
     "text": [
      "1575 ARABIC LETTER ALEF\n",
      "1576 ARABIC LETTER BEH\n",
      "1577 ARABIC LETTER TEH MARBUTA\n",
      "1578 ARABIC LETTER TEH\n",
      "1579 ARABIC LETTER THEH\n",
      "1580 ARABIC LETTER JEEM\n",
      "1581 ARABIC LETTER HAH\n",
      "1582 ARABIC LETTER KHAH\n",
      "1583 ARABIC LETTER DAL\n",
      "1584 ARABIC LETTER THAL\n",
      "1585 ARABIC LETTER REH\n",
      "1586 ARABIC LETTER ZAIN\n",
      "1587 ARABIC LETTER SEEN\n",
      "1588 ARABIC LETTER SHEEN\n",
      "1589 ARABIC LETTER SAD\n",
      "1590 ARABIC LETTER DAD\n",
      "1591 ARABIC LETTER TAH\n",
      "1592 ARABIC LETTER ZAH\n",
      "1593 ARABIC LETTER AIN\n",
      "1594 ARABIC LETTER GHAIN\n",
      "1595 ARABIC LETTER KEHEH WITH TWO DOTS ABOVE\n",
      "1596 ARABIC LETTER KEHEH WITH THREE DOTS BELOW\n",
      "1597 ARABIC LETTER FARSI YEH WITH INVERTED V\n",
      "1598 ARABIC LETTER FARSI YEH WITH TWO DOTS ABOVE\n",
      "1599 ARABIC LETTER FARSI YEH WITH THREE DOTS ABOVE\n",
      "1600 ARABIC TATWEEL\n",
      "1601 ARABIC LETTER FEH\n",
      "1602 ARABIC LETTER QAF\n",
      "1603 ARABIC LETTER KAF\n",
      "1604 ARABIC LETTER LAM\n",
      "1605 ARABIC LETTER MEEM\n",
      "1606 ARABIC LETTER NOON\n",
      "1607 ARABIC LETTER HEH\n",
      "1608 ARABIC LETTER WAW\n",
      "1609 ARABIC LETTER ALEF MAKSURA\n",
      "1610 ARABIC LETTER YEH\n",
      "1611 ARABIC FATHATAN\n",
      "1612 ARABIC DAMMATAN\n",
      "1613 ARABIC KASRATAN\n",
      "1614 ARABIC FATHA\n",
      "1615 ARABIC DAMMA\n",
      "1616 ARABIC KASRA\n",
      "1617 ARABIC SHADDA\n",
      "1618 ARABIC SUKUN\n",
      "1619 ARABIC MADDAH ABOVE\n",
      "1620 ARABIC HAMZA ABOVE\n",
      "1621 ARABIC HAMZA BELOW\n",
      "1622 ARABIC SUBSCRIPT ALEF\n",
      "1623 ARABIC INVERTED DAMMA\n",
      "1624 ARABIC MARK NOON GHUNNA\n",
      "1625 ARABIC ZWARAKAY\n",
      "1626 ARABIC VOWEL SIGN SMALL V ABOVE\n",
      "1627 ARABIC VOWEL SIGN INVERTED SMALL V ABOVE\n",
      "1628 ARABIC VOWEL SIGN DOT BELOW\n",
      "1629 ARABIC REVERSED DAMMA\n",
      "1630 ARABIC FATHA WITH TWO DOTS\n",
      "1631 ARABIC WAVY HAMZA BELOW\n",
      "1632 ARABIC-INDIC DIGIT ZERO\n",
      "1633 ARABIC-INDIC DIGIT ONE\n",
      "1634 ARABIC-INDIC DIGIT TWO\n",
      "1635 ARABIC-INDIC DIGIT THREE\n",
      "1636 ARABIC-INDIC DIGIT FOUR\n",
      "1637 ARABIC-INDIC DIGIT FIVE\n",
      "1638 ARABIC-INDIC DIGIT SIX\n",
      "1639 ARABIC-INDIC DIGIT SEVEN\n",
      "1640 ARABIC-INDIC DIGIT EIGHT\n",
      "1641 ARABIC-INDIC DIGIT NINE\n",
      "1642 ARABIC PERCENT SIGN\n",
      "1643 ARABIC DECIMAL SEPARATOR\n",
      "1644 ARABIC THOUSANDS SEPARATOR\n",
      "1645 ARABIC FIVE POINTED STAR\n",
      "1646 ARABIC LETTER DOTLESS BEH\n",
      "1647 ARABIC LETTER DOTLESS QAF\n",
      "1648 ARABIC LETTER SUPERSCRIPT ALEF\n",
      "1649 ARABIC LETTER ALEF WASLA\n",
      "1650 ARABIC LETTER ALEF WITH WAVY HAMZA ABOVE\n",
      "1651 ARABIC LETTER ALEF WITH WAVY HAMZA BELOW\n",
      "1652 ARABIC LETTER HIGH HAMZA\n",
      "1653 ARABIC LETTER HIGH HAMZA ALEF\n",
      "1654 ARABIC LETTER HIGH HAMZA WAW\n",
      "1655 ARABIC LETTER U WITH HAMZA ABOVE\n",
      "1656 ARABIC LETTER HIGH HAMZA YEH\n",
      "1657 ARABIC LETTER TTEH\n",
      "1658 ARABIC LETTER TTEHEH\n",
      "1659 ARABIC LETTER BEEH\n",
      "1660 ARABIC LETTER TEH WITH RING\n",
      "1661 ARABIC LETTER TEH WITH THREE DOTS ABOVE DOWNWARDS\n",
      "1662 ARABIC LETTER PEH\n",
      "1663 ARABIC LETTER TEHEH\n",
      "1664 ARABIC LETTER BEHEH\n",
      "1665 ARABIC LETTER HAH WITH HAMZA ABOVE\n",
      "1666 ARABIC LETTER HAH WITH TWO DOTS VERTICAL ABOVE\n",
      "1667 ARABIC LETTER NYEH\n",
      "1668 ARABIC LETTER DYEH\n",
      "1669 ARABIC LETTER HAH WITH THREE DOTS ABOVE\n",
      "1670 ARABIC LETTER TCHEH\n",
      "1671 ARABIC LETTER TCHEHEH\n",
      "1672 ARABIC LETTER DDAL\n",
      "1673 ARABIC LETTER DAL WITH RING\n",
      "1674 ARABIC LETTER DAL WITH DOT BELOW\n",
      "1675 ARABIC LETTER DAL WITH DOT BELOW AND SMALL TAH\n",
      "1676 ARABIC LETTER DAHAL\n",
      "1677 ARABIC LETTER DDAHAL\n",
      "1678 ARABIC LETTER DUL\n",
      "1679 ARABIC LETTER DAL WITH THREE DOTS ABOVE DOWNWARDS\n",
      "1680 ARABIC LETTER DAL WITH FOUR DOTS ABOVE\n",
      "1681 ARABIC LETTER RREH\n",
      "1682 ARABIC LETTER REH WITH SMALL V\n",
      "1683 ARABIC LETTER REH WITH RING\n",
      "1684 ARABIC LETTER REH WITH DOT BELOW\n",
      "1685 ARABIC LETTER REH WITH SMALL V BELOW\n",
      "1686 ARABIC LETTER REH WITH DOT BELOW AND DOT ABOVE\n",
      "1687 ARABIC LETTER REH WITH TWO DOTS ABOVE\n",
      "1688 ARABIC LETTER JEH\n",
      "1689 ARABIC LETTER REH WITH FOUR DOTS ABOVE\n",
      "1690 ARABIC LETTER SEEN WITH DOT BELOW AND DOT ABOVE\n",
      "1691 ARABIC LETTER SEEN WITH THREE DOTS BELOW\n",
      "1692 ARABIC LETTER SEEN WITH THREE DOTS BELOW AND THREE DOTS ABOVE\n",
      "1693 ARABIC LETTER SAD WITH TWO DOTS BELOW\n",
      "1694 ARABIC LETTER SAD WITH THREE DOTS ABOVE\n",
      "1695 ARABIC LETTER TAH WITH THREE DOTS ABOVE\n",
      "1696 ARABIC LETTER AIN WITH THREE DOTS ABOVE\n",
      "1697 ARABIC LETTER DOTLESS FEH\n",
      "1698 ARABIC LETTER FEH WITH DOT MOVED BELOW\n",
      "1699 ARABIC LETTER FEH WITH DOT BELOW\n",
      "1700 ARABIC LETTER VEH\n",
      "1701 ARABIC LETTER FEH WITH THREE DOTS BELOW\n",
      "1702 ARABIC LETTER PEHEH\n",
      "1703 ARABIC LETTER QAF WITH DOT ABOVE\n",
      "1704 ARABIC LETTER QAF WITH THREE DOTS ABOVE\n",
      "1705 ARABIC LETTER KEHEH\n",
      "1706 ARABIC LETTER SWASH KAF\n",
      "1707 ARABIC LETTER KAF WITH RING\n",
      "1708 ARABIC LETTER KAF WITH DOT ABOVE\n",
      "1709 ARABIC LETTER NG\n",
      "1710 ARABIC LETTER KAF WITH THREE DOTS BELOW\n",
      "1711 ARABIC LETTER GAF\n",
      "1712 ARABIC LETTER GAF WITH RING\n",
      "1713 ARABIC LETTER NGOEH\n",
      "1714 ARABIC LETTER GAF WITH TWO DOTS BELOW\n",
      "1715 ARABIC LETTER GUEH\n",
      "1716 ARABIC LETTER GAF WITH THREE DOTS ABOVE\n",
      "1717 ARABIC LETTER LAM WITH SMALL V\n",
      "1718 ARABIC LETTER LAM WITH DOT ABOVE\n",
      "1719 ARABIC LETTER LAM WITH THREE DOTS ABOVE\n",
      "1720 ARABIC LETTER LAM WITH THREE DOTS BELOW\n",
      "1721 ARABIC LETTER NOON WITH DOT BELOW\n",
      "1722 ARABIC LETTER NOON GHUNNA\n",
      "1723 ARABIC LETTER RNOON\n",
      "1724 ARABIC LETTER NOON WITH RING\n",
      "1725 ARABIC LETTER NOON WITH THREE DOTS ABOVE\n",
      "1726 ARABIC LETTER HEH DOACHASHMEE\n",
      "1727 ARABIC LETTER TCHEH WITH DOT ABOVE\n",
      "1728 ARABIC LETTER HEH WITH YEH ABOVE\n",
      "1729 ARABIC LETTER HEH GOAL\n",
      "1730 ARABIC LETTER HEH GOAL WITH HAMZA ABOVE\n",
      "1731 ARABIC LETTER TEH MARBUTA GOAL\n",
      "1732 ARABIC LETTER WAW WITH RING\n",
      "1733 ARABIC LETTER KIRGHIZ OE\n",
      "1734 ARABIC LETTER OE\n",
      "1735 ARABIC LETTER U\n",
      "1736 ARABIC LETTER YU\n",
      "1737 ARABIC LETTER KIRGHIZ YU\n",
      "1738 ARABIC LETTER WAW WITH TWO DOTS ABOVE\n",
      "1739 ARABIC LETTER VE\n",
      "1740 ARABIC LETTER FARSI YEH\n",
      "1741 ARABIC LETTER YEH WITH TAIL\n",
      "1742 ARABIC LETTER YEH WITH SMALL V\n",
      "1743 ARABIC LETTER WAW WITH DOT ABOVE\n",
      "1744 ARABIC LETTER E\n",
      "1745 ARABIC LETTER YEH WITH THREE DOTS BELOW\n",
      "1746 ARABIC LETTER YEH BARREE\n",
      "1747 ARABIC LETTER YEH BARREE WITH HAMZA ABOVE\n",
      "1748 ARABIC FULL STOP\n",
      "1749 ARABIC LETTER AE\n",
      "1750 ARABIC SMALL HIGH LIGATURE SAD WITH LAM WITH ALEF MAKSURA\n",
      "1751 ARABIC SMALL HIGH LIGATURE QAF WITH LAM WITH ALEF MAKSURA\n",
      "1752 ARABIC SMALL HIGH MEEM INITIAL FORM\n",
      "1753 ARABIC SMALL HIGH LAM ALEF\n",
      "1754 ARABIC SMALL HIGH JEEM\n",
      "1755 ARABIC SMALL HIGH THREE DOTS\n",
      "1756 ARABIC SMALL HIGH SEEN\n",
      "1757 ARABIC END OF AYAH\n",
      "1758 ARABIC START OF RUB EL HIZB\n",
      "1759 ARABIC SMALL HIGH ROUNDED ZERO\n",
      "1760 ARABIC SMALL HIGH UPRIGHT RECTANGULAR ZERO\n",
      "1761 ARABIC SMALL HIGH DOTLESS HEAD OF KHAH\n",
      "1762 ARABIC SMALL HIGH MEEM ISOLATED FORM\n",
      "1763 ARABIC SMALL LOW SEEN\n",
      "1764 ARABIC SMALL HIGH MADDA\n",
      "1765 ARABIC SMALL WAW\n",
      "1766 ARABIC SMALL YEH\n",
      "1767 ARABIC SMALL HIGH YEH\n",
      "1768 ARABIC SMALL HIGH NOON\n",
      "1769 ARABIC PLACE OF SAJDAH\n",
      "1770 ARABIC EMPTY CENTRE LOW STOP\n",
      "1771 ARABIC EMPTY CENTRE HIGH STOP\n",
      "1772 ARABIC ROUNDED HIGH STOP WITH FILLED CENTRE\n",
      "1773 ARABIC SMALL LOW MEEM\n",
      "1774 ARABIC LETTER DAL WITH INVERTED V\n",
      "1775 ARABIC LETTER REH WITH INVERTED V\n",
      "1776 EXTENDED ARABIC-INDIC DIGIT ZERO\n",
      "1777 EXTENDED ARABIC-INDIC DIGIT ONE\n",
      "1778 EXTENDED ARABIC-INDIC DIGIT TWO\n",
      "1779 EXTENDED ARABIC-INDIC DIGIT THREE\n",
      "1780 EXTENDED ARABIC-INDIC DIGIT FOUR\n",
      "1781 EXTENDED ARABIC-INDIC DIGIT FIVE\n",
      "1782 EXTENDED ARABIC-INDIC DIGIT SIX\n",
      "1783 EXTENDED ARABIC-INDIC DIGIT SEVEN\n",
      "1784 EXTENDED ARABIC-INDIC DIGIT EIGHT\n",
      "1785 EXTENDED ARABIC-INDIC DIGIT NINE\n",
      "1786 ARABIC LETTER SHEEN WITH DOT BELOW\n",
      "1787 ARABIC LETTER DAD WITH DOT BELOW\n",
      "1788 ARABIC LETTER GHAIN WITH DOT BELOW\n",
      "1789 ARABIC SIGN SINDHI AMPERSAND\n",
      "1790 ARABIC SIGN SINDHI POSTPOSITION MEN\n"
     ]
    }
   ],
   "source": [
    "# Afficher les caractères arabe avec leurs noms\n",
    "import unicodedata\n",
    "for i in range(1575, 1791):\n",
    "    print(i, unicodedata.name(chr(i)))"
   ]
  },
  {
   "cell_type": "markdown",
   "metadata": {
    "id": "cs8FsjrkGR8f"
   },
   "source": [
    "### 2 - Segementation - Tokenization"
   ]
  },
  {
   "cell_type": "code",
   "execution_count": 27,
   "metadata": {},
   "outputs": [],
   "source": [
    "text = \"I'm Very Hungry. I want to eat something, maybe an apple.\""
   ]
  },
  {
   "cell_type": "code",
   "execution_count": 28,
   "metadata": {},
   "outputs": [
    {
     "data": {
      "text/plain": [
       "[\"I'm Very Hungry\", ' I want to eat something, maybe an apple', '']"
      ]
     },
     "execution_count": 28,
     "metadata": {},
     "output_type": "execute_result"
    }
   ],
   "source": [
    "# Sentence tokenization : split(separator, maxsplit)\n",
    "text.split(\".\")"
   ]
  },
  {
   "cell_type": "code",
   "execution_count": 29,
   "metadata": {},
   "outputs": [
    {
     "data": {
      "text/plain": [
       "[\"I'm\",\n",
       " 'Very',\n",
       " 'Hungry.',\n",
       " 'I',\n",
       " 'want',\n",
       " 'to',\n",
       " 'eat',\n",
       " 'something,',\n",
       " 'maybe',\n",
       " 'an',\n",
       " 'apple.']"
      ]
     },
     "execution_count": 29,
     "metadata": {},
     "output_type": "execute_result"
    }
   ],
   "source": [
    "# Word tokenization - White space : split(separator, maxsplit)\n",
    "text.split(\" \")"
   ]
  },
  {
   "cell_type": "code",
   "execution_count": 30,
   "metadata": {},
   "outputs": [
    {
     "name": "stdout",
     "output_type": "stream",
     "text": [
      "['apple', 'banana', 'cherry', 'orange']\n"
     ]
    }
   ],
   "source": [
    "example = \"apple#banana#cherry#orange\"\n",
    "x = example.split(\"#\")\n",
    "print(x)"
   ]
  },
  {
   "cell_type": "code",
   "execution_count": 31,
   "metadata": {},
   "outputs": [
    {
     "data": {
      "text/plain": [
       "['apple', 'banana#cherry#orange']"
      ]
     },
     "execution_count": 31,
     "metadata": {},
     "output_type": "execute_result"
    }
   ],
   "source": [
    "example.split(\"#\", maxsplit=1)"
   ]
  },
  {
   "cell_type": "markdown",
   "metadata": {},
   "source": [
    "#### RegEx - re Module : split(), search(), findall(), sub()\n",
    "\n",
    "RegEx, ou Regular Expression, est une séquence de caractères qui forme un modèle de recherche. RegEx peut être utilisé pour vérifier si une chaîne contient le modèle de recherche spécifié."
   ]
  },
  {
   "cell_type": "code",
   "execution_count": 32,
   "metadata": {},
   "outputs": [],
   "source": [
    "# Word tokenization - regex : split() from re module\n",
    "import re"
   ]
  },
  {
   "cell_type": "code",
   "execution_count": 33,
   "metadata": {},
   "outputs": [
    {
     "name": "stdout",
     "output_type": "stream",
     "text": [
      "YES! We have a match!\n"
     ]
    }
   ],
   "source": [
    "# Vérifie si text commence par I et se termine par apple.\n",
    "bl = re.search(\"^I.*apple.$\", text)\n",
    "if bl:\n",
    "  print(\"YES! We have a match!\")\n",
    "else:\n",
    "  print(\"No match\")"
   ]
  },
  {
   "cell_type": "markdown",
   "metadata": {},
   "source": [
    "**Explication** :\n",
    "\n",
    "  - . veut dire n'importe quel caractère\n",
    "  - ^ veut dire commence par\n",
    "  - $ veut dire se termine par\n",
    "  \n",
    "  - \\* Indicateur de répétition de car - correspond à zéro ou plusieurs instances de ce caractère\n",
    "  - \\+\tIndicateur de répétitionde car - correspond à un ou plusieurs instances de ce caractère\n",
    "  - ? Indicateur de répétition de car - correspond à zéro ou une instance de ce caractère\n",
    "  - *?\tcorrespond zéro fois ou plus, mais le moins de fois possible.\n",
    "  \n",
    "  - []\tun ensemble de caractères\n",
    "  - {}\texactement le nombe spécifié de caractères\n",
    "  - [a-z] n’importe quelle lettre minuscule\n",
    "  - [0-9] N’importe quel chiffre"
   ]
  },
  {
   "cell_type": "code",
   "execution_count": 34,
   "metadata": {},
   "outputs": [
    {
     "data": {
      "text/plain": [
       "[\"I'm\",\n",
       " 'Very',\n",
       " 'Hungry',\n",
       " 'I',\n",
       " 'want',\n",
       " 'to',\n",
       " 'eat',\n",
       " 'something',\n",
       " 'maybe',\n",
       " 'an',\n",
       " 'apple',\n",
       " '']"
      ]
     },
     "execution_count": 34,
     "metadata": {},
     "output_type": "execute_result"
    }
   ],
   "source": [
    "# Tokenize par des exp-reg simples\n",
    "re.split(\"[., ]+\", text)"
   ]
  },
  {
   "cell_type": "code",
   "execution_count": 35,
   "metadata": {
    "scrolled": true
   },
   "outputs": [
    {
     "data": {
      "text/plain": [
       "[\"I'm\",\n",
       " ' ',\n",
       " 'Very',\n",
       " ' ',\n",
       " 'Hungry',\n",
       " '. ',\n",
       " 'I',\n",
       " ' ',\n",
       " 'want',\n",
       " ' ',\n",
       " 'to',\n",
       " ' ',\n",
       " 'eat',\n",
       " ' ',\n",
       " 'something',\n",
       " ', ',\n",
       " 'maybe',\n",
       " ' ',\n",
       " 'an',\n",
       " ' ',\n",
       " 'apple',\n",
       " '.',\n",
       " '']"
      ]
     },
     "execution_count": 35,
     "metadata": {},
     "output_type": "execute_result"
    }
   ],
   "source": [
    "# Tokenize par des exp-reg simples, en gardant la ponctuation\n",
    "re.split(\"([., ]+)\", text)"
   ]
  },
  {
   "cell_type": "markdown",
   "metadata": {},
   "source": [
    "- \\w : Représente tout caractère de « mot » (caractère alphanumérique + tiret bas). Équivalent à [a-zA-Z0-9_]\n",
    "- \\W : Représente tout caractère qui n’est pas un caractère de « mot ». Equivalent à [^a-zA- Z0-9_]"
   ]
  },
  {
   "cell_type": "code",
   "execution_count": 36,
   "metadata": {},
   "outputs": [
    {
     "data": {
      "text/plain": [
       "['I',\n",
       " 'm',\n",
       " 'Very',\n",
       " 'Hungry',\n",
       " 'I',\n",
       " 'want',\n",
       " 'to',\n",
       " 'eat',\n",
       " 'something',\n",
       " 'maybe',\n",
       " 'an',\n",
       " 'apple',\n",
       " '']"
      ]
     },
     "execution_count": 36,
     "metadata": {},
     "output_type": "execute_result"
    }
   ],
   "source": [
    "# Tokenize par des regex\n",
    "re.split(\"\\W+\", text)"
   ]
  },
  {
   "cell_type": "code",
   "execution_count": 37,
   "metadata": {},
   "outputs": [
    {
     "data": {
      "text/plain": [
       "['', \"'\", ' ', ' ', '. ', ' ', ' ', ' ', ' ', ', ', ' ', ' ', '.']"
      ]
     },
     "execution_count": 37,
     "metadata": {},
     "output_type": "execute_result"
    }
   ],
   "source": [
    "# Tokenize par des regex\n",
    "re.split(\"\\w+\", text)"
   ]
  },
  {
   "cell_type": "code",
   "execution_count": 38,
   "metadata": {},
   "outputs": [
    {
     "data": {
      "text/plain": [
       "['I',\n",
       " \"'\",\n",
       " 'm',\n",
       " ' ',\n",
       " 'Very',\n",
       " ' ',\n",
       " 'Hungry',\n",
       " '. ',\n",
       " 'I',\n",
       " ' ',\n",
       " 'want',\n",
       " ' ',\n",
       " 'to',\n",
       " ' ',\n",
       " 'eat',\n",
       " ' ',\n",
       " 'something',\n",
       " ', ',\n",
       " 'maybe',\n",
       " ' ',\n",
       " 'an',\n",
       " ' ',\n",
       " 'apple',\n",
       " '.',\n",
       " '']"
      ]
     },
     "execution_count": 38,
     "metadata": {},
     "output_type": "execute_result"
    }
   ],
   "source": [
    "# Tokenize par des expression régulière, en gardant la ponctuation\n",
    "re.split(\"(\\W+)\", text)"
   ]
  },
  {
   "cell_type": "markdown",
   "metadata": {},
   "source": [
    "### Partie 2 - Exercices"
   ]
  },
  {
   "cell_type": "markdown",
   "metadata": {},
   "source": [
    "- Soit une chaine de caractères: my_str =  \"This is a string variable that contains many characters like : A, ), Ǒ\". Ecrire une fonction isNonASCII(str) qui retourne True si la chaine envoyée en paramètre contient des caractères non ascii, False si non. "
   ]
  },
  {
   "cell_type": "code",
   "execution_count": 39,
   "metadata": {},
   "outputs": [
    {
     "data": {
      "text/plain": [
       "True"
      ]
     },
     "execution_count": 39,
     "metadata": {},
     "output_type": "execute_result"
    }
   ],
   "source": [
    "def isNonASCII(text):\n",
    "    for c in text:\n",
    "        if ord(c) > 128:\n",
    "            return True\n",
    "    return False\n",
    "\n",
    "my_str = \"This is a string variable that contains many characters like : A, ), Ǒ\"\n",
    "isNonASCII(my_str)"
   ]
  },
  {
   "cell_type": "code",
   "execution_count": 40,
   "metadata": {},
   "outputs": [
    {
     "data": {
      "text/plain": [
       "False"
      ]
     },
     "execution_count": 40,
     "metadata": {},
     "output_type": "execute_result"
    }
   ],
   "source": [
    "my_str = \"This is a string variable that contains many characters like : A, )\"\n",
    "isNonASCII(my_str)"
   ]
  },
  {
   "cell_type": "code",
   "execution_count": 41,
   "metadata": {},
   "outputs": [
    {
     "data": {
      "text/plain": [
       "True"
      ]
     },
     "execution_count": 41,
     "metadata": {},
     "output_type": "execute_result"
    }
   ],
   "source": [
    "# Solution 2\n",
    "def isNonASCII_2(text):\n",
    "    try:\n",
    "        text.encode('ascii')\n",
    "    except UnicodeEncodeError:\n",
    "        return True\n",
    "    else:\n",
    "        return False\n",
    "\n",
    "my_str = \"This is a string variable that contains many characters like : A, ), Ǒ\"\n",
    "isNonASCII_2(my_str)"
   ]
  },
  {
   "cell_type": "code",
   "execution_count": 42,
   "metadata": {},
   "outputs": [
    {
     "data": {
      "text/plain": [
       "False"
      ]
     },
     "execution_count": 42,
     "metadata": {},
     "output_type": "execute_result"
    }
   ],
   "source": [
    "my_str = \"This is a string variable that contains many characters like : A, )\"\n",
    "isNonASCII_2(my_str)"
   ]
  },
  {
   "cell_type": "markdown",
   "metadata": {},
   "source": [
    "- Encoder la chaine de caractères my_str en ASCII byte. Que remarquez-vous ? Résoudre le problème avec l’approche de votre choix. "
   ]
  },
  {
   "cell_type": "code",
   "execution_count": 43,
   "metadata": {},
   "outputs": [
    {
     "data": {
      "text/plain": [
       "b'This is a string variable that contains many characters like : A, ), ?'"
      ]
     },
     "execution_count": 43,
     "metadata": {},
     "output_type": "execute_result"
    }
   ],
   "source": [
    "my_str = \"This is a string variable that contains many characters like : A, ), Ǒ\"\n",
    "my_str.encode('ascii', errors='replace')"
   ]
  },
  {
   "cell_type": "markdown",
   "metadata": {},
   "source": [
    "- Demander à l’utilisateur d’entrer une chaine de caractères. Ecrire le code qui permet de récupérer et d’afficher un dictionnaire qui a comme clé le caractère et comme valeur le point de code de ce caractère."
   ]
  },
  {
   "cell_type": "code",
   "execution_count": 44,
   "metadata": {},
   "outputs": [
    {
     "name": "stdout",
     "output_type": "stream",
     "text": [
      "Enter a string : This is a string variable that contains many characters like : A, ), Ǒ\n"
     ]
    }
   ],
   "source": [
    "text = input(\"Enter a string : \")"
   ]
  },
  {
   "cell_type": "code",
   "execution_count": 45,
   "metadata": {},
   "outputs": [
    {
     "name": "stdout",
     "output_type": "stream",
     "text": [
      "{'T': 84, 'h': 104, 'i': 105, 's': 115, ' ': 32, 'a': 97, 't': 116, 'r': 114, 'n': 110, 'g': 103, 'v': 118, 'b': 98, 'l': 108, 'e': 101, 'c': 99, 'o': 111, 'm': 109, 'y': 121, 'k': 107, ':': 58, 'A': 65, ',': 44, ')': 41, 'Ǒ': 465}\n"
     ]
    }
   ],
   "source": [
    "d = {}\n",
    "for c in text:\n",
    "    d[c] = ord(c)\n",
    "print(d)"
   ]
  },
  {
   "cell_type": "markdown",
   "metadata": {},
   "source": [
    "Ecrire une fonction my_tokenizer(text) permettant d’implémenter votre propre tokenizer. La tokeniziation s’effectue en deux étapes : \n",
    "-\tD’abord, en se basant sur les white spaces (espaces blanc).\n",
    "-\tPuis, en appliquant la suppression de suffixes pour chaque tokens. Considérés comme suffixes :   .   ,  ;  !  ? ‘\n",
    "-\tNB : les mots suivants sont considérés comme tokens :    DZ.  |  goin’     |   Aug. \n",
    "\n",
    "Tester votre tokenizer sur la chaine suivante: \"I am goin’ to travel to DZ. Next Aug. hopefully.\"\n"
   ]
  },
  {
   "cell_type": "code",
   "execution_count": 46,
   "metadata": {},
   "outputs": [],
   "source": [
    "suffix = [\".\", \",\", \";\", \"!\", \"?\", \"'\"]\n",
    "excep = [\"DZ.\", \"goin'\", \"Aug.\"]\n",
    "\n",
    "def my_tokenizer(text):\n",
    "    tokens = text.split(\" \")\n",
    "    for i in range(len(tokens)):\n",
    "        while tokens[i][-1] in suffix and tokens[i] not in excep:\n",
    "            tokens[i] = tokens[i][:len(tokens[i])-1]\n",
    "    return tokens"
   ]
  },
  {
   "cell_type": "code",
   "execution_count": 47,
   "metadata": {},
   "outputs": [
    {
     "data": {
      "text/plain": [
       "['I',\n",
       " 'am',\n",
       " \"goin'\",\n",
       " 'to',\n",
       " 'travel',\n",
       " 'to',\n",
       " 'DZ.',\n",
       " 'next',\n",
       " 'Aug.',\n",
       " 'hopefully',\n",
       " 'We',\n",
       " 'will',\n",
       " 'see',\n",
       " 'by',\n",
       " 'then']"
      ]
     },
     "execution_count": 47,
     "metadata": {},
     "output_type": "execute_result"
    }
   ],
   "source": [
    "my_tokenizer(\"I am goin' to travel to DZ. next Aug., hopefully. We will see by then.\")"
   ]
  },
  {
   "cell_type": "markdown",
   "metadata": {},
   "source": [
    "- Ecrire un code qui lit un fichier HTML index.html et qui renvoie à l'écran tout le texte de ce fichier sans les balises HTML. Utiliser la fonction sub() du module re."
   ]
  },
  {
   "cell_type": "code",
   "execution_count": 48,
   "metadata": {},
   "outputs": [],
   "source": [
    "import re"
   ]
  },
  {
   "cell_type": "code",
   "execution_count": 49,
   "metadata": {},
   "outputs": [
    {
     "data": {
      "text/plain": [
       "'<html lang=\"fr\">\\n<head>\\n    <title>Exo de-htmliseur</title>\\n</head>\\n\\n<body>\\n    <h1>Exo de-htmliseur</h1>\\n    <p>Dans cet exercice, on souhaite retirer toutes les balises de ce fichier html.</p>\\n</body>\\n</html>'"
      ]
     },
     "execution_count": 49,
     "metadata": {},
     "output_type": "execute_result"
    }
   ],
   "source": [
    "f = open(\"index.html\", \"r\")\n",
    "html = f.read()\n",
    "\n",
    "html"
   ]
  },
  {
   "cell_type": "code",
   "execution_count": 50,
   "metadata": {},
   "outputs": [
    {
     "data": {
      "text/plain": [
       "'    Exo de-htmliseur    Exo de-htmliseur    Dans cet exercice, on souhaite retirer toutes les balises de ce fichier html.'"
      ]
     },
     "execution_count": 50,
     "metadata": {},
     "output_type": "execute_result"
    }
   ],
   "source": [
    "no_html = re.sub('<.*?>', '', html)\n",
    "no_html = re.sub('\\n', '', no_html)\n",
    "\n",
    "#new_text= re.sub('<.*?>|\\n', '', html)\n",
    "\n",
    "no_html"
   ]
  },
  {
   "cell_type": "code",
   "execution_count": null,
   "metadata": {},
   "outputs": [],
   "source": []
  }
 ],
 "metadata": {
  "colab": {
   "collapsed_sections": [],
   "name": "Série TP 2.ipynb",
   "provenance": []
  },
  "kernelspec": {
   "display_name": "Python 3 (ipykernel)",
   "language": "python",
   "name": "python3"
  },
  "language_info": {
   "codemirror_mode": {
    "name": "ipython",
    "version": 3
   },
   "file_extension": ".py",
   "mimetype": "text/x-python",
   "name": "python",
   "nbconvert_exporter": "python",
   "pygments_lexer": "ipython3",
   "version": "3.8.8"
  }
 },
 "nbformat": 4,
 "nbformat_minor": 1
}
