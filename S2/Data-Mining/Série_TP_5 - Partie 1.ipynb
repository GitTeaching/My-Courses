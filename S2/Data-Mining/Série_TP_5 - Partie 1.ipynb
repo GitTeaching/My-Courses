{
 "cells": [
  {
   "cell_type": "markdown",
   "metadata": {},
   "source": [
    "# Série TP 5 - Partie 1 - Fouille de Données - Neural Networks from Scratch"
   ]
  },
  {
   "cell_type": "markdown",
   "metadata": {},
   "source": [
    "These steps will provide the foundation that you need to implement the backpropagation algorithm from scratch and apply it to your own predictive modeling problems.\n",
    "\n",
    "Source : https://machinelearningmastery.com/implement-backpropagation-algorithm-scratch-python/"
   ]
  },
  {
   "cell_type": "markdown",
   "metadata": {},
   "source": [
    "## I - Backpropagation Algorithm Code "
   ]
  },
  {
   "cell_type": "markdown",
   "metadata": {},
   "source": [
    "### 1. Initialize Network and Data"
   ]
  },
  {
   "cell_type": "code",
   "execution_count": 1,
   "metadata": {},
   "outputs": [],
   "source": [
    "# Initialize a network function - init random weight and bias values\n",
    "def initialize_network(n_inputs, n_hidden, n_outputs):\n",
    "    network = list()\n",
    "    hidden_layer = [{'weights':[random() for i in range(n_inputs + 1)]} for i in range(n_hidden)]\n",
    "    network.append(hidden_layer)\n",
    "    output_layer = [{'weights':[random() for i in range(n_hidden + 1)]} for i in range(n_outputs)]\n",
    "    network.append(output_layer)\n",
    "    return network"
   ]
  },
  {
   "cell_type": "markdown",
   "metadata": {},
   "source": [
    "### 2. Forward Propagation\n",
    "\n",
    "We can break forward propagation down into three parts:\n",
    "- Sum (= neuron input).\n",
    "- Activation function  (= neuron output).\n",
    "- Forward Propagation."
   ]
  },
  {
   "cell_type": "code",
   "execution_count": 2,
   "metadata": {},
   "outputs": [],
   "source": [
    "# Calculate neuron activation (sum) for an input : sum(weight_i * input_i) + bias\n",
    "\n",
    "def activate_sum(weights, inputs):\n",
    "    activation = weights[-1]\n",
    "    for i in range(len(weights)-1):\n",
    "        activation += weights[i] * inputs[i]\n",
    "    return activation"
   ]
  },
  {
   "cell_type": "code",
   "execution_count": 3,
   "metadata": {},
   "outputs": [],
   "source": [
    "# Activation function - Sigmoid : output = 1 / (1 + e^(-sum))\n",
    "\n",
    "from math import exp\n",
    "def sigmoid_activation(activation):\n",
    "    return 1.0 / (1.0 + exp(-activation))"
   ]
  },
  {
   "cell_type": "code",
   "execution_count": 4,
   "metadata": {},
   "outputs": [],
   "source": [
    "# Forward propagate input to a network output\n",
    "\n",
    "def forward_propagate(network, row_data):\n",
    "    inputs = row_data\n",
    "    for layer in network:\n",
    "        new_inputs = []\n",
    "        for neuron in layer:\n",
    "            activation = activate_sum(neuron['weights'], inputs)\n",
    "            print(\"Inputs : \" + str(activation))\n",
    "            neuron['output'] = sigmoid_activation(activation)\n",
    "            print(\"Outputs : \" + str(neuron['output']))\n",
    "            new_inputs.append(neuron['output'])\n",
    "        inputs = new_inputs\n",
    "    return inputs"
   ]
  },
  {
   "cell_type": "markdown",
   "metadata": {},
   "source": [
    "### 3. Back Propagate Error\n",
    "\n",
    "This part is broken down into two sections.\n",
    "- Transfer Derivative.\n",
    "- Error Backpropagation."
   ]
  },
  {
   "cell_type": "code",
   "execution_count": 5,
   "metadata": {},
   "outputs": [],
   "source": [
    "# Calculate the derivative of an neuron output = output * (1.0 - output)\n",
    "def transfer_derivative(output):\n",
    "    return output * (1.0 - output)"
   ]
  },
  {
   "cell_type": "code",
   "execution_count": 6,
   "metadata": {},
   "outputs": [],
   "source": [
    "# Backpropagate error and store in neurons\n",
    "# output_error = (expected - output) * transfer_derivative(output)\n",
    "# hidden_error = (weight_k * error_j) * transfer_derivative(output)\n",
    "\n",
    "def backward_propagate_error(network, expected):\n",
    "    for i in reversed(range(len(network))):\n",
    "        layer = network[i]\n",
    "        errors = list()\n",
    "        if i != len(network)-1:\n",
    "            for j in range(len(layer)):\n",
    "                error = 0.0\n",
    "                for neuron in network[i + 1]:\n",
    "                    error += (neuron['weights'][j] * neuron['delta'])\n",
    "                errors.append(error)\n",
    "        else:\n",
    "            for j in range(len(layer)):\n",
    "                neuron = layer[j]\n",
    "                errors.append(expected[j] - neuron['output'])\n",
    "        for j in range(len(layer)):\n",
    "            neuron = layer[j]\n",
    "            neuron['delta'] = errors[j] * transfer_derivative(neuron['output'])\n",
    "            print(\"Error : \" + str(neuron['delta']))"
   ]
  },
  {
   "cell_type": "markdown",
   "metadata": {},
   "source": [
    "### 4. Update  Network"
   ]
  },
  {
   "cell_type": "code",
   "execution_count": 7,
   "metadata": {},
   "outputs": [],
   "source": [
    "# Update network weights with error\n",
    "# weight = weight + learning_rate * error * input\n",
    "# weight = weight + learning_rate * error\n",
    "\n",
    "def update_weights(network, row, l_rate):\n",
    "    for i in range(len(network)):\n",
    "        inputs = row[:-1]\n",
    "        if i != 0:\n",
    "            inputs = [neuron['output'] for neuron in network[i - 1]]\n",
    "        for neuron in network[i]:\n",
    "            for j in range(len(inputs)): \n",
    "                neuron['weights'][j] += l_rate * neuron['delta'] * inputs[j]\n",
    "                print(neuron['delta'], neuron['weights'][j])                \n",
    "            neuron['weights'][-1] += l_rate * neuron['delta']\n",
    "            print(neuron['delta'], neuron['weights'][-1])"
   ]
  },
  {
   "cell_type": "markdown",
   "metadata": {},
   "source": [
    "## II - Exemple : ANN vu en Cours "
   ]
  },
  {
   "cell_type": "markdown",
   "metadata": {},
   "source": [
    "### 1. Initialize Network and Data"
   ]
  },
  {
   "cell_type": "code",
   "execution_count": 8,
   "metadata": {},
   "outputs": [
    {
     "name": "stdout",
     "output_type": "stream",
     "text": [
      "[[{'weights': [0.2, 0.4, -0.5, -0.4]}, {'weights': [-0.3, 0.1, 0.2, 0.2]}], [{'weights': [-0.3, -0.2, 0.1]}]]\n"
     ]
    }
   ],
   "source": [
    "# Initialization - 1 hidden layer (2 neurons) and 1 ontput layer (1 neuron)\n",
    "network = [[{'weights': [0.2, 0.4, -0.5, -0.4]}, {'weights': [-0.3, 0.1, 0.2, 0.2]}],\n",
    "           [{'weights': [-0.3, -0.2, 0.1]}]]\n",
    "\n",
    "print(network)"
   ]
  },
  {
   "cell_type": "code",
   "execution_count": 9,
   "metadata": {},
   "outputs": [],
   "source": [
    "# data row and its class\n",
    "row_data = [1, 0, 1, 1]\n",
    "expected = [1]"
   ]
  },
  {
   "cell_type": "markdown",
   "metadata": {},
   "source": [
    "### 2. Forward Propagation"
   ]
  },
  {
   "cell_type": "code",
   "execution_count": 10,
   "metadata": {},
   "outputs": [
    {
     "name": "stdout",
     "output_type": "stream",
     "text": [
      "Inputs : -0.7\n",
      "Outputs : 0.3318122278318339\n",
      "Inputs : 0.10000000000000003\n",
      "Outputs : 0.52497918747894\n",
      "Inputs : -0.10453950584533817\n",
      "Outputs : 0.47388889882398544\n"
     ]
    }
   ],
   "source": [
    "# Forward propagation\n",
    "output = forward_propagate(network, row_data)"
   ]
  },
  {
   "cell_type": "markdown",
   "metadata": {},
   "source": [
    "### 3. Back Propagate Error"
   ]
  },
  {
   "cell_type": "code",
   "execution_count": 11,
   "metadata": {},
   "outputs": [
    {
     "name": "stdout",
     "output_type": "stream",
     "text": [
      "Error : 0.1311690782143445\n",
      "Error : -0.008724561965433263\n",
      "Error : -0.006542085064168994\n"
     ]
    }
   ],
   "source": [
    "backward_propagate_error(network, expected)"
   ]
  },
  {
   "cell_type": "markdown",
   "metadata": {},
   "source": [
    "### 4. Update Network"
   ]
  },
  {
   "cell_type": "code",
   "execution_count": 12,
   "metadata": {},
   "outputs": [
    {
     "name": "stdout",
     "output_type": "stream",
     "text": [
      "Error \t\t\t New weight\n",
      "-0.008724561965433263 0.19214789423111006\n",
      "-0.008724561965433263 0.4\n",
      "-0.008724561965433263 -0.50785210576889\n",
      "-0.008724561965433263 -0.40785210576888997\n",
      "-0.006542085064168994 -0.30588787655775207\n",
      "-0.006542085064168994 0.1\n",
      "-0.006542085064168994 0.19411212344224793\n",
      "-0.006542085064168994 0.19411212344224793\n",
      "0.1311690782143445 -0.26082884634154524\n",
      "0.1311690782143445 -0.13802506750700472\n",
      "0.1311690782143445 0.21805217039291008\n"
     ]
    }
   ],
   "source": [
    "l_rate = 0.9\n",
    "print(\"Error \\t\\t\\t New weight\")\n",
    "update_weights(network, row_data, l_rate)"
   ]
  },
  {
   "cell_type": "code",
   "execution_count": 13,
   "metadata": {
    "scrolled": true
   },
   "outputs": [
    {
     "data": {
      "text/plain": [
       "[[{'weights': [0.19214789423111006,\n",
       "    0.4,\n",
       "    -0.50785210576889,\n",
       "    -0.40785210576888997],\n",
       "   'output': 0.3318122278318339,\n",
       "   'delta': -0.008724561965433263},\n",
       "  {'weights': [-0.30588787655775207,\n",
       "    0.1,\n",
       "    0.19411212344224793,\n",
       "    0.19411212344224793],\n",
       "   'output': 0.52497918747894,\n",
       "   'delta': -0.006542085064168994}],\n",
       " [{'weights': [-0.26082884634154524,\n",
       "    -0.13802506750700472,\n",
       "    0.21805217039291008],\n",
       "   'output': 0.47388889882398544,\n",
       "   'delta': 0.1311690782143445}]]"
      ]
     },
     "execution_count": 13,
     "metadata": {},
     "output_type": "execute_result"
    }
   ],
   "source": [
    "network"
   ]
  },
  {
   "cell_type": "markdown",
   "metadata": {},
   "source": [
    "## III - Exemple : ANN vu en TD "
   ]
  },
  {
   "cell_type": "code",
   "execution_count": 14,
   "metadata": {},
   "outputs": [
    {
     "name": "stdout",
     "output_type": "stream",
     "text": [
      "[[{'weights': [0.15, 0.2, 0.35]}, {'weights': [0.25, 0.3, 0.35]}], [{'weights': [0.4, 0.45, 0.6]}, {'weights': [0.5, 0.55, 0.6]}]]\n"
     ]
    }
   ],
   "source": [
    "# Initialization - 1 hidden layer (2 neurons) and 1 ontput layer (2 neurons)\n",
    "network = [[{'weights': [0.15, 0.20, 0.35]}, {'weights': [0.25, 0.30, 0.35]}],\n",
    "           [{'weights': [0.40, 0.45, 0.60]}, {'weights': [0.50, 0.55, 0.60]}]]\n",
    "\n",
    "print(network)"
   ]
  },
  {
   "cell_type": "code",
   "execution_count": 15,
   "metadata": {},
   "outputs": [],
   "source": [
    "# Data row and its class\n",
    "row_data = [0.05, 0.10, 0.01]\n",
    "expected = [0.01, 0.99]"
   ]
  },
  {
   "cell_type": "code",
   "execution_count": 16,
   "metadata": {},
   "outputs": [
    {
     "name": "stdout",
     "output_type": "stream",
     "text": [
      "Inputs : 0.3775\n",
      "Outputs : 0.5932699921071872\n",
      "Inputs : 0.39249999999999996\n",
      "Outputs : 0.596884378259767\n",
      "Inputs : 1.1059059670597702\n",
      "Outputs : 0.7513650695523157\n",
      "Inputs : 1.2249214040964653\n",
      "Outputs : 0.7729284653214625\n"
     ]
    }
   ],
   "source": [
    "# Forward propagation \n",
    "output = forward_propagate(network, row_data)"
   ]
  },
  {
   "cell_type": "code",
   "execution_count": 17,
   "metadata": {},
   "outputs": [
    {
     "name": "stdout",
     "output_type": "stream",
     "text": [
      "Error : -0.13849856162855698\n",
      "Error : 0.03809823651655623\n",
      "Error : -0.008771354689486937\n",
      "Error : -0.009954254705217202\n"
     ]
    }
   ],
   "source": [
    "# Error Backpropagation\n",
    "backward_propagate_error(network, expected)"
   ]
  },
  {
   "cell_type": "code",
   "execution_count": 18,
   "metadata": {},
   "outputs": [
    {
     "name": "stdout",
     "output_type": "stream",
     "text": [
      "Error \t\t\t New weight\n",
      "-0.008771354689486937 0.14960528903897308\n",
      "-0.008771354689486937 0.19921057807794618\n",
      "-0.008771354689486937 0.34210578077946174\n",
      "-0.009954254705217202 0.24955205853826523\n",
      "-0.009954254705217202 0.29910411707653045\n",
      "-0.009954254705217202 0.3410411707653045\n",
      "-0.13849856162855698 0.32604966349219233\n",
      "-0.13849856162855698 0.3755991349372201\n",
      "-0.13849856162855698 0.4753512945342987\n",
      "0.03809823651655623 0.5203422864297276\n",
      "0.03809823651655623 0.5704662179943805\n",
      "0.03809823651655623 0.6342884128649006\n"
     ]
    }
   ],
   "source": [
    "# Update weights\n",
    "l_rate = 0.9\n",
    "print(\"Error \\t\\t\\t New weight\")\n",
    "update_weights(network, row_data, l_rate)"
   ]
  },
  {
   "cell_type": "code",
   "execution_count": 19,
   "metadata": {},
   "outputs": [
    {
     "data": {
      "text/plain": [
       "[[{'weights': [0.14960528903897308, 0.19921057807794618, 0.34210578077946174],\n",
       "   'output': 0.5932699921071872,\n",
       "   'delta': -0.008771354689486937},\n",
       "  {'weights': [0.24955205853826523, 0.29910411707653045, 0.3410411707653045],\n",
       "   'output': 0.596884378259767,\n",
       "   'delta': -0.009954254705217202}],\n",
       " [{'weights': [0.32604966349219233, 0.3755991349372201, 0.4753512945342987],\n",
       "   'output': 0.7513650695523157,\n",
       "   'delta': -0.13849856162855698},\n",
       "  {'weights': [0.5203422864297276, 0.5704662179943805, 0.6342884128649006],\n",
       "   'output': 0.7729284653214625,\n",
       "   'delta': 0.03809823651655623}]]"
      ]
     },
     "execution_count": 19,
     "metadata": {},
     "output_type": "execute_result"
    }
   ],
   "source": [
    "network"
   ]
  },
  {
   "cell_type": "markdown",
   "metadata": {},
   "source": [
    "## IV - Training a NN and Make Predictions"
   ]
  },
  {
   "cell_type": "markdown",
   "metadata": {},
   "source": [
    "### Code"
   ]
  },
  {
   "cell_type": "code",
   "execution_count": 20,
   "metadata": {},
   "outputs": [],
   "source": [
    "# Train a network for a fixed number of epochs (iterations)\n",
    "\n",
    "def train_network(network, train, l_rate, n_epoch, n_outputs):\n",
    "    for epoch in range(n_epoch):\n",
    "        sum_error = 0\n",
    "        for row in train:\n",
    "            outputs = forward_propagate(network, row)\n",
    "            expected = [0 for i in range(n_outputs)]\n",
    "            expected[row[-1]] = 1\n",
    "            sum_error += sum([(expected[i]-outputs[i])**2 for i in range(len(expected))])\n",
    "            backward_propagate_error(network, expected)\n",
    "            update_weights(network, row, l_rate)\n",
    "        print('>epoch=%d, lrate=%.3f, error=%.3f' % (epoch, l_rate, sum_error))\n",
    "        print('========================')"
   ]
  },
  {
   "cell_type": "code",
   "execution_count": 21,
   "metadata": {},
   "outputs": [],
   "source": [
    "# Make a prediction with a network\n",
    "\n",
    "def predict(network, row):\n",
    "    outputs = forward_propagate(network, row)\n",
    "    return outputs.index(max(outputs))"
   ]
  },
  {
   "cell_type": "markdown",
   "metadata": {},
   "source": [
    "### Example"
   ]
  },
  {
   "cell_type": "code",
   "execution_count": 22,
   "metadata": {},
   "outputs": [
    {
     "name": "stdout",
     "output_type": "stream",
     "text": [
      "Inputs : 3.2988639183529895\n",
      "Outputs : 0.9643898158763548\n",
      "Inputs : 2.422484871353145\n",
      "Outputs : 0.9185258960543243\n",
      "Inputs : 1.4467120366053836\n",
      "Outputs : 0.8094918973879515\n",
      "Inputs : 1.227776976537604\n",
      "Outputs : 0.7734292563511262\n",
      "Error : 0.029379162360871295\n",
      "Error : -0.13553299084477086\n",
      "Error : 0.000525476610401129\n",
      "Error : -0.0067428584755714034\n",
      "0.000525476610401129 0.13567949905743437\n",
      "0.000525476610401129 0.8486399597223678\n",
      "0.000525476610401129 0.764247547925975\n",
      "-0.0067428584755714034 0.23819181792824232\n",
      "-0.0067428584755714034 0.4799569680487976\n",
      "-0.0067428584755714034 0.4434224921607239\n",
      "0.029379162360871295 0.6770926412045849\n",
      "0.029379162360871295 0.8130103204250735\n",
      "0.029379162360871295 0.12030083289901906\n",
      "-0.13553299084477086 -0.08928849595535791\n",
      "-0.13553299084477086 0.7237235982453156\n",
      "-0.13553299084477086 0.3107873761447596\n",
      "Inputs : 2.967678141148764\n",
      "Outputs : 0.9510923872578426\n",
      "Inputs : 1.9262084594609177\n",
      "Outputs : 0.8728291594590579\n",
      "Inputs : 1.473897604025162\n",
      "Outputs : 0.813649079922091\n",
      "Inputs : 0.8575528273090598\n",
      "Outputs : 0.7021491163959107\n",
      "Error : 0.028255319362768386\n",
      "Error : -0.1468444713547481\n",
      "Error : 0.0014998039381399395\n",
      "Error : -0.009246494869448518\n",
      "0.0014998039381399395 0.13765765111571943\n",
      "0.0014998039381399395 0.8518284117645953\n",
      "0.0014998039381399395 0.765597371470301\n",
      "-0.009246494869448518 0.22599624196475593\n",
      "-0.009246494869448518 0.4602997283921909\n",
      "-0.009246494869448518 0.4351006467782202\n",
      "0.028255319362768386 0.7012787184355063\n",
      "0.028255319362768386 0.8352061804097606\n",
      "0.028255319362768386 0.14573062032551062\n",
      "-0.1468444713547481 -0.21498488889012085\n",
      "-0.1468444713547481 0.6083704753919186\n",
      "-0.1468444713547481 0.17862735192548632\n",
      "Inputs : 4.98145512341612\n",
      "Outputs : 0.9931827269980648\n",
      "Inputs : 3.228164740112303\n",
      "Outputs : 0.9618805175911613\n",
      "Inputs : 1.6455970833948723\n",
      "Outputs : 0.8382950954026323\n",
      "Inputs : 0.5502877814713797\n",
      "Outputs : 0.6342023559340363\n",
      "Error : 0.021920139326270963\n",
      "Error : -0.14712843183558\n",
      "Error : 0.0003182445368104189\n",
      "Error : -0.002610674587519388\n",
      "0.0003182445368104189 0.13863049459675045\n",
      "0.0003182445368104189 0.8530887442029652\n",
      "0.0003182445368104189 0.7658837915534304\n",
      "-0.002610674587519388 0.21801565640933274\n",
      "-0.002610674587519388 0.44996076734778323\n",
      "-0.002610674587519388 0.4327510396494527\n",
      "0.021920139326270963 0.7208723518125253\n",
      "0.021920139326270963 0.8541822798745021\n",
      "0.021920139326270963 0.16545874571915448\n",
      "-0.14712843183558 -0.34649776432459006\n",
      "-0.14712843183558 0.48100250044217335\n",
      "-0.14712843183558 0.046211763273464324\n",
      "Inputs : 1.762055325070583\n",
      "Outputs : 0.8534668883167245\n",
      "Inputs : 2.2152067337183396\n",
      "Outputs : 0.9016067933335753\n",
      "Inputs : 1.550835974974162\n",
      "Outputs : 0.8250344397996539\n",
      "Inputs : 0.18416251655575422\n",
      "Outputs : 0.545910943438846\n",
      "Error : -0.11909587715397259\n",
      "Error : 0.11256512853929732\n",
      "Error : -0.015614697385446658\n",
      "Error : -0.004221402281732036\n",
      "-0.015614697385446658 0.01671286136206808\n",
      "-0.015614697385446658 0.8564905901178596\n",
      "-0.015614697385446658 0.7518305639065285\n",
      "-0.004221402281732036 0.18505546752985189\n",
      "-0.004221402281732036 0.45088044960308077\n",
      "-0.004221402281732036 0.42895177759589387\n",
      "-0.11909587715397259 0.6293924028951686\n",
      "-0.11909587715397259 0.7575423931644638\n",
      "-0.11909587715397259 0.058272456280579144\n",
      "0.11256512853929732 -0.26003421533592447\n",
      "0.11256512853929732 0.5723430365673212\n",
      "0.11256512853929732 0.1475203789588319\n",
      "Inputs : 3.885132195606144\n",
      "Outputs : 0.9798684915008027\n",
      "Inputs : 3.4309648359821665\n",
      "Outputs : 0.9686583727742528\n",
      "Inputs : 1.4087940225377364\n",
      "Outputs : 0.8035756596451186\n",
      "Inputs : 0.4471259191090007\n",
      "Outputs : 0.6099556785752978\n",
      "Error : -0.12683784371887416\n",
      "Error : 0.09279534651114298\n",
      "Error : -0.002050753565075248\n",
      "Error : -0.0013046701278474856\n",
      "-0.002050753565075248 0.0025495762749162144\n",
      "-0.002050753565075248 0.85001491182507\n",
      "-0.002050753565075248 0.7499848856979607\n",
      "-0.0013046701278474856 0.17604491878324185\n",
      "-0.0013046701278474856 0.4467606839861707\n",
      "-0.0013046701278474856 0.42777757448083115\n",
      "-0.12683784371887416 0.5175364369641436\n",
      "-0.12683784371887416 0.6469661077918362\n",
      "-0.12683784371887416 -0.055881603066407604\n",
      "0.09279534651114298 -0.1781997027521733\n",
      "0.09279534651114298 0.6532413269845773\n",
      "0.09279534651114298 0.2310361908188606\n",
      ">epoch=0, lrate=0.900, error=3.275\n",
      "========================\n"
     ]
    }
   ],
   "source": [
    "# Training a network with 2 inputs, 2 neurons hidden layer, and 2 neuron output layer\n",
    "from random import seed\n",
    "from random import random\n",
    "seed(1)\n",
    "\n",
    "train_dataset = [[2.7810836, 2.550537003, 0],\n",
    "            [1.465489372, 2.362125076, 0],\n",
    "            [3.396561688, 4.400293529, 0],\n",
    "            [8.675418651, -0.242068655, 1],\n",
    "            [7.673756466, 3.508563011, 1]]\n",
    "\n",
    "n_inputs = len(train_dataset[0]) - 1\n",
    "n_outputs = len(set([row[-1] for row in train_dataset]))\n",
    "\n",
    "network = initialize_network(n_inputs, 2, n_outputs)\n",
    "\n",
    "n_epoch = 1\n",
    "\n",
    "l_rate = 0.9\n",
    "\n",
    "train_network(network, train_dataset, l_rate, n_epoch, n_outputs)"
   ]
  },
  {
   "cell_type": "code",
   "execution_count": 23,
   "metadata": {},
   "outputs": [
    {
     "data": {
      "text/plain": [
       "[[{'weights': [0.0025495762749162144, 0.85001491182507, 0.7499848856979607],\n",
       "   'output': 0.9798684915008027,\n",
       "   'delta': -0.002050753565075248},\n",
       "  {'weights': [0.17604491878324185, 0.4467606839861707, 0.42777757448083115],\n",
       "   'output': 0.9686583727742528,\n",
       "   'delta': -0.0013046701278474856}],\n",
       " [{'weights': [0.5175364369641436, 0.6469661077918362, -0.055881603066407604],\n",
       "   'output': 0.8035756596451186,\n",
       "   'delta': -0.12683784371887416},\n",
       "  {'weights': [-0.1781997027521733, 0.6532413269845773, 0.2310361908188606],\n",
       "   'output': 0.6099556785752978,\n",
       "   'delta': 0.09279534651114298}]]"
      ]
     },
     "execution_count": 23,
     "metadata": {},
     "output_type": "execute_result"
    }
   ],
   "source": [
    "network"
   ]
  },
  {
   "cell_type": "code",
   "execution_count": 24,
   "metadata": {},
   "outputs": [
    {
     "name": "stdout",
     "output_type": "stream",
     "text": [
      "Inputs : 2.9250699561747027\n",
      "Outputs : 0.9490719111443161\n",
      "Inputs : 2.056852866964555\n",
      "Outputs : 0.886638233521248\n",
      "Inputs : 1.008922579210643\n",
      "Outputs : 0.7328092433258854\n",
      "Inputs : 0.641100594583188\n",
      "Outputs : 0.6550022091235739\n",
      "\n",
      "Expected=0, Got=0\n",
      "===============\n",
      "Inputs : 2.761562800827881\n",
      "Outputs : 0.9405630613133313\n",
      "Inputs : 1.7410741465669206\n",
      "Outputs : 0.8508234506551131\n",
      "Inputs : 0.9813479887141392\n",
      "Outputs : 0.7273756048678184\n",
      "Inputs : 0.6192211728086938\n",
      "Outputs : 0.6500413957715643\n",
      "\n",
      "Expected=0, Got=0\n",
      "===============\n",
      "Inputs : 3.1148459037031286\n",
      "Outputs : 0.9575009871615809\n",
      "Inputs : 3.0032955709719134\n",
      "Outputs : 0.9527227878498435\n",
      "Inputs : 1.0560394000786477\n",
      "Outputs : 0.7419329422942285\n",
      "Inputs : 0.6827676977052319\n",
      "Outputs : 0.6643561386502865\n",
      "\n",
      "Expected=1, Got=0\n",
      "===============\n",
      "Inputs : 2.5389442553783512\n",
      "Outputs : 0.9268272598273708\n",
      "Inputs : 2.29964308749223\n",
      "Outputs : 0.9088474753317881\n",
      "Inputs : 1.0117787883577343\n",
      "Outputs : 0.7333681166624069\n",
      "Inputs : 0.6595725794273319\n",
      "Outputs : 0.6591643678138522\n",
      "\n",
      "Expected=1, Got=0\n",
      "===============\n"
     ]
    }
   ],
   "source": [
    "# Test making predictions with the network\n",
    "\n",
    "test_dataset = [[2.7810836, 2.550537003, 0],\n",
    "                [1.465489372, 2.362125076, 0],\n",
    "                [7.627531214,2.759262235, 1],\n",
    "                [5.332441248, 2.088626775, 1]]\n",
    "\n",
    "for row in test_dataset:\n",
    "    prediction = predict(network, row)\n",
    "    print('\\nExpected=%d, Got=%d' % (row[-1], prediction))\n",
    "    print(\"===============\")"
   ]
  },
  {
   "cell_type": "code",
   "execution_count": null,
   "metadata": {},
   "outputs": [],
   "source": []
  }
 ],
 "metadata": {
  "kernelspec": {
   "display_name": "Python 3 (ipykernel)",
   "language": "python",
   "name": "python3"
  },
  "language_info": {
   "codemirror_mode": {
    "name": "ipython",
    "version": 3
   },
   "file_extension": ".py",
   "mimetype": "text/x-python",
   "name": "python",
   "nbconvert_exporter": "python",
   "pygments_lexer": "ipython3",
   "version": "3.8.8"
  }
 },
 "nbformat": 4,
 "nbformat_minor": 4
}
