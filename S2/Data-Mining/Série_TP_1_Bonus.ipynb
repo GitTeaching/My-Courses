{
 "cells": [
  {
   "cell_type": "markdown",
   "id": "58dde5db",
   "metadata": {},
   "source": [
    "**- Demander à l’utilisateur d’entrer une chaine de caractères, puis afficher si cette chaine est un palindrome ou non.**"
   ]
  },
  {
   "cell_type": "code",
   "execution_count": 1,
   "id": "641e0e37",
   "metadata": {},
   "outputs": [
    {
     "name": "stdout",
     "output_type": "stream",
     "text": [
      "Enter a string: radar\n"
     ]
    }
   ],
   "source": [
    "chaine = input(\"Enter a string: \")"
   ]
  },
  {
   "cell_type": "code",
   "execution_count": 2,
   "id": "d5cf6118",
   "metadata": {},
   "outputs": [
    {
     "name": "stdout",
     "output_type": "stream",
     "text": [
      "radar\n"
     ]
    }
   ],
   "source": [
    "inverse_chaine = chaine[::-1]\n",
    "print(inverse_chaine)"
   ]
  },
  {
   "cell_type": "code",
   "execution_count": 3,
   "id": "8a5972fa",
   "metadata": {},
   "outputs": [
    {
     "name": "stdout",
     "output_type": "stream",
     "text": [
      "radar is a palindrom.\n"
     ]
    }
   ],
   "source": [
    "if chaine == inverse_chaine:\n",
    "    print(chaine, \"is a palindrom.\")\n",
    "else:\n",
    "    print(chaine, \"is not a palindrom.\")"
   ]
  },
  {
   "cell_type": "markdown",
   "id": "8a40da77",
   "metadata": {},
   "source": [
    "**- Réécrire le code dans une fonction isPalindrome, qui prend comme paramètre une chaine de caractères et qui retourne un booléen permettant de vérifier si la chaine est un palindrome.** "
   ]
  },
  {
   "cell_type": "code",
   "execution_count": 4,
   "id": "ed060bee",
   "metadata": {},
   "outputs": [],
   "source": [
    "def is_palindrom(chaine):\n",
    "    if chaine == chaine[::-1]:\n",
    "        return True\n",
    "    return False"
   ]
  },
  {
   "cell_type": "code",
   "execution_count": 5,
   "id": "8c6b483f",
   "metadata": {},
   "outputs": [
    {
     "data": {
      "text/plain": [
       "True"
      ]
     },
     "execution_count": 5,
     "metadata": {},
     "output_type": "execute_result"
    }
   ],
   "source": [
    "is_palindrom(\"radar\")"
   ]
  },
  {
   "cell_type": "code",
   "execution_count": 6,
   "id": "453aa0d3",
   "metadata": {},
   "outputs": [
    {
     "data": {
      "text/plain": [
       "False"
      ]
     },
     "execution_count": 6,
     "metadata": {},
     "output_type": "execute_result"
    }
   ],
   "source": [
    "is_palindrom(\"test\")"
   ]
  },
  {
   "cell_type": "markdown",
   "id": "598af07f",
   "metadata": {},
   "source": [
    "**- Déclarer la liste : a = [1, 1, 2, 3, 5, 8, 13, 21, 34, 55, 89]. Demander à l’utilisateur d’entrer un entier x.**\n",
    "\n",
    "**- Créez une nouvelle liste b contenant tous les éléments inférieurs à x de la liste a, puis afficher cette nouvelle liste b.**\n",
    "\n",
    "**- Afficher la longueur des deux listes a et b.**\n",
    "\n",
    "**- Afficher les 5 premiers éléments de la liste a, sans utiliser la boucle for.**\n",
    "\n",
    "**- Ordonner la liste a par ordre croissant, puis l’afficher.**\n",
    "\n",
    "**- Ordonner la liste b par ordre décroissant, puis l’afficher. Vous pouvez utiliser le paramètre reverse=True.**"
   ]
  },
  {
   "cell_type": "code",
   "execution_count": 7,
   "id": "c637bc29",
   "metadata": {},
   "outputs": [],
   "source": [
    "a = [1, 1, 2, 3, 5, 8, 13, 21, 34, 55, 89]"
   ]
  },
  {
   "cell_type": "code",
   "execution_count": 8,
   "id": "f7a6e0aa",
   "metadata": {},
   "outputs": [
    {
     "name": "stdout",
     "output_type": "stream",
     "text": [
      "Enter x: 15\n"
     ]
    }
   ],
   "source": [
    "x = int(input(\"Enter x: \"))"
   ]
  },
  {
   "cell_type": "code",
   "execution_count": 9,
   "id": "aa45bb59",
   "metadata": {},
   "outputs": [
    {
     "name": "stdout",
     "output_type": "stream",
     "text": [
      "[1, 1, 2, 3, 5, 8, 13]\n"
     ]
    }
   ],
   "source": [
    "b = []\n",
    "\n",
    "for elem in a:\n",
    "    if elem < x:\n",
    "        b.append(elem)\n",
    "\n",
    "print(b)"
   ]
  },
  {
   "cell_type": "code",
   "execution_count": 10,
   "id": "619cd4ec",
   "metadata": {},
   "outputs": [
    {
     "name": "stdout",
     "output_type": "stream",
     "text": [
      "[1, 1, 2, 3, 5, 8, 13]\n"
     ]
    }
   ],
   "source": [
    "# Or using List Comprehension\n",
    "b = [elem for elem in a if elem < x]\n",
    "print(b)"
   ]
  },
  {
   "cell_type": "code",
   "execution_count": 11,
   "id": "eb544567",
   "metadata": {},
   "outputs": [
    {
     "data": {
      "text/plain": [
       "(11, 7)"
      ]
     },
     "execution_count": 11,
     "metadata": {},
     "output_type": "execute_result"
    }
   ],
   "source": [
    "len(a), len(b)"
   ]
  },
  {
   "cell_type": "code",
   "execution_count": 12,
   "id": "1f344295",
   "metadata": {},
   "outputs": [
    {
     "data": {
      "text/plain": [
       "[1, 1, 2, 3, 5]"
      ]
     },
     "execution_count": 12,
     "metadata": {},
     "output_type": "execute_result"
    }
   ],
   "source": [
    "a[:5]"
   ]
  },
  {
   "cell_type": "code",
   "execution_count": 13,
   "id": "da3f389f",
   "metadata": {},
   "outputs": [
    {
     "name": "stdout",
     "output_type": "stream",
     "text": [
      "[1, 1, 2, 3, 5, 8, 13, 21, 34, 55, 89]\n"
     ]
    }
   ],
   "source": [
    "a.sort()\n",
    "print(a)"
   ]
  },
  {
   "cell_type": "code",
   "execution_count": 14,
   "id": "5429cf01",
   "metadata": {},
   "outputs": [
    {
     "name": "stdout",
     "output_type": "stream",
     "text": [
      "[13, 8, 5, 3, 2, 1, 1]\n"
     ]
    }
   ],
   "source": [
    "b.sort(reverse=True)\n",
    "print(b)"
   ]
  },
  {
   "cell_type": "markdown",
   "id": "5fbbd2d6",
   "metadata": {},
   "source": [
    "**- Exécuter le code  et dire ce qu’il fait.**\n",
    "\n",
    "**- Afficher tous les caractères de chaque élément de la liste fruits, sauf le premier et le dernier caractère.**"
   ]
  },
  {
   "cell_type": "code",
   "execution_count": 15,
   "id": "0f51a3bd",
   "metadata": {},
   "outputs": [
    {
     "name": "stdout",
     "output_type": "stream",
     "text": [
      "['kiwi', 'apple', 'banana', 'strawberry']\n"
     ]
    }
   ],
   "source": [
    "fruits = ['banana', 'apple', 'strawberry', 'kiwi']\n",
    "fruits.sort(key=len) \n",
    "print(fruits)"
   ]
  },
  {
   "cell_type": "code",
   "execution_count": 16,
   "id": "97634653",
   "metadata": {},
   "outputs": [
    {
     "name": "stdout",
     "output_type": "stream",
     "text": [
      "['banana', 'apple', 'strawberry', 'kiwi'] ['kiwi', 'apple', 'banana', 'strawberry']\n"
     ]
    }
   ],
   "source": [
    "fruits = ['banana', 'apple', 'strawberry', 'kiwi']\n",
    "new_fruits = sorted(fruits, key=len)\n",
    "print(fruits, new_fruits)"
   ]
  },
  {
   "cell_type": "code",
   "execution_count": 17,
   "id": "6d392631",
   "metadata": {},
   "outputs": [
    {
     "name": "stdout",
     "output_type": "stream",
     "text": [
      "anan\n",
      "ppl\n",
      "trawberr\n",
      "iw\n"
     ]
    }
   ],
   "source": [
    "for fruit in fruits:\n",
    "    print(fruit[1:len(fruit)-1])"
   ]
  },
  {
   "cell_type": "markdown",
   "id": "cda40dc6",
   "metadata": {},
   "source": [
    "**- Convertir les deux listes vers dictionnaire comme suit : {'Ten': 10, 'Twenty': 20, 'Thirty': 30}**"
   ]
  },
  {
   "cell_type": "code",
   "execution_count": 18,
   "id": "d5a0e64f",
   "metadata": {},
   "outputs": [],
   "source": [
    "keys = ['Ten', 'Twenty', 'Thirty']\n",
    "values = [10, 20, 30]"
   ]
  },
  {
   "cell_type": "code",
   "execution_count": 19,
   "id": "7bed18ca",
   "metadata": {},
   "outputs": [
    {
     "name": "stdout",
     "output_type": "stream",
     "text": [
      "{'Ten': 10, 'Twenty': 20, 'Thirty': 30}\n"
     ]
    }
   ],
   "source": [
    "res = dict()  # or {}\n",
    "\n",
    "for i in range(len(keys)):\n",
    "    res[keys[i]] = values[i]\n",
    "\n",
    "print(res)"
   ]
  },
  {
   "cell_type": "markdown",
   "id": "e87f00a8",
   "metadata": {},
   "source": [
    "**Soit le dictionnaire d :** \n",
    "\n",
    "**- Afficher la note nlp de l’étudiant ABC.** \n",
    "\n",
    "**- Ajouter à tous les étudiants de d la clé semester ayant 2 comme valeur. Afficher d.**\n",
    "\n",
    "**- Sauvegarder le dictionnaire student1 de d dans une nouvelle variable. Mettre les clés dans un set et les valeurs dans une liste séparés.**"
   ]
  },
  {
   "cell_type": "code",
   "execution_count": 20,
   "id": "592e9c3b",
   "metadata": {},
   "outputs": [],
   "source": [
    "d = {\n",
    "    \"class\": {\n",
    "        \"student1\": {\n",
    "            \"name\": \"XYZ\",\n",
    "            \"marks\": {\n",
    "                \"nlp\": 15,\n",
    "                \"ml\": 17\n",
    "            }\n",
    "        },\n",
    "        \"student2\": {\n",
    "            \"name\": \"ABC\",\n",
    "            \"marks\": {\n",
    "                \"nlp\": 16,\n",
    "                \"ml\": 18\n",
    "            }\n",
    "        }\n",
    "    }\n",
    "}"
   ]
  },
  {
   "cell_type": "code",
   "execution_count": 21,
   "id": "d50e4c08",
   "metadata": {},
   "outputs": [
    {
     "data": {
      "text/plain": [
       "15"
      ]
     },
     "execution_count": 21,
     "metadata": {},
     "output_type": "execute_result"
    }
   ],
   "source": [
    "d[\"class\"]['student1']['marks']['nlp']"
   ]
  },
  {
   "cell_type": "code",
   "execution_count": 22,
   "id": "70c0c40b",
   "metadata": {},
   "outputs": [
    {
     "name": "stdout",
     "output_type": "stream",
     "text": [
      "{'name': 'XYZ', 'marks': {'nlp': 15, 'ml': 17}}\n",
      "{'name': 'XYZ', 'marks': {'nlp': 15, 'ml': 17}, 'semester': 2}\n",
      "{'name': 'ABC', 'marks': {'nlp': 16, 'ml': 18}}\n",
      "{'name': 'ABC', 'marks': {'nlp': 16, 'ml': 18}, 'semester': 2}\n"
     ]
    }
   ],
   "source": [
    "for stud in d[\"class\"].keys():\n",
    "    print(d[\"class\"][stud])\n",
    "    d[\"class\"][stud][\"semester\"] = 2\n",
    "    print(d[\"class\"][stud])"
   ]
  },
  {
   "cell_type": "code",
   "execution_count": 23,
   "id": "18f391c4",
   "metadata": {},
   "outputs": [
    {
     "name": "stdout",
     "output_type": "stream",
     "text": [
      "{'class': {'student1': {'name': 'XYZ', 'marks': {'nlp': 15, 'ml': 17}, 'semester': 2}, 'student2': {'name': 'ABC', 'marks': {'nlp': 16, 'ml': 18}, 'semester': 2}}}\n"
     ]
    }
   ],
   "source": [
    "print(d)"
   ]
  },
  {
   "cell_type": "code",
   "execution_count": 24,
   "id": "5b21943d",
   "metadata": {},
   "outputs": [
    {
     "name": "stdout",
     "output_type": "stream",
     "text": [
      "{'name': 'XYZ', 'marks': {'nlp': 15, 'ml': 17}, 'semester': 2}\n"
     ]
    }
   ],
   "source": [
    "stud1 = d[\"class\"]['student1']\n",
    "print(stud1)"
   ]
  },
  {
   "cell_type": "code",
   "execution_count": 25,
   "id": "99898dde",
   "metadata": {},
   "outputs": [
    {
     "name": "stdout",
     "output_type": "stream",
     "text": [
      "{'semester', 'marks', 'name'} ['XYZ', {'nlp': 15, 'ml': 17}, 2]\n"
     ]
    }
   ],
   "source": [
    "l = []\n",
    "s = set()\n",
    "\n",
    "for k,v in stud1.items():\n",
    "    s.add(k)\n",
    "    l.append(v)\n",
    "\n",
    "print(s, l)"
   ]
  }
 ],
 "metadata": {
  "kernelspec": {
   "display_name": "Python 3 (ipykernel)",
   "language": "python",
   "name": "python3"
  },
  "language_info": {
   "codemirror_mode": {
    "name": "ipython",
    "version": 3
   },
   "file_extension": ".py",
   "mimetype": "text/x-python",
   "name": "python",
   "nbconvert_exporter": "python",
   "pygments_lexer": "ipython3",
   "version": "3.8.8"
  }
 },
 "nbformat": 4,
 "nbformat_minor": 5
}
