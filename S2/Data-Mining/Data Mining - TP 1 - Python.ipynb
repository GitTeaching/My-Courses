{
 "cells": [
  {
   "cell_type": "markdown",
   "metadata": {
    "id": "bMd36Z6TOa9w"
   },
   "source": [
    "## Install & Import - apriori_python library"
   ]
  },
  {
   "cell_type": "code",
   "execution_count": 1,
   "metadata": {
    "colab": {
     "base_uri": "https://localhost:8080/"
    },
    "id": "vReM49FPNHaD",
    "outputId": "ce2b5316-2d80-4f39-ce03-3355f60b794f"
   },
   "outputs": [
    {
     "name": "stdout",
     "output_type": "stream",
     "text": [
      "Collecting apriori_python\n",
      "  Downloading apriori_python-1.0.4-py3-none-any.whl (5.0 kB)\n",
      "Installing collected packages: apriori-python\n",
      "Successfully installed apriori-python-1.0.4\n"
     ]
    }
   ],
   "source": [
    "!pip install apriori_python"
   ]
  },
  {
   "cell_type": "code",
   "execution_count": 2,
   "metadata": {
    "id": "OsCHibOuNNyt"
   },
   "outputs": [],
   "source": [
    "from apriori_python import apriori"
   ]
  },
  {
   "cell_type": "markdown",
   "metadata": {
    "id": "Ne7erC7NPViK"
   },
   "source": [
    "## Dataset 1 - Execrice TD 1"
   ]
  },
  {
   "cell_type": "code",
   "execution_count": 3,
   "metadata": {
    "id": "qCJiOZCmPUsu"
   },
   "outputs": [],
   "source": [
    "transactions_list = [\n",
    "        ['P1', 'P2', 'P3'],\n",
    "        ['P1', 'P3'],\n",
    "        ['P1', 'P2', 'P3'],\n",
    "        ['P1', 'P3'],\n",
    "        ['P2', 'P3'],\n",
    "        ['P4'],\n",
    "]"
   ]
  },
  {
   "cell_type": "code",
   "execution_count": 4,
   "metadata": {
    "id": "8irXzDozPapw"
   },
   "outputs": [],
   "source": [
    "freq_itemsets, rules = apriori(transactions_list, minSup=0.333, minConf=0.55)"
   ]
  },
  {
   "cell_type": "code",
   "execution_count": 5,
   "metadata": {
    "colab": {
     "base_uri": "https://localhost:8080/"
    },
    "id": "5J7LSwp8P88z",
    "outputId": "584c0e84-63d8-4b4b-86ce-de54647f19ce"
   },
   "outputs": [
    {
     "data": {
      "text/plain": [
       "{1: {frozenset({'P3'}), frozenset({'P2'}), frozenset({'P1'})},\n",
       " 2: {frozenset({'P2', 'P3'}),\n",
       "  frozenset({'P1', 'P3'}),\n",
       "  frozenset({'P1', 'P2'})},\n",
       " 3: {frozenset({'P1', 'P2', 'P3'})}}"
      ]
     },
     "execution_count": 5,
     "metadata": {},
     "output_type": "execute_result"
    }
   ],
   "source": [
    "freq_itemsets"
   ]
  },
  {
   "cell_type": "code",
   "execution_count": 6,
   "metadata": {
    "colab": {
     "base_uri": "https://localhost:8080/"
    },
    "id": "6Rd8LvinQ0K6",
    "outputId": "e3db00c9-098b-4f09-8284-072b57515ba4"
   },
   "outputs": [
    {
     "data": {
      "text/plain": [
       "[[{'P3'}, {'P2'}, 0.6],\n",
       " [{'P2'}, {'P1'}, 0.6666666666666666],\n",
       " [{'P2'}, {'P1', 'P3'}, 0.6666666666666666],\n",
       " [{'P2', 'P3'}, {'P1'}, 0.6666666666666666],\n",
       " [{'P3'}, {'P1'}, 0.8],\n",
       " [{'P2'}, {'P3'}, 1.0],\n",
       " [{'P1'}, {'P3'}, 1.0],\n",
       " [{'P1', 'P2'}, {'P3'}, 1.0]]"
      ]
     },
     "execution_count": 6,
     "metadata": {},
     "output_type": "execute_result"
    }
   ],
   "source": [
    "rules"
   ]
  },
  {
   "cell_type": "markdown",
   "metadata": {
    "id": "OLnh9wQoN_eV"
   },
   "source": [
    "## Dataset 2"
   ]
  },
  {
   "cell_type": "code",
   "execution_count": 7,
   "metadata": {
    "id": "QGxgfqgXNtOW"
   },
   "outputs": [],
   "source": [
    "itemSetList = [\n",
    "                ['T-Shirt', 'Pantalon', 'Running'],\n",
    "                ['Pantalon', 'Short'],\n",
    "                ['Pantalon', 'Veste'],\n",
    "                ['T-Shirt', 'Pantalon', 'Short'],\n",
    "                ['T-Shirt', 'Veste'],\n",
    "                ['Pantalon', 'Veste'],\n",
    "                ['T-Shirt', 'Veste'],\n",
    "                ['T-Shirt', 'Pantalon', 'Veste', 'Running'],\n",
    "                ['T-Shirt', 'Pantalon', 'Veste'],\n",
    "]  "
   ]
  },
  {
   "cell_type": "code",
   "execution_count": 8,
   "metadata": {
    "id": "OoqCxQWXOEdz"
   },
   "outputs": [],
   "source": [
    "freqItemSet, rules = apriori(itemSetList, minSup=0.222, minConf=0.75)"
   ]
  },
  {
   "cell_type": "code",
   "execution_count": 9,
   "metadata": {
    "colab": {
     "base_uri": "https://localhost:8080/"
    },
    "id": "Zd9309GpOHPY",
    "outputId": "345e1dc6-59ae-4ad6-ad8e-2abed7e46657"
   },
   "outputs": [
    {
     "data": {
      "text/plain": [
       "{1: {frozenset({'Running'}),\n",
       "  frozenset({'Veste'}),\n",
       "  frozenset({'Short'}),\n",
       "  frozenset({'T-Shirt'}),\n",
       "  frozenset({'Pantalon'})},\n",
       " 2: {frozenset({'Pantalon', 'Short'}),\n",
       "  frozenset({'Pantalon', 'Running'}),\n",
       "  frozenset({'T-Shirt', 'Veste'}),\n",
       "  frozenset({'Pantalon', 'Veste'}),\n",
       "  frozenset({'Pantalon', 'T-Shirt'}),\n",
       "  frozenset({'Running', 'T-Shirt'})},\n",
       " 3: {frozenset({'Pantalon', 'T-Shirt', 'Veste'}),\n",
       "  frozenset({'Pantalon', 'Running', 'T-Shirt'})}}"
      ]
     },
     "execution_count": 9,
     "metadata": {},
     "output_type": "execute_result"
    }
   ],
   "source": [
    "freqItemSet"
   ]
  },
  {
   "cell_type": "code",
   "execution_count": 10,
   "metadata": {
    "colab": {
     "base_uri": "https://localhost:8080/"
    },
    "id": "_eHRkcXaOJ4K",
    "outputId": "1d6d2b3b-0280-4ff1-a1ec-260e224f9e9f"
   },
   "outputs": [
    {
     "data": {
      "text/plain": [
       "[[{'Short'}, {'Pantalon'}, 1.0],\n",
       " [{'Running'}, {'Pantalon'}, 1.0],\n",
       " [{'Running'}, {'T-Shirt'}, 1.0],\n",
       " [{'Running'}, {'Pantalon', 'T-Shirt'}, 1.0],\n",
       " [{'Pantalon', 'Running'}, {'T-Shirt'}, 1.0],\n",
       " [{'Running', 'T-Shirt'}, {'Pantalon'}, 1.0]]"
      ]
     },
     "execution_count": 10,
     "metadata": {},
     "output_type": "execute_result"
    }
   ],
   "source": [
    "rules"
   ]
  },
  {
   "cell_type": "markdown",
   "metadata": {
    "id": "tsFtDbfmpMUv"
   },
   "source": [
    "# **Exercice** - Refaire les mêmes étapes avec l'exercice n° 3 de la série TD 1."
   ]
  },
  {
   "cell_type": "markdown",
   "metadata": {
    "id": "g9wZBR0ESSzJ"
   },
   "source": [
    "## Larger CSV Dataset - Market Basket Analysis\n"
   ]
  },
  {
   "cell_type": "markdown",
   "metadata": {
    "id": "1HIDQKyIqPse"
   },
   "source": [
    "### Import libraries"
   ]
  },
  {
   "cell_type": "code",
   "execution_count": 11,
   "metadata": {
    "id": "UAYL4RnEqTdR"
   },
   "outputs": [],
   "source": [
    "import io\n",
    "import pandas as pd"
   ]
  },
  {
   "cell_type": "markdown",
   "metadata": {
    "id": "CjsV8hW_uAs2"
   },
   "source": [
    "### For Local Jupyter - Load dataset into a pandas DataFrame"
   ]
  },
  {
   "cell_type": "code",
   "execution_count": 12,
   "metadata": {
    "id": "JifWy6_YuHCP"
   },
   "outputs": [],
   "source": [
    "df = pd.read_csv('Market_Basket_Optimisation.csv', header = None)"
   ]
  },
  {
   "cell_type": "markdown",
   "metadata": {
    "id": "RnXKcV-qqaG1"
   },
   "source": [
    "### For Google Colab - Load dataset from Google Drive - Option 1"
   ]
  },
  {
   "cell_type": "code",
   "execution_count": null,
   "metadata": {
    "id": "LJKlaywxUg36"
   },
   "outputs": [],
   "source": [
    "from google.colab import drive\n",
    "\n",
    "drive.mount('/content/drive')"
   ]
  },
  {
   "cell_type": "code",
   "execution_count": null,
   "metadata": {
    "id": "HiGIwDmuqm8J"
   },
   "outputs": [],
   "source": [
    "df = pd.read_csv('/content/drive/MyDrive/Market_Basket_Optimisation.csv', header = None)"
   ]
  },
  {
   "cell_type": "markdown",
   "metadata": {
    "id": "4KAieXjHqd-b"
   },
   "source": [
    "### For Google Colab - Load dataset from Local Files - Option 2"
   ]
  },
  {
   "cell_type": "code",
   "execution_count": null,
   "metadata": {
    "id": "fZJcrF-iqEnx"
   },
   "outputs": [],
   "source": [
    "from google.colab import files \n",
    "\n",
    "uploaded = files.upload()"
   ]
  },
  {
   "cell_type": "code",
   "execution_count": 20,
   "metadata": {
    "colab": {
     "base_uri": "https://localhost:8080/"
    },
    "id": "PFGlgVivrV7O",
    "outputId": "c5fdc505-4ec8-47c7-b18a-c837cc0e431b"
   },
   "outputs": [
    {
     "name": "stdout",
     "output_type": "stream",
     "text": [
      "User uploaded file \"Market_Basket_Optimisation.csv\" with length 302908 bytes\n"
     ]
    }
   ],
   "source": [
    "for fn in uploaded.keys():\n",
    "  print('User uploaded file \"{name}\" with length {length} bytes'.format(name=fn, length=len(uploaded[fn])))"
   ]
  },
  {
   "cell_type": "code",
   "execution_count": 21,
   "metadata": {
    "id": "snwOqSdhqs5L"
   },
   "outputs": [],
   "source": [
    "df = pd.read_csv(io.StringIO(uploaded['Market_Basket_Optimisation.csv'].decode('utf-8')), header = None)"
   ]
  },
  {
   "cell_type": "markdown",
   "metadata": {
    "id": "u13IM1CNsYSe"
   },
   "source": [
    "### Printing first 5 rows of the Dataset"
   ]
  },
  {
   "cell_type": "code",
   "execution_count": 13,
   "metadata": {
    "colab": {
     "base_uri": "https://localhost:8080/",
     "height": 322
    },
    "id": "PBPAoACdsSB5",
    "outputId": "9b1f2bb6-e0ff-4736-8c51-1a54f13567f7"
   },
   "outputs": [
    {
     "data": {
      "text/html": [
       "<div>\n",
       "<style scoped>\n",
       "    .dataframe tbody tr th:only-of-type {\n",
       "        vertical-align: middle;\n",
       "    }\n",
       "\n",
       "    .dataframe tbody tr th {\n",
       "        vertical-align: top;\n",
       "    }\n",
       "\n",
       "    .dataframe thead th {\n",
       "        text-align: right;\n",
       "    }\n",
       "</style>\n",
       "<table border=\"1\" class=\"dataframe\">\n",
       "  <thead>\n",
       "    <tr style=\"text-align: right;\">\n",
       "      <th></th>\n",
       "      <th>0</th>\n",
       "      <th>1</th>\n",
       "      <th>2</th>\n",
       "      <th>3</th>\n",
       "      <th>4</th>\n",
       "      <th>5</th>\n",
       "      <th>6</th>\n",
       "      <th>7</th>\n",
       "      <th>8</th>\n",
       "      <th>9</th>\n",
       "      <th>10</th>\n",
       "      <th>11</th>\n",
       "      <th>12</th>\n",
       "      <th>13</th>\n",
       "      <th>14</th>\n",
       "      <th>15</th>\n",
       "      <th>16</th>\n",
       "      <th>17</th>\n",
       "      <th>18</th>\n",
       "      <th>19</th>\n",
       "    </tr>\n",
       "  </thead>\n",
       "  <tbody>\n",
       "    <tr>\n",
       "      <th>0</th>\n",
       "      <td>shrimp</td>\n",
       "      <td>almonds</td>\n",
       "      <td>avocado</td>\n",
       "      <td>vegetables mix</td>\n",
       "      <td>green grapes</td>\n",
       "      <td>whole weat flour</td>\n",
       "      <td>yams</td>\n",
       "      <td>cottage cheese</td>\n",
       "      <td>energy drink</td>\n",
       "      <td>tomato juice</td>\n",
       "      <td>low fat yogurt</td>\n",
       "      <td>green tea</td>\n",
       "      <td>honey</td>\n",
       "      <td>salad</td>\n",
       "      <td>mineral water</td>\n",
       "      <td>salmon</td>\n",
       "      <td>antioxydant juice</td>\n",
       "      <td>frozen smoothie</td>\n",
       "      <td>spinach</td>\n",
       "      <td>olive oil</td>\n",
       "    </tr>\n",
       "    <tr>\n",
       "      <th>1</th>\n",
       "      <td>burgers</td>\n",
       "      <td>meatballs</td>\n",
       "      <td>eggs</td>\n",
       "      <td>NaN</td>\n",
       "      <td>NaN</td>\n",
       "      <td>NaN</td>\n",
       "      <td>NaN</td>\n",
       "      <td>NaN</td>\n",
       "      <td>NaN</td>\n",
       "      <td>NaN</td>\n",
       "      <td>NaN</td>\n",
       "      <td>NaN</td>\n",
       "      <td>NaN</td>\n",
       "      <td>NaN</td>\n",
       "      <td>NaN</td>\n",
       "      <td>NaN</td>\n",
       "      <td>NaN</td>\n",
       "      <td>NaN</td>\n",
       "      <td>NaN</td>\n",
       "      <td>NaN</td>\n",
       "    </tr>\n",
       "    <tr>\n",
       "      <th>2</th>\n",
       "      <td>chutney</td>\n",
       "      <td>NaN</td>\n",
       "      <td>NaN</td>\n",
       "      <td>NaN</td>\n",
       "      <td>NaN</td>\n",
       "      <td>NaN</td>\n",
       "      <td>NaN</td>\n",
       "      <td>NaN</td>\n",
       "      <td>NaN</td>\n",
       "      <td>NaN</td>\n",
       "      <td>NaN</td>\n",
       "      <td>NaN</td>\n",
       "      <td>NaN</td>\n",
       "      <td>NaN</td>\n",
       "      <td>NaN</td>\n",
       "      <td>NaN</td>\n",
       "      <td>NaN</td>\n",
       "      <td>NaN</td>\n",
       "      <td>NaN</td>\n",
       "      <td>NaN</td>\n",
       "    </tr>\n",
       "    <tr>\n",
       "      <th>3</th>\n",
       "      <td>turkey</td>\n",
       "      <td>avocado</td>\n",
       "      <td>NaN</td>\n",
       "      <td>NaN</td>\n",
       "      <td>NaN</td>\n",
       "      <td>NaN</td>\n",
       "      <td>NaN</td>\n",
       "      <td>NaN</td>\n",
       "      <td>NaN</td>\n",
       "      <td>NaN</td>\n",
       "      <td>NaN</td>\n",
       "      <td>NaN</td>\n",
       "      <td>NaN</td>\n",
       "      <td>NaN</td>\n",
       "      <td>NaN</td>\n",
       "      <td>NaN</td>\n",
       "      <td>NaN</td>\n",
       "      <td>NaN</td>\n",
       "      <td>NaN</td>\n",
       "      <td>NaN</td>\n",
       "    </tr>\n",
       "    <tr>\n",
       "      <th>4</th>\n",
       "      <td>mineral water</td>\n",
       "      <td>milk</td>\n",
       "      <td>energy bar</td>\n",
       "      <td>whole wheat rice</td>\n",
       "      <td>green tea</td>\n",
       "      <td>NaN</td>\n",
       "      <td>NaN</td>\n",
       "      <td>NaN</td>\n",
       "      <td>NaN</td>\n",
       "      <td>NaN</td>\n",
       "      <td>NaN</td>\n",
       "      <td>NaN</td>\n",
       "      <td>NaN</td>\n",
       "      <td>NaN</td>\n",
       "      <td>NaN</td>\n",
       "      <td>NaN</td>\n",
       "      <td>NaN</td>\n",
       "      <td>NaN</td>\n",
       "      <td>NaN</td>\n",
       "      <td>NaN</td>\n",
       "    </tr>\n",
       "  </tbody>\n",
       "</table>\n",
       "</div>"
      ],
      "text/plain": [
       "              0          1           2                 3             4   \\\n",
       "0         shrimp    almonds     avocado    vegetables mix  green grapes   \n",
       "1        burgers  meatballs        eggs               NaN           NaN   \n",
       "2        chutney        NaN         NaN               NaN           NaN   \n",
       "3         turkey    avocado         NaN               NaN           NaN   \n",
       "4  mineral water       milk  energy bar  whole wheat rice     green tea   \n",
       "\n",
       "                 5     6               7             8             9   \\\n",
       "0  whole weat flour  yams  cottage cheese  energy drink  tomato juice   \n",
       "1               NaN   NaN             NaN           NaN           NaN   \n",
       "2               NaN   NaN             NaN           NaN           NaN   \n",
       "3               NaN   NaN             NaN           NaN           NaN   \n",
       "4               NaN   NaN             NaN           NaN           NaN   \n",
       "\n",
       "               10         11     12     13             14      15  \\\n",
       "0  low fat yogurt  green tea  honey  salad  mineral water  salmon   \n",
       "1             NaN        NaN    NaN    NaN            NaN     NaN   \n",
       "2             NaN        NaN    NaN    NaN            NaN     NaN   \n",
       "3             NaN        NaN    NaN    NaN            NaN     NaN   \n",
       "4             NaN        NaN    NaN    NaN            NaN     NaN   \n",
       "\n",
       "                  16               17       18         19  \n",
       "0  antioxydant juice  frozen smoothie  spinach  olive oil  \n",
       "1                NaN              NaN      NaN        NaN  \n",
       "2                NaN              NaN      NaN        NaN  \n",
       "3                NaN              NaN      NaN        NaN  \n",
       "4                NaN              NaN      NaN        NaN  "
      ]
     },
     "execution_count": 13,
     "metadata": {},
     "output_type": "execute_result"
    }
   ],
   "source": [
    "df.head(5)"
   ]
  },
  {
   "cell_type": "markdown",
   "metadata": {
    "id": "D4xiB7BGtLtS"
   },
   "source": [
    "### Data shape (rows, cols)"
   ]
  },
  {
   "cell_type": "code",
   "execution_count": 14,
   "metadata": {
    "colab": {
     "base_uri": "https://localhost:8080/"
    },
    "id": "WQCMYKB2siGT",
    "outputId": "5e19155b-32b6-4e45-9257-6e7f6d0008c5"
   },
   "outputs": [
    {
     "data": {
      "text/plain": [
       "(7501, 20)"
      ]
     },
     "execution_count": 14,
     "metadata": {},
     "output_type": "execute_result"
    }
   ],
   "source": [
    "df.shape"
   ]
  },
  {
   "cell_type": "markdown",
   "metadata": {
    "id": "edWUcg4oteg5"
   },
   "source": [
    "### Convert Pandas DataFrame df into a list of lists"
   ]
  },
  {
   "cell_type": "code",
   "execution_count": 15,
   "metadata": {
    "id": "cPwm6wVySGBe"
   },
   "outputs": [],
   "source": [
    "transacts = []\n",
    "\n",
    "for i in range(0, 7501): \n",
    "  transacts.append([str(df.values[i,j]) for j in range(0, 20) if str(df.values[i,j]) != 'nan'])"
   ]
  },
  {
   "cell_type": "code",
   "execution_count": 16,
   "metadata": {
    "colab": {
     "base_uri": "https://localhost:8080/"
    },
    "id": "xe8-H_FNtnil",
    "outputId": "35d2c3d3-44e9-4167-82c3-cf7ef16b7829"
   },
   "outputs": [
    {
     "data": {
      "text/plain": [
       "[['shrimp',\n",
       "  'almonds',\n",
       "  'avocado',\n",
       "  'vegetables mix',\n",
       "  'green grapes',\n",
       "  'whole weat flour',\n",
       "  'yams',\n",
       "  'cottage cheese',\n",
       "  'energy drink',\n",
       "  'tomato juice',\n",
       "  'low fat yogurt',\n",
       "  'green tea',\n",
       "  'honey',\n",
       "  'salad',\n",
       "  'mineral water',\n",
       "  'salmon',\n",
       "  'antioxydant juice',\n",
       "  'frozen smoothie',\n",
       "  'spinach',\n",
       "  'olive oil'],\n",
       " ['burgers', 'meatballs', 'eggs'],\n",
       " ['chutney']]"
      ]
     },
     "execution_count": 16,
     "metadata": {},
     "output_type": "execute_result"
    }
   ],
   "source": [
    "transacts[0:3]"
   ]
  },
  {
   "cell_type": "markdown",
   "metadata": {
    "id": "4zVP73x4tthQ"
   },
   "source": [
    "### Build the Apriori model"
   ]
  },
  {
   "cell_type": "code",
   "execution_count": 17,
   "metadata": {
    "id": "fFw_ttWiWemg"
   },
   "outputs": [],
   "source": [
    "freqItemSet, rules = apriori(transacts, minSup=0.01, minConf=0.2)"
   ]
  },
  {
   "cell_type": "code",
   "execution_count": 18,
   "metadata": {
    "id": "2i3OeEpcWhzQ"
   },
   "outputs": [
    {
     "data": {
      "text/plain": [
       "{1: {frozenset({'fresh bread'}),\n",
       "  frozenset({'butter'}),\n",
       "  frozenset({'mint'}),\n",
       "  frozenset({'honey'}),\n",
       "  frozenset({'shrimp'}),\n",
       "  frozenset({'eggplant'}),\n",
       "  frozenset({'yogurt cake'}),\n",
       "  frozenset({'milk'}),\n",
       "  frozenset({'chicken'}),\n",
       "  frozenset({'light cream'}),\n",
       "  frozenset({'herb & pepper'}),\n",
       "  frozenset({'ground beef'}),\n",
       "  frozenset({'protein bar'}),\n",
       "  frozenset({'french wine'}),\n",
       "  frozenset({'escalope'}),\n",
       "  frozenset({'energy drink'}),\n",
       "  frozenset({'black tea'}),\n",
       "  frozenset({'champagne'}),\n",
       "  frozenset({'ham'}),\n",
       "  frozenset({'chocolate'}),\n",
       "  frozenset({'gums'}),\n",
       "  frozenset({'cookies'}),\n",
       "  frozenset({'extra dark chocolate'}),\n",
       "  frozenset({'energy bar'}),\n",
       "  frozenset({'pasta'}),\n",
       "  frozenset({'whole wheat rice'}),\n",
       "  frozenset({'almonds'}),\n",
       "  frozenset({'mushroom cream sauce'}),\n",
       "  frozenset({'yams'}),\n",
       "  frozenset({'cake'}),\n",
       "  frozenset({'soup'}),\n",
       "  frozenset({'spaghetti'}),\n",
       "  frozenset({'magazines'}),\n",
       "  frozenset({'meatballs'}),\n",
       "  frozenset({'tomatoes'}),\n",
       "  frozenset({'french fries'}),\n",
       "  frozenset({'light mayo'}),\n",
       "  frozenset({'red wine'}),\n",
       "  frozenset({'avocado'}),\n",
       "  frozenset({'eggs'}),\n",
       "  frozenset({'melons'}),\n",
       "  frozenset({'barbecue sauce'}),\n",
       "  frozenset({'hot dogs'}),\n",
       "  frozenset({'turkey'}),\n",
       "  frozenset({'burgers'}),\n",
       "  frozenset({'pepper'}),\n",
       "  frozenset({'cottage cheese'}),\n",
       "  frozenset({'grated cheese'}),\n",
       "  frozenset({'frozen vegetables'}),\n",
       "  frozenset({'body spray'}),\n",
       "  frozenset({'cereals'}),\n",
       "  frozenset({'salmon'}),\n",
       "  frozenset({'mineral water'}),\n",
       "  frozenset({'nonfat milk'}),\n",
       "  frozenset({'vegetables mix'}),\n",
       "  frozenset({'oil'}),\n",
       "  frozenset({'carrots'}),\n",
       "  frozenset({'cooking oil'}),\n",
       "  frozenset({'low fat yogurt'}),\n",
       "  frozenset({'fromage blanc'}),\n",
       "  frozenset({'whole wheat pasta'}),\n",
       "  frozenset({'tomato sauce'}),\n",
       "  frozenset({'muffins'}),\n",
       "  frozenset({'strawberries'}),\n",
       "  frozenset({'brownies'}),\n",
       "  frozenset({'white wine'}),\n",
       "  frozenset({'pancakes'}),\n",
       "  frozenset({'tomato juice'}),\n",
       "  frozenset({'fresh tuna'}),\n",
       "  frozenset({'green tea'}),\n",
       "  frozenset({'rice'}),\n",
       "  frozenset({'parmesan cheese'}),\n",
       "  frozenset({'olive oil'}),\n",
       "  frozenset({'cider'}),\n",
       "  frozenset({'frozen smoothie'})},\n",
       " 2: {frozenset({'eggs', 'herb & pepper'}),\n",
       "  frozenset({'milk', 'whole wheat rice'}),\n",
       "  frozenset({'green tea', 'tomatoes'}),\n",
       "  frozenset({'eggs', 'frozen smoothie'}),\n",
       "  frozenset({'eggs', 'ground beef'}),\n",
       "  frozenset({'champagne', 'chocolate'}),\n",
       "  frozenset({'french fries', 'pancakes'}),\n",
       "  frozenset({'french fries', 'mineral water'}),\n",
       "  frozenset({'spaghetti', 'tomatoes'}),\n",
       "  frozenset({'honey', 'spaghetti'}),\n",
       "  frozenset({'frozen vegetables', 'mineral water'}),\n",
       "  frozenset({'frozen smoothie', 'green tea'}),\n",
       "  frozenset({'eggs', 'tomatoes'}),\n",
       "  frozenset({'milk', 'pancakes'}),\n",
       "  frozenset({'french fries', 'tomatoes'}),\n",
       "  frozenset({'milk', 'olive oil'}),\n",
       "  frozenset({'mineral water', 'spaghetti'}),\n",
       "  frozenset({'burgers', 'mineral water'}),\n",
       "  frozenset({'chocolate', 'soup'}),\n",
       "  frozenset({'milk', 'shrimp'}),\n",
       "  frozenset({'cake', 'mineral water'}),\n",
       "  frozenset({'eggs', 'mineral water'}),\n",
       "  frozenset({'chocolate', 'french fries'}),\n",
       "  frozenset({'chicken', 'green tea'}),\n",
       "  frozenset({'eggs', 'turkey'}),\n",
       "  frozenset({'olive oil', 'pancakes'}),\n",
       "  frozenset({'chocolate', 'whole wheat rice'}),\n",
       "  frozenset({'chicken', 'milk'}),\n",
       "  frozenset({'burgers', 'eggs'}),\n",
       "  frozenset({'spaghetti', 'turkey'}),\n",
       "  frozenset({'frozen smoothie', 'spaghetti'}),\n",
       "  frozenset({'chocolate', 'milk'}),\n",
       "  frozenset({'escalope', 'french fries'}),\n",
       "  frozenset({'frozen vegetables', 'spaghetti'}),\n",
       "  frozenset({'mineral water', 'tomatoes'}),\n",
       "  frozenset({'chicken', 'chocolate'}),\n",
       "  frozenset({'ground beef', 'pancakes'}),\n",
       "  frozenset({'burgers', 'frozen vegetables'}),\n",
       "  frozenset({'herb & pepper', 'spaghetti'}),\n",
       "  frozenset({'chocolate', 'pancakes'}),\n",
       "  frozenset({'frozen smoothie', 'mineral water'}),\n",
       "  frozenset({'chocolate', 'olive oil'}),\n",
       "  frozenset({'frozen vegetables', 'milk'}),\n",
       "  frozenset({'chocolate', 'cooking oil'}),\n",
       "  frozenset({'milk', 'soup'}),\n",
       "  frozenset({'herb & pepper', 'mineral water'}),\n",
       "  frozenset({'chocolate', 'escalope'}),\n",
       "  frozenset({'ground beef', 'tomatoes'}),\n",
       "  frozenset({'green tea', 'pancakes'}),\n",
       "  frozenset({'burgers', 'green tea'}),\n",
       "  frozenset({'cake', 'green tea'}),\n",
       "  frozenset({'burgers', 'milk'}),\n",
       "  frozenset({'chocolate', 'grated cheese'}),\n",
       "  frozenset({'green tea', 'shrimp'}),\n",
       "  frozenset({'cooking oil', 'milk'}),\n",
       "  frozenset({'chocolate', 'ground beef'}),\n",
       "  frozenset({'chocolate', 'salmon'}),\n",
       "  frozenset({'cookies', 'eggs'}),\n",
       "  frozenset({'cereals', 'mineral water'}),\n",
       "  frozenset({'cake', 'eggs'}),\n",
       "  frozenset({'eggs', 'low fat yogurt'}),\n",
       "  frozenset({'cake', 'spaghetti'}),\n",
       "  frozenset({'honey', 'mineral water'}),\n",
       "  frozenset({'chocolate', 'green tea'}),\n",
       "  frozenset({'frozen vegetables', 'low fat yogurt'}),\n",
       "  frozenset({'ground beef', 'shrimp'}),\n",
       "  frozenset({'french fries', 'spaghetti'}),\n",
       "  frozenset({'eggs', 'frozen vegetables'}),\n",
       "  frozenset({'milk', 'tomatoes'}),\n",
       "  frozenset({'burgers', 'ground beef'}),\n",
       "  frozenset({'frozen vegetables', 'olive oil'}),\n",
       "  frozenset({'shrimp', 'tomatoes'}),\n",
       "  frozenset({'chocolate', 'turkey'}),\n",
       "  frozenset({'chocolate', 'shrimp'}),\n",
       "  frozenset({'chicken', 'french fries'}),\n",
       "  frozenset({'french fries', 'green tea'}),\n",
       "  frozenset({'french fries', 'milk'}),\n",
       "  frozenset({'frozen vegetables', 'tomatoes'}),\n",
       "  frozenset({'eggs', 'milk'}),\n",
       "  frozenset({'mineral water', 'shrimp'}),\n",
       "  frozenset({'low fat yogurt', 'mineral water'}),\n",
       "  frozenset({'milk', 'turkey'}),\n",
       "  frozenset({'chicken', 'eggs'}),\n",
       "  frozenset({'mineral water', 'turkey'}),\n",
       "  frozenset({'low fat yogurt', 'milk'}),\n",
       "  frozenset({'burgers', 'cake'}),\n",
       "  frozenset({'green tea', 'milk'}),\n",
       "  frozenset({'burgers', 'turkey'}),\n",
       "  frozenset({'french fries', 'frozen vegetables'}),\n",
       "  frozenset({'french fries', 'grated cheese'}),\n",
       "  frozenset({'pancakes', 'shrimp'}),\n",
       "  frozenset({'eggs', 'spaghetti'}),\n",
       "  frozenset({'burgers', 'spaghetti'}),\n",
       "  frozenset({'green tea', 'mineral water'}),\n",
       "  frozenset({'eggs', 'escalope'}),\n",
       "  frozenset({'ground beef', 'spaghetti'}),\n",
       "  frozenset({'mineral water', 'red wine'}),\n",
       "  frozenset({'grated cheese', 'spaghetti'}),\n",
       "  frozenset({'avocado', 'mineral water'}),\n",
       "  frozenset({'salmon', 'spaghetti'}),\n",
       "  frozenset({'cake', 'french fries'}),\n",
       "  frozenset({'burgers', 'french fries'}),\n",
       "  frozenset({'cookies', 'french fries'}),\n",
       "  frozenset({'chocolate', 'cookies'}),\n",
       "  frozenset({'mineral water', 'salmon'}),\n",
       "  frozenset({'cake', 'chocolate'}),\n",
       "  frozenset({'mineral water', 'soup'}),\n",
       "  frozenset({'grated cheese', 'mineral water'}),\n",
       "  frozenset({'red wine', 'spaghetti'}),\n",
       "  frozenset({'green tea', 'ground beef'}),\n",
       "  frozenset({'chocolate', 'low fat yogurt'}),\n",
       "  frozenset({'ground beef', 'milk'}),\n",
       "  frozenset({'eggs', 'green tea'}),\n",
       "  frozenset({'escalope', 'mineral water'}),\n",
       "  frozenset({'cookies', 'green tea'}),\n",
       "  frozenset({'cooking oil', 'mineral water'}),\n",
       "  frozenset({'cake', 'milk'}),\n",
       "  frozenset({'green tea', 'turkey'}),\n",
       "  frozenset({'milk', 'spaghetti'}),\n",
       "  frozenset({'chocolate', 'frozen vegetables'}),\n",
       "  frozenset({'chocolate', 'frozen smoothie'}),\n",
       "  frozenset({'mineral water', 'olive oil'}),\n",
       "  frozenset({'chicken', 'spaghetti'}),\n",
       "  frozenset({'mineral water', 'pancakes'}),\n",
       "  frozenset({'cooking oil', 'spaghetti'}),\n",
       "  frozenset({'grated cheese', 'ground beef'}),\n",
       "  frozenset({'frozen vegetables', 'ground beef'}),\n",
       "  frozenset({'low fat yogurt', 'spaghetti'}),\n",
       "  frozenset({'escalope', 'spaghetti'}),\n",
       "  frozenset({'cake', 'pancakes'}),\n",
       "  frozenset({'chocolate', 'tomatoes'}),\n",
       "  frozenset({'eggs', 'shrimp'}),\n",
       "  frozenset({'pancakes', 'spaghetti'}),\n",
       "  frozenset({'ground beef', 'herb & pepper'}),\n",
       "  frozenset({'olive oil', 'spaghetti'}),\n",
       "  frozenset({'soup', 'spaghetti'}),\n",
       "  frozenset({'frozen vegetables', 'shrimp'}),\n",
       "  frozenset({'french fries', 'low fat yogurt'}),\n",
       "  frozenset({'mineral water', 'whole wheat rice'}),\n",
       "  frozenset({'frozen vegetables', 'pancakes'}),\n",
       "  frozenset({'ground beef', 'olive oil'}),\n",
       "  frozenset({'chocolate', 'mineral water'}),\n",
       "  frozenset({'french fries', 'turkey'}),\n",
       "  frozenset({'cake', 'frozen vegetables'}),\n",
       "  frozenset({'eggs', 'french fries'}),\n",
       "  frozenset({'chocolate', 'eggs'}),\n",
       "  frozenset({'ground beef', 'mineral water'}),\n",
       "  frozenset({'eggs', 'whole wheat rice'}),\n",
       "  frozenset({'burgers', 'chocolate'}),\n",
       "  frozenset({'chocolate', 'spaghetti'}),\n",
       "  frozenset({'frozen vegetables', 'green tea'}),\n",
       "  frozenset({'frozen smoothie', 'milk'}),\n",
       "  frozenset({'spaghetti', 'whole wheat rice'}),\n",
       "  frozenset({'french fries', 'whole wheat rice'}),\n",
       "  frozenset({'green tea', 'spaghetti'}),\n",
       "  frozenset({'shrimp', 'spaghetti'}),\n",
       "  frozenset({'eggs', 'pancakes'}),\n",
       "  frozenset({'burgers', 'pancakes'}),\n",
       "  frozenset({'eggs', 'olive oil'}),\n",
       "  frozenset({'french fries', 'ground beef'}),\n",
       "  frozenset({'french fries', 'frozen smoothie'}),\n",
       "  frozenset({'fresh bread', 'mineral water'}),\n",
       "  frozenset({'chicken', 'mineral water'}),\n",
       "  frozenset({'cooking oil', 'eggs'}),\n",
       "  frozenset({'milk', 'mineral water'})},\n",
       " 3: {frozenset({'ground beef', 'mineral water', 'spaghetti'}),\n",
       "  frozenset({'ground beef', 'milk', 'mineral water'}),\n",
       "  frozenset({'mineral water', 'pancakes', 'spaghetti'}),\n",
       "  frozenset({'milk', 'mineral water', 'spaghetti'}),\n",
       "  frozenset({'chocolate', 'milk', 'spaghetti'}),\n",
       "  frozenset({'chocolate', 'eggs', 'mineral water'}),\n",
       "  frozenset({'chocolate', 'ground beef', 'mineral water'}),\n",
       "  frozenset({'frozen vegetables', 'mineral water', 'spaghetti'}),\n",
       "  frozenset({'frozen vegetables', 'milk', 'mineral water'}),\n",
       "  frozenset({'chocolate', 'mineral water', 'spaghetti'}),\n",
       "  frozenset({'eggs', 'ground beef', 'mineral water'}),\n",
       "  frozenset({'eggs', 'milk', 'mineral water'}),\n",
       "  frozenset({'french fries', 'mineral water', 'spaghetti'}),\n",
       "  frozenset({'eggs', 'mineral water', 'spaghetti'}),\n",
       "  frozenset({'mineral water', 'olive oil', 'spaghetti'}),\n",
       "  frozenset({'chocolate', 'eggs', 'spaghetti'}),\n",
       "  frozenset({'chocolate', 'milk', 'mineral water'})}}"
      ]
     },
     "execution_count": 18,
     "metadata": {},
     "output_type": "execute_result"
    }
   ],
   "source": [
    "freqItemSet"
   ]
  },
  {
   "cell_type": "code",
   "execution_count": 19,
   "metadata": {
    "id": "r-r4RpvLXc3Q"
   },
   "outputs": [
    {
     "data": {
      "text/plain": [
       "[[{'burgers'}, {'green tea'}, 0.20030581039755352],\n",
       " [{'soup'}, {'chocolate'}, 0.20052770448548812],\n",
       " [{'green tea'}, {'spaghetti'}, 0.20080726538849647],\n",
       " [{'mineral water', 'spaghetti'}, {'frozen vegetables'}, 0.20089285714285715],\n",
       " [{'french fries'}, {'chocolate'}, 0.20124804992199688],\n",
       " [{'mineral water'}, {'milk'}, 0.20134228187919462],\n",
       " [{'eggs'}, {'french fries'}, 0.20252225519287834],\n",
       " [{'chocolate'}, {'eggs'}, 0.20260374288039057],\n",
       " [{'whole wheat rice'}, {'milk'}, 0.20273348519362186],\n",
       " [{'eggs'}, {'spaghetti'}, 0.2032640949554896],\n",
       " [{'ground beef'}, {'eggs'}, 0.20352781546811397],\n",
       " [{'spaghetti'}, {'milk'}, 0.20367534456355282],\n",
       " [{'tomatoes'}, {'milk'}, 0.2046783625730994],\n",
       " [{'tomatoes'}, {'chocolate'}, 0.2046783625730994],\n",
       " [{'burgers'}, {'milk'}, 0.20489296636085627],\n",
       " [{'whole wheat rice'}, {'chocolate'}, 0.20501138952164008],\n",
       " [{'escalope'}, {'french fries'}, 0.20672268907563024],\n",
       " [{'chocolate', 'mineral water'}, {'ground beef'}, 0.20759493670886076],\n",
       " [{'grated cheese'}, {'chocolate'}, 0.20865139949109415],\n",
       " [{'pancakes'}, {'chocolate'}, 0.20897615708274894],\n",
       " [{'spaghetti'}, {'eggs'}, 0.20980091883614088],\n",
       " [{'chocolate'}, {'french fries'}, 0.20992676973148902],\n",
       " [{'pancakes'}, {'french fries'}, 0.211781206171108],\n",
       " [{'french fries'}, {'eggs'}, 0.21294851794071762],\n",
       " [{'mineral water'}, {'eggs'}, 0.21364653243847875],\n",
       " [{'olive oil'}, {'ground beef'}, 0.2145748987854251],\n",
       " [{'escalope'}, {'mineral water'}, 0.21512605042016808],\n",
       " [{'green tea'}, {'french fries'}, 0.21594349142280525],\n",
       " [{'grated cheese'}, {'ground beef'}, 0.21628498727735368],\n",
       " [{'low fat yogurt'}, {'eggs'}, 0.21951219512195122],\n",
       " [{'cake'}, {'french fries'}, 0.22039473684210525],\n",
       " [{'mineral water'}, {'chocolate'}, 0.220917225950783],\n",
       " [{'escalope'}, {'chocolate'}, 0.2218487394957983],\n",
       " [{'cake'}, {'spaghetti'}, 0.2236842105263158],\n",
       " [{'ground beef'}, {'milk'}, 0.22388059701492538],\n",
       " [{'cooking oil'}, {'milk'}, 0.2245430809399478],\n",
       " [{'spaghetti'}, {'ground beef'}, 0.225114854517611],\n",
       " [{'spaghetti'}, {'chocolate'}, 0.225114854517611],\n",
       " [{'frozen smoothie'}, {'milk'}, 0.22526315789473683],\n",
       " [{'frozen vegetables'}, {'eggs'}, 0.22797202797202798],\n",
       " [{'pancakes'}, {'eggs'}, 0.22861150070126227],\n",
       " [{'frozen smoothie'}, {'french fries'}, 0.2294736842105263],\n",
       " [{'cooking oil'}, {'eggs'}, 0.2297650130548303],\n",
       " [{'milk', 'mineral water'}, {'ground beef'}, 0.23055555555555557],\n",
       " [{'milk', 'mineral water'}, {'frozen vegetables'}, 0.23055555555555557],\n",
       " [{'shrimp'}, {'frozen vegetables'}, 0.2332089552238806],\n",
       " [{'ground beef'}, {'chocolate'}, 0.23473541383989144],\n",
       " [{'green tea'}, {'mineral water'}, 0.23511604439959638],\n",
       " [{'cake'}, {'eggs'}, 0.23519736842105263],\n",
       " [{'frozen smoothie'}, {'chocolate'}, 0.23578947368421052],\n",
       " [{'tomatoes'}, {'frozen vegetables'}, 0.23586744639376217],\n",
       " [{'milk'}, {'eggs'}, 0.23765432098765432],\n",
       " [{'mineral water', 'spaghetti'}, {'eggs'}, 0.23883928571428573],\n",
       " [{'chocolate'}, {'spaghetti'}, 0.23921887713588283],\n",
       " [{'chicken'}, {'eggs'}, 0.24],\n",
       " [{'frozen vegetables'}, {'chocolate'}, 0.24055944055944056],\n",
       " [{'whole wheat rice'}, {'spaghetti'}, 0.24145785876993167],\n",
       " [{'chicken'}, {'chocolate'}, 0.24444444444444444],\n",
       " [{'burgers'}, {'spaghetti'}, 0.24617737003058104],\n",
       " [{'shrimp'}, {'milk'}, 0.2462686567164179],\n",
       " [{'frozen smoothie'}, {'spaghetti'}, 0.2463157894736842],\n",
       " [{'chicken'}, {'milk'}, 0.24666666666666667],\n",
       " [{'frozen vegetables'}, {'milk'}, 0.24755244755244754],\n",
       " [{'ground beef', 'mineral water'}, {'eggs'}, 0.247557003257329],\n",
       " [{'champagne'}, {'chocolate'}, 0.24786324786324787],\n",
       " [{'milk'}, {'chocolate'}, 0.24794238683127573],\n",
       " [{'olive oil'}, {'chocolate'}, 0.24898785425101214],\n",
       " [{'honey'}, {'spaghetti'}, 0.25],\n",
       " [{'mineral water'}, {'spaghetti'}, 0.2505592841163311],\n",
       " [{'salmon'}, {'chocolate'}, 0.2507836990595611],\n",
       " [{'shrimp'}, {'chocolate'}, 0.251865671641791],\n",
       " [{'burgers'}, {'french fries'}, 0.25229357798165136],\n",
       " [{'herb & pepper'}, {'eggs'}, 0.25336927223719674],\n",
       " [{'chocolate', 'mineral water'}, {'eggs'}, 0.25569620253164554],\n",
       " [{'eggs', 'mineral water'}, {'milk'}, 0.25654450261780104],\n",
       " [{'olive oil'}, {'milk'}, 0.2591093117408907],\n",
       " [{'mineral water', 'spaghetti'}, {'milk'}, 0.26339285714285715],\n",
       " [{'turkey'}, {'spaghetti'}, 0.26439232409381663],\n",
       " [{'eggs', 'mineral water'}, {'chocolate'}, 0.2643979057591623],\n",
       " [{'pancakes'}, {'spaghetti'}, 0.2650771388499299],\n",
       " [{'mineral water', 'spaghetti'}, {'chocolate'}, 0.265625],\n",
       " [{'chocolate', 'mineral water'}, {'milk'}, 0.26582278481012656],\n",
       " [{'cooking oil'}, {'chocolate'}, 0.26631853785900783],\n",
       " [{'ground beef', 'mineral water'}, {'chocolate'}, 0.2671009771986971],\n",
       " [{'chocolate', 'spaghetti'}, {'eggs'}, 0.2687074829931973],\n",
       " [{'ground beef', 'mineral water'}, {'milk'}, 0.2703583061889251],\n",
       " [{'milk', 'mineral water'}, {'eggs'}, 0.2722222222222222],\n",
       " [{'milk'}, {'spaghetti'}, 0.2736625514403292],\n",
       " [{'chocolate', 'spaghetti'}, {'milk'}, 0.2789115646258503],\n",
       " [{'burgers'}, {'mineral water'}, 0.2798165137614679],\n",
       " [{'eggs', 'mineral water'}, {'spaghetti'}, 0.2801047120418848],\n",
       " [{'soup'}, {'spaghetti'}, 0.28232189973614774],\n",
       " [{'eggs'}, {'mineral water'}, 0.28338278931750743],\n",
       " [{'mineral water', 'spaghetti'}, {'ground beef'}, 0.2857142857142857],\n",
       " [{'chicken'}, {'spaghetti'}, 0.2866666666666667],\n",
       " [{'eggs', 'spaghetti'}, {'chocolate'}, 0.28832116788321166],\n",
       " [{'milk', 'mineral water'}, {'chocolate'}, 0.2916666666666667],\n",
       " [{'frozen vegetables'}, {'spaghetti'}, 0.2923076923076923],\n",
       " [{'shrimp'}, {'spaghetti'}, 0.2966417910447761],\n",
       " [{'french fries', 'mineral water'}, {'spaghetti'}, 0.30039525691699603],\n",
       " [{'soup'}, {'milk'}, 0.3007915567282322],\n",
       " [{'chocolate', 'mineral water'}, {'spaghetti'}, 0.3012658227848101],\n",
       " [{'tomatoes'}, {'spaghetti'}, 0.3060428849902534],\n",
       " [{'turkey'}, {'mineral water'}, 0.3070362473347548],\n",
       " [{'milk', 'spaghetti'}, {'chocolate'}, 0.3082706766917293],\n",
       " [{'fresh bread'}, {'mineral water'}, 0.30959752321981426],\n",
       " [{'frozen vegetables', 'mineral water'}, {'milk'}, 0.30970149253731344],\n",
       " [{'cooking oil'}, {'spaghetti'}, 0.31070496083550914],\n",
       " [{'turkey'}, {'eggs'}, 0.31130063965884863],\n",
       " [{'low fat yogurt'}, {'mineral water'}, 0.313588850174216],\n",
       " [{'grated cheese'}, {'spaghetti'}, 0.3155216284987277],\n",
       " [{'salmon'}, {'spaghetti'}, 0.3166144200626959],\n",
       " [{'chocolate', 'eggs'}, {'spaghetti'}, 0.3172690763052209],\n",
       " [{'honey'}, {'mineral water'}, 0.31741573033707865],\n",
       " [{'frozen smoothie'}, {'mineral water'}, 0.32],\n",
       " [{'chocolate'}, {'mineral water'}, 0.3213995117982099],\n",
       " [{'herb & pepper'}, {'ground beef'}, 0.32345013477088946],\n",
       " [{'milk', 'mineral water'}, {'spaghetti'}, 0.3277777777777778],\n",
       " [{'herb & pepper'}, {'spaghetti'}, 0.3288409703504043],\n",
       " [{'shrimp'}, {'mineral water'}, 0.3302238805970149],\n",
       " [{'burgers'}, {'eggs'}, 0.3302752293577982],\n",
       " [{'grated cheese'}, {'mineral water'}, 0.3333333333333333],\n",
       " [{'frozen vegetables', 'mineral water'}, {'spaghetti'}, 0.3358208955223881],\n",
       " [{'cake'}, {'mineral water'}, 0.33881578947368424],\n",
       " [{'mineral water', 'pancakes'}, {'spaghetti'}, 0.33992094861660077],\n",
       " [{'chocolate', 'milk'}, {'spaghetti'}, 0.34024896265560167],\n",
       " [{'spaghetti'}, {'mineral water'}, 0.3430321592649311],\n",
       " [{'whole wheat rice'}, {'mineral water'}, 0.3439635535307517],\n",
       " [{'herb & pepper'}, {'mineral water'}, 0.3450134770889488],\n",
       " [{'avocado'}, {'mineral water'}, 0.348],\n",
       " [{'olive oil'}, {'spaghetti'}, 0.3481781376518219],\n",
       " [{'pancakes'}, {'mineral water'}, 0.3548387096774194],\n",
       " [{'tomatoes'}, {'mineral water'}, 0.3567251461988304],\n",
       " [{'red wine'}, {'spaghetti'}, 0.36492890995260663],\n",
       " [{'french fries', 'spaghetti'}, {'mineral water'}, 0.3671497584541063],\n",
       " [{'milk'}, {'mineral water'}, 0.37037037037037035],\n",
       " [{'mineral water', 'olive oil'}, {'spaghetti'}, 0.3719806763285024],\n",
       " [{'frozen vegetables'}, {'mineral water'}, 0.3748251748251748],\n",
       " [{'chicken'}, {'mineral water'}, 0.38],\n",
       " [{'red wine'}, {'mineral water'}, 0.3886255924170616],\n",
       " [{'eggs', 'spaghetti'}, {'mineral water'}, 0.3905109489051095],\n",
       " [{'cooking oil'}, {'mineral water'}, 0.39425587467362927],\n",
       " [{'ground beef'}, {'spaghetti'}, 0.3989145183175034],\n",
       " [{'cereals'}, {'mineral water'}, 0.39896373056994816],\n",
       " [{'salmon'}, {'mineral water'}, 0.4012539184952978],\n",
       " [{'chocolate', 'spaghetti'}, {'mineral water'}, 0.40476190476190477],\n",
       " [{'chocolate', 'eggs'}, {'mineral water'}, 0.40562248995983935],\n",
       " [{'ground beef'}, {'mineral water'}, 0.41655359565807326],\n",
       " [{'ground beef', 'mineral water'}, {'spaghetti'}, 0.4169381107491857],\n",
       " [{'olive oil'}, {'mineral water'}, 0.4190283400809717],\n",
       " [{'eggs', 'milk'}, {'mineral water'}, 0.42424242424242425],\n",
       " [{'frozen vegetables', 'spaghetti'}, {'mineral water'}, 0.430622009569378],\n",
       " [{'ground beef', 'spaghetti'}, {'mineral water'}, 0.43537414965986393],\n",
       " [{'chocolate', 'milk'}, {'mineral water'}, 0.43568464730290457],\n",
       " [{'milk', 'spaghetti'}, {'mineral water'}, 0.44360902255639095],\n",
       " [{'olive oil', 'spaghetti'}, {'mineral water'}, 0.4476744186046512],\n",
       " [{'pancakes', 'spaghetti'}, {'mineral water'}, 0.455026455026455],\n",
       " [{'soup'}, {'mineral water'}, 0.45646437994722955],\n",
       " [{'frozen vegetables', 'milk'}, {'mineral water'}, 0.4689265536723164],\n",
       " [{'chocolate', 'ground beef'}, {'mineral water'}, 0.47398843930635837],\n",
       " [{'ground beef', 'milk'}, {'mineral water'}, 0.503030303030303],\n",
       " [{'eggs', 'ground beef'}, {'mineral water'}, 0.5066666666666667]]"
      ]
     },
     "execution_count": 19,
     "metadata": {},
     "output_type": "execute_result"
    }
   ],
   "source": [
    "rules"
   ]
  },
  {
   "cell_type": "markdown",
   "metadata": {
    "id": "8EBYMxM9v6MV"
   },
   "source": [
    "## Numerical Dataset - weather.numeric dataset\n",
    "\n",
    "- attribute outlook {sunny, overcast, rainy}\n",
    "\n",
    "- attribute temperature numeric\n",
    "\n",
    "- attribute humidity numeric\n",
    "\n",
    "- attribute windy {TRUE, FALSE}\n",
    "\n",
    "- attribute play {yes, no}"
   ]
  },
  {
   "cell_type": "markdown",
   "metadata": {
    "id": "DjYVGqOxzpHn"
   },
   "source": [
    "### Load Dataset"
   ]
  },
  {
   "cell_type": "code",
   "execution_count": 20,
   "metadata": {
    "colab": {
     "base_uri": "https://localhost:8080/",
     "height": 73,
     "resources": {
      "http://localhost:8080/nbextensions/google.colab/files.js": {
       "data": "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",
       "headers": [
        [
         "content-type",
         "application/javascript"
        ]
       ],
       "ok": true,
       "status": 200,
       "status_text": ""
      }
     }
    },
    "id": "rUHoJCdgwBYB",
    "outputId": "1cc61e55-5476-4c0a-da75-6b1e8812c18e"
   },
   "outputs": [],
   "source": [
    "dataset = pd.read_csv('weather_numeric.csv')"
   ]
  },
  {
   "cell_type": "code",
   "execution_count": 21,
   "metadata": {
    "colab": {
     "base_uri": "https://localhost:8080/",
     "height": 206
    },
    "id": "aPRls2IPC-0h",
    "outputId": "12c83053-0ed1-472c-ab29-3ed7cde2afe8"
   },
   "outputs": [
    {
     "data": {
      "text/html": [
       "<div>\n",
       "<style scoped>\n",
       "    .dataframe tbody tr th:only-of-type {\n",
       "        vertical-align: middle;\n",
       "    }\n",
       "\n",
       "    .dataframe tbody tr th {\n",
       "        vertical-align: top;\n",
       "    }\n",
       "\n",
       "    .dataframe thead th {\n",
       "        text-align: right;\n",
       "    }\n",
       "</style>\n",
       "<table border=\"1\" class=\"dataframe\">\n",
       "  <thead>\n",
       "    <tr style=\"text-align: right;\">\n",
       "      <th></th>\n",
       "      <th>outlook</th>\n",
       "      <th>temperature</th>\n",
       "      <th>humidity</th>\n",
       "      <th>windy</th>\n",
       "      <th>play</th>\n",
       "    </tr>\n",
       "  </thead>\n",
       "  <tbody>\n",
       "    <tr>\n",
       "      <th>0</th>\n",
       "      <td>sunny</td>\n",
       "      <td>85</td>\n",
       "      <td>85</td>\n",
       "      <td>False</td>\n",
       "      <td>no</td>\n",
       "    </tr>\n",
       "    <tr>\n",
       "      <th>1</th>\n",
       "      <td>sunny</td>\n",
       "      <td>80</td>\n",
       "      <td>90</td>\n",
       "      <td>True</td>\n",
       "      <td>no</td>\n",
       "    </tr>\n",
       "    <tr>\n",
       "      <th>2</th>\n",
       "      <td>overcast</td>\n",
       "      <td>83</td>\n",
       "      <td>86</td>\n",
       "      <td>False</td>\n",
       "      <td>yes</td>\n",
       "    </tr>\n",
       "    <tr>\n",
       "      <th>3</th>\n",
       "      <td>rainy</td>\n",
       "      <td>70</td>\n",
       "      <td>96</td>\n",
       "      <td>False</td>\n",
       "      <td>yes</td>\n",
       "    </tr>\n",
       "    <tr>\n",
       "      <th>4</th>\n",
       "      <td>rainy</td>\n",
       "      <td>68</td>\n",
       "      <td>80</td>\n",
       "      <td>False</td>\n",
       "      <td>yes</td>\n",
       "    </tr>\n",
       "  </tbody>\n",
       "</table>\n",
       "</div>"
      ],
      "text/plain": [
       "    outlook  temperature  humidity  windy play\n",
       "0     sunny           85        85  False   no\n",
       "1     sunny           80        90   True   no\n",
       "2  overcast           83        86  False  yes\n",
       "3     rainy           70        96  False  yes\n",
       "4     rainy           68        80  False  yes"
      ]
     },
     "execution_count": 21,
     "metadata": {},
     "output_type": "execute_result"
    }
   ],
   "source": [
    "dataset.head()"
   ]
  },
  {
   "cell_type": "markdown",
   "metadata": {
    "id": "dMRztb5cy6-v"
   },
   "source": [
    "Certains algorithmes ont besoin d’attributs discrets pour fonctionner, d’autres n’acceptent que des attributs continus. D’autres encore acceptent indifféremment des attributs des deux types. \n",
    "\n",
    "Par conséquent, pour appliquer Apriori sur ce dataset, les attributs numériques **Temperature** et **Humidity** doivent être **discrétisés** afin d’appliquer l’extraction de règles d’association. \n",
    "\n",
    "La déscrétisation permet de rendre discret un attribut continu/numérique et ceci de plusieurs façons :\n",
    "- En partageant l’intervalle des valeurs possibles de l’attribut en intervalles de taille égale.\n",
    "- En le partageant en intervalles contenant le même nombre d’éléments.\n",
    "- En fixant manuellement le nombre d’intervalles (bins).\n",
    "\n"
   ]
  },
  {
   "cell_type": "code",
   "execution_count": 22,
   "metadata": {
    "colab": {
     "base_uri": "https://localhost:8080/",
     "height": 300
    },
    "id": "WdXXcjV4-MVH",
    "outputId": "6d7f3157-47f9-4e29-f5e1-af81e688495d"
   },
   "outputs": [
    {
     "data": {
      "text/html": [
       "<div>\n",
       "<style scoped>\n",
       "    .dataframe tbody tr th:only-of-type {\n",
       "        vertical-align: middle;\n",
       "    }\n",
       "\n",
       "    .dataframe tbody tr th {\n",
       "        vertical-align: top;\n",
       "    }\n",
       "\n",
       "    .dataframe thead th {\n",
       "        text-align: right;\n",
       "    }\n",
       "</style>\n",
       "<table border=\"1\" class=\"dataframe\">\n",
       "  <thead>\n",
       "    <tr style=\"text-align: right;\">\n",
       "      <th></th>\n",
       "      <th>temperature</th>\n",
       "      <th>humidity</th>\n",
       "    </tr>\n",
       "  </thead>\n",
       "  <tbody>\n",
       "    <tr>\n",
       "      <th>count</th>\n",
       "      <td>14.000000</td>\n",
       "      <td>14.000000</td>\n",
       "    </tr>\n",
       "    <tr>\n",
       "      <th>mean</th>\n",
       "      <td>73.571429</td>\n",
       "      <td>81.642857</td>\n",
       "    </tr>\n",
       "    <tr>\n",
       "      <th>std</th>\n",
       "      <td>6.571667</td>\n",
       "      <td>10.285218</td>\n",
       "    </tr>\n",
       "    <tr>\n",
       "      <th>min</th>\n",
       "      <td>64.000000</td>\n",
       "      <td>65.000000</td>\n",
       "    </tr>\n",
       "    <tr>\n",
       "      <th>25%</th>\n",
       "      <td>69.250000</td>\n",
       "      <td>71.250000</td>\n",
       "    </tr>\n",
       "    <tr>\n",
       "      <th>50%</th>\n",
       "      <td>72.000000</td>\n",
       "      <td>82.500000</td>\n",
       "    </tr>\n",
       "    <tr>\n",
       "      <th>75%</th>\n",
       "      <td>78.750000</td>\n",
       "      <td>90.000000</td>\n",
       "    </tr>\n",
       "    <tr>\n",
       "      <th>max</th>\n",
       "      <td>85.000000</td>\n",
       "      <td>96.000000</td>\n",
       "    </tr>\n",
       "  </tbody>\n",
       "</table>\n",
       "</div>"
      ],
      "text/plain": [
       "       temperature   humidity\n",
       "count    14.000000  14.000000\n",
       "mean     73.571429  81.642857\n",
       "std       6.571667  10.285218\n",
       "min      64.000000  65.000000\n",
       "25%      69.250000  71.250000\n",
       "50%      72.000000  82.500000\n",
       "75%      78.750000  90.000000\n",
       "max      85.000000  96.000000"
      ]
     },
     "execution_count": 22,
     "metadata": {},
     "output_type": "execute_result"
    }
   ],
   "source": [
    "dataset.describe()"
   ]
  },
  {
   "cell_type": "markdown",
   "metadata": {
    "id": "fiLSNbzrzeo-"
   },
   "source": [
    "### Transformation des données - Discrétisation"
   ]
  },
  {
   "cell_type": "markdown",
   "metadata": {
    "id": "3GEuUOws8Qgl"
   },
   "source": [
    "Temperature qui doivent être discrétisées selon les modalités suivantes :\n",
    "\n",
    "- **(min-70.5]** - **Cool** : valeurs inférieures ou égales à 70,5. \n",
    "\n",
    "- **(70.5–77.5]** - **Temperate** : valeurs entre 70,5 et 77,5 incluse.\n",
    "\n",
    "- **(77.5–max[** - **Hot** : valeurs supérieures à 77,5.\n"
   ]
  },
  {
   "cell_type": "code",
   "execution_count": 23,
   "metadata": {
    "id": "mK5_lT8d7e_d"
   },
   "outputs": [],
   "source": [
    "temps = ['cool', 'temperate', 'hot']\n",
    "\n",
    "dataset['temp_discret'] = pd.cut(x=dataset['temperature'], bins=[64, 70.5, 77.5, 85], labels=temps)"
   ]
  },
  {
   "cell_type": "code",
   "execution_count": 24,
   "metadata": {
    "colab": {
     "base_uri": "https://localhost:8080/",
     "height": 206
    },
    "id": "mpMZ4ldO-c-u",
    "outputId": "5e8fac14-0822-45d6-d573-795e94ae5f07"
   },
   "outputs": [
    {
     "data": {
      "text/html": [
       "<div>\n",
       "<style scoped>\n",
       "    .dataframe tbody tr th:only-of-type {\n",
       "        vertical-align: middle;\n",
       "    }\n",
       "\n",
       "    .dataframe tbody tr th {\n",
       "        vertical-align: top;\n",
       "    }\n",
       "\n",
       "    .dataframe thead th {\n",
       "        text-align: right;\n",
       "    }\n",
       "</style>\n",
       "<table border=\"1\" class=\"dataframe\">\n",
       "  <thead>\n",
       "    <tr style=\"text-align: right;\">\n",
       "      <th></th>\n",
       "      <th>outlook</th>\n",
       "      <th>temperature</th>\n",
       "      <th>humidity</th>\n",
       "      <th>windy</th>\n",
       "      <th>play</th>\n",
       "      <th>temp_discret</th>\n",
       "    </tr>\n",
       "  </thead>\n",
       "  <tbody>\n",
       "    <tr>\n",
       "      <th>0</th>\n",
       "      <td>sunny</td>\n",
       "      <td>85</td>\n",
       "      <td>85</td>\n",
       "      <td>False</td>\n",
       "      <td>no</td>\n",
       "      <td>hot</td>\n",
       "    </tr>\n",
       "    <tr>\n",
       "      <th>1</th>\n",
       "      <td>sunny</td>\n",
       "      <td>80</td>\n",
       "      <td>90</td>\n",
       "      <td>True</td>\n",
       "      <td>no</td>\n",
       "      <td>hot</td>\n",
       "    </tr>\n",
       "    <tr>\n",
       "      <th>2</th>\n",
       "      <td>overcast</td>\n",
       "      <td>83</td>\n",
       "      <td>86</td>\n",
       "      <td>False</td>\n",
       "      <td>yes</td>\n",
       "      <td>hot</td>\n",
       "    </tr>\n",
       "    <tr>\n",
       "      <th>3</th>\n",
       "      <td>rainy</td>\n",
       "      <td>70</td>\n",
       "      <td>96</td>\n",
       "      <td>False</td>\n",
       "      <td>yes</td>\n",
       "      <td>cool</td>\n",
       "    </tr>\n",
       "    <tr>\n",
       "      <th>4</th>\n",
       "      <td>rainy</td>\n",
       "      <td>68</td>\n",
       "      <td>80</td>\n",
       "      <td>False</td>\n",
       "      <td>yes</td>\n",
       "      <td>cool</td>\n",
       "    </tr>\n",
       "  </tbody>\n",
       "</table>\n",
       "</div>"
      ],
      "text/plain": [
       "    outlook  temperature  humidity  windy play temp_discret\n",
       "0     sunny           85        85  False   no          hot\n",
       "1     sunny           80        90   True   no          hot\n",
       "2  overcast           83        86  False  yes          hot\n",
       "3     rainy           70        96  False  yes         cool\n",
       "4     rainy           68        80  False  yes         cool"
      ]
     },
     "execution_count": 24,
     "metadata": {},
     "output_type": "execute_result"
    }
   ],
   "source": [
    "dataset.head()"
   ]
  },
  {
   "cell_type": "markdown",
   "metadata": {
    "id": "et4xnbXnDOzM"
   },
   "source": [
    "Humidity doivent être discrétisées selon les modalités suivantes :\n",
    "\n",
    "- (min-77.5] - **low** : valeurs inférieures ou égales à 77,5.\n",
    "\n",
    "- (77.5-88] - **medium** : valeurs entre 77,5 et 88 incluse.\n",
    "\n",
    "- (88-max] - **high** : valeurs supérieures à 88.\n"
   ]
  },
  {
   "cell_type": "code",
   "execution_count": 25,
   "metadata": {
    "id": "rqG8h9WyDH-5"
   },
   "outputs": [],
   "source": [
    "humdits = ['low', 'medium', 'high']\n",
    "\n",
    "dataset['humdt_discret'] = pd.cut(x=dataset['humidity'], bins=[65, 77.5, 88, 96], labels=humdits)"
   ]
  },
  {
   "cell_type": "code",
   "execution_count": 26,
   "metadata": {
    "colab": {
     "base_uri": "https://localhost:8080/",
     "height": 206
    },
    "id": "izUy3sTKDtoo",
    "outputId": "f1e2e09f-0407-4db6-d3f1-d942b2a99796"
   },
   "outputs": [
    {
     "data": {
      "text/html": [
       "<div>\n",
       "<style scoped>\n",
       "    .dataframe tbody tr th:only-of-type {\n",
       "        vertical-align: middle;\n",
       "    }\n",
       "\n",
       "    .dataframe tbody tr th {\n",
       "        vertical-align: top;\n",
       "    }\n",
       "\n",
       "    .dataframe thead th {\n",
       "        text-align: right;\n",
       "    }\n",
       "</style>\n",
       "<table border=\"1\" class=\"dataframe\">\n",
       "  <thead>\n",
       "    <tr style=\"text-align: right;\">\n",
       "      <th></th>\n",
       "      <th>outlook</th>\n",
       "      <th>temperature</th>\n",
       "      <th>humidity</th>\n",
       "      <th>windy</th>\n",
       "      <th>play</th>\n",
       "      <th>temp_discret</th>\n",
       "      <th>humdt_discret</th>\n",
       "    </tr>\n",
       "  </thead>\n",
       "  <tbody>\n",
       "    <tr>\n",
       "      <th>0</th>\n",
       "      <td>sunny</td>\n",
       "      <td>85</td>\n",
       "      <td>85</td>\n",
       "      <td>False</td>\n",
       "      <td>no</td>\n",
       "      <td>hot</td>\n",
       "      <td>medium</td>\n",
       "    </tr>\n",
       "    <tr>\n",
       "      <th>1</th>\n",
       "      <td>sunny</td>\n",
       "      <td>80</td>\n",
       "      <td>90</td>\n",
       "      <td>True</td>\n",
       "      <td>no</td>\n",
       "      <td>hot</td>\n",
       "      <td>high</td>\n",
       "    </tr>\n",
       "    <tr>\n",
       "      <th>2</th>\n",
       "      <td>overcast</td>\n",
       "      <td>83</td>\n",
       "      <td>86</td>\n",
       "      <td>False</td>\n",
       "      <td>yes</td>\n",
       "      <td>hot</td>\n",
       "      <td>medium</td>\n",
       "    </tr>\n",
       "    <tr>\n",
       "      <th>3</th>\n",
       "      <td>rainy</td>\n",
       "      <td>70</td>\n",
       "      <td>96</td>\n",
       "      <td>False</td>\n",
       "      <td>yes</td>\n",
       "      <td>cool</td>\n",
       "      <td>high</td>\n",
       "    </tr>\n",
       "    <tr>\n",
       "      <th>4</th>\n",
       "      <td>rainy</td>\n",
       "      <td>68</td>\n",
       "      <td>80</td>\n",
       "      <td>False</td>\n",
       "      <td>yes</td>\n",
       "      <td>cool</td>\n",
       "      <td>medium</td>\n",
       "    </tr>\n",
       "  </tbody>\n",
       "</table>\n",
       "</div>"
      ],
      "text/plain": [
       "    outlook  temperature  humidity  windy play temp_discret humdt_discret\n",
       "0     sunny           85        85  False   no          hot        medium\n",
       "1     sunny           80        90   True   no          hot          high\n",
       "2  overcast           83        86  False  yes          hot        medium\n",
       "3     rainy           70        96  False  yes         cool          high\n",
       "4     rainy           68        80  False  yes         cool        medium"
      ]
     },
     "execution_count": 26,
     "metadata": {},
     "output_type": "execute_result"
    }
   ],
   "source": [
    "dataset.head()"
   ]
  },
  {
   "cell_type": "markdown",
   "metadata": {
    "id": "RoWiyUrK0A3z"
   },
   "source": [
    "### Build the Apriori model"
   ]
  },
  {
   "cell_type": "code",
   "execution_count": 27,
   "metadata": {
    "colab": {
     "base_uri": "https://localhost:8080/",
     "height": 206
    },
    "id": "npEPnHiYEAcB",
    "outputId": "fb192c8d-b6b7-423a-c0e7-ae69176b2cc7"
   },
   "outputs": [
    {
     "data": {
      "text/html": [
       "<div>\n",
       "<style scoped>\n",
       "    .dataframe tbody tr th:only-of-type {\n",
       "        vertical-align: middle;\n",
       "    }\n",
       "\n",
       "    .dataframe tbody tr th {\n",
       "        vertical-align: top;\n",
       "    }\n",
       "\n",
       "    .dataframe thead th {\n",
       "        text-align: right;\n",
       "    }\n",
       "</style>\n",
       "<table border=\"1\" class=\"dataframe\">\n",
       "  <thead>\n",
       "    <tr style=\"text-align: right;\">\n",
       "      <th></th>\n",
       "      <th>outlook</th>\n",
       "      <th>windy</th>\n",
       "      <th>play</th>\n",
       "      <th>temp_discret</th>\n",
       "      <th>humdt_discret</th>\n",
       "    </tr>\n",
       "  </thead>\n",
       "  <tbody>\n",
       "    <tr>\n",
       "      <th>0</th>\n",
       "      <td>sunny</td>\n",
       "      <td>False</td>\n",
       "      <td>no</td>\n",
       "      <td>hot</td>\n",
       "      <td>medium</td>\n",
       "    </tr>\n",
       "    <tr>\n",
       "      <th>1</th>\n",
       "      <td>sunny</td>\n",
       "      <td>True</td>\n",
       "      <td>no</td>\n",
       "      <td>hot</td>\n",
       "      <td>high</td>\n",
       "    </tr>\n",
       "    <tr>\n",
       "      <th>2</th>\n",
       "      <td>overcast</td>\n",
       "      <td>False</td>\n",
       "      <td>yes</td>\n",
       "      <td>hot</td>\n",
       "      <td>medium</td>\n",
       "    </tr>\n",
       "    <tr>\n",
       "      <th>3</th>\n",
       "      <td>rainy</td>\n",
       "      <td>False</td>\n",
       "      <td>yes</td>\n",
       "      <td>cool</td>\n",
       "      <td>high</td>\n",
       "    </tr>\n",
       "    <tr>\n",
       "      <th>4</th>\n",
       "      <td>rainy</td>\n",
       "      <td>False</td>\n",
       "      <td>yes</td>\n",
       "      <td>cool</td>\n",
       "      <td>medium</td>\n",
       "    </tr>\n",
       "  </tbody>\n",
       "</table>\n",
       "</div>"
      ],
      "text/plain": [
       "    outlook  windy play temp_discret humdt_discret\n",
       "0     sunny  False   no          hot        medium\n",
       "1     sunny   True   no          hot          high\n",
       "2  overcast  False  yes          hot        medium\n",
       "3     rainy  False  yes         cool          high\n",
       "4     rainy  False  yes         cool        medium"
      ]
     },
     "execution_count": 27,
     "metadata": {},
     "output_type": "execute_result"
    }
   ],
   "source": [
    "dataset.drop('temperature', axis=1, inplace=True)\n",
    "\n",
    "dataset.drop('humidity', axis=1, inplace=True)\n",
    "\n",
    "dataset.head()"
   ]
  },
  {
   "cell_type": "code",
   "execution_count": 28,
   "metadata": {
    "colab": {
     "base_uri": "https://localhost:8080/"
    },
    "id": "g1vUOUCNFIPh",
    "outputId": "f2cd9564-e3d1-4e9e-da8f-a72e1c5ac040"
   },
   "outputs": [
    {
     "data": {
      "text/plain": [
       "(14, 5)"
      ]
     },
     "execution_count": 28,
     "metadata": {},
     "output_type": "execute_result"
    }
   ],
   "source": [
    "dataset.shape"
   ]
  },
  {
   "cell_type": "code",
   "execution_count": 29,
   "metadata": {
    "colab": {
     "base_uri": "https://localhost:8080/"
    },
    "id": "l823OTqEFKcu",
    "outputId": "aa4488ca-828a-4c96-8da4-6c1c732e9a86"
   },
   "outputs": [
    {
     "data": {
      "text/plain": [
       "[['sunny', 'False', 'no', 'hot', 'medium'],\n",
       " ['sunny', 'True', 'no', 'hot', 'high'],\n",
       " ['overcast', 'False', 'yes', 'hot', 'medium']]"
      ]
     },
     "execution_count": 29,
     "metadata": {},
     "output_type": "execute_result"
    }
   ],
   "source": [
    "dataset_list = []\n",
    "\n",
    "for i in range(0, 14): \n",
    "  dataset_list.append([str(dataset.values[i,j]) for j in range(0, 5)])\n",
    "\n",
    "dataset_list[0:3]"
   ]
  },
  {
   "cell_type": "code",
   "execution_count": 30,
   "metadata": {
    "id": "RsQJo1Jew9Sf"
   },
   "outputs": [],
   "source": [
    "freqItemSet, rules = apriori(dataset_list, minSup=0.2, minConf=0.5)"
   ]
  },
  {
   "cell_type": "code",
   "execution_count": 86,
   "metadata": {
    "colab": {
     "base_uri": "https://localhost:8080/"
    },
    "id": "b6_TAXxExC-x",
    "outputId": "5cc5e610-f567-4885-f239-df668bd2ed85"
   },
   "outputs": [
    {
     "data": {
      "text/plain": [
       "{1: {frozenset({'no'}),\n",
       "  frozenset({'low'}),\n",
       "  frozenset({'high'}),\n",
       "  frozenset({'overcast'}),\n",
       "  frozenset({'True'}),\n",
       "  frozenset({'yes'}),\n",
       "  frozenset({'Temperate'}),\n",
       "  frozenset({'Hot'}),\n",
       "  frozenset({'sunny'}),\n",
       "  frozenset({'rainy'}),\n",
       "  frozenset({'False'}),\n",
       "  frozenset({'medium'}),\n",
       "  frozenset({'Cool'})},\n",
       " 2: {frozenset({'True', 'yes'}),\n",
       "  frozenset({'Temperate', 'True'}),\n",
       "  frozenset({'False', 'medium'}),\n",
       "  frozenset({'Cool', 'yes'}),\n",
       "  frozenset({'high', 'no'}),\n",
       "  frozenset({'no', 'sunny'}),\n",
       "  frozenset({'False', 'yes'}),\n",
       "  frozenset({'rainy', 'yes'}),\n",
       "  frozenset({'Temperate', 'high'}),\n",
       "  frozenset({'False', 'sunny'}),\n",
       "  frozenset({'overcast', 'yes'}),\n",
       "  frozenset({'False', 'Hot'}),\n",
       "  frozenset({'Temperate', 'yes'}),\n",
       "  frozenset({'Cool', 'rainy'}),\n",
       "  frozenset({'medium', 'yes'}),\n",
       "  frozenset({'True', 'no'}),\n",
       "  frozenset({'True', 'high'}),\n",
       "  frozenset({'False', 'rainy'}),\n",
       "  frozenset({'Cool', 'False'}),\n",
       "  frozenset({'low', 'yes'})},\n",
       " 3: {frozenset({'False', 'rainy', 'yes'}),\n",
       "  frozenset({'Cool', 'False', 'yes'}),\n",
       "  frozenset({'False', 'medium', 'yes'})}}"
      ]
     },
     "execution_count": 86,
     "metadata": {},
     "output_type": "execute_result"
    }
   ],
   "source": [
    "freqItemSet"
   ]
  },
  {
   "cell_type": "code",
   "execution_count": 31,
   "metadata": {
    "colab": {
     "base_uri": "https://localhost:8080/"
    },
    "id": "nAI1ZM8SFs8X",
    "outputId": "875daad8-e44e-461f-f302-faa29701e24d"
   },
   "outputs": [
    {
     "data": {
      "text/plain": [
       "[[{'sunny'}, {'False'}, 0.6],\n",
       " [{'temperate'}, {'yes'}, 0.6],\n",
       " [{'no'}, {'True'}, 0.6],\n",
       " [{'rainy'}, {'False'}, 0.6],\n",
       " [{'temperate'}, {'True'}, 0.6],\n",
       " [{'rainy'}, {'yes'}, 0.6],\n",
       " [{'temperate'}, {'high'}, 0.6],\n",
       " [{'high'}, {'temperate'}, 0.6],\n",
       " [{'rainy'}, {'cool'}, 0.6],\n",
       " [{'high'}, {'no'}, 0.6],\n",
       " [{'no'}, {'high'}, 0.6],\n",
       " [{'high'}, {'True'}, 0.6],\n",
       " [{'sunny'}, {'no'}, 0.6],\n",
       " [{'no'}, {'sunny'}, 0.6],\n",
       " [{'rainy'}, {'False', 'yes'}, 0.6],\n",
       " [{'yes'}, {'False'}, 0.6666666666666666],\n",
       " [{'medium'}, {'yes'}, 0.75],\n",
       " [{'cool'}, {'False'}, 0.75],\n",
       " [{'cool'}, {'yes'}, 0.75],\n",
       " [{'False'}, {'yes'}, 0.75],\n",
       " [{'hot'}, {'False'}, 0.75],\n",
       " [{'low'}, {'yes'}, 0.75],\n",
       " [{'cool'}, {'rainy'}, 0.75],\n",
       " [{'cool'}, {'False', 'yes'}, 0.75],\n",
       " [{'medium'}, {'False', 'yes'}, 0.75],\n",
       " [{'False', 'medium'}, {'yes'}, 0.75],\n",
       " [{'overcast'}, {'yes'}, 1.0],\n",
       " [{'medium'}, {'False'}, 1.0],\n",
       " [{'False', 'cool'}, {'yes'}, 1.0],\n",
       " [{'cool', 'yes'}, {'False'}, 1.0],\n",
       " [{'False', 'rainy'}, {'yes'}, 1.0],\n",
       " [{'rainy', 'yes'}, {'False'}, 1.0],\n",
       " [{'medium', 'yes'}, {'False'}, 1.0]]"
      ]
     },
     "execution_count": 31,
     "metadata": {},
     "output_type": "execute_result"
    }
   ],
   "source": [
    "rules"
   ]
  },
  {
   "cell_type": "code",
   "execution_count": null,
   "metadata": {},
   "outputs": [],
   "source": []
  }
 ],
 "metadata": {
  "colab": {
   "collapsed_sections": [],
   "name": "Data Mining - TP 1 - Python.ipynb",
   "provenance": []
  },
  "kernelspec": {
   "display_name": "Python 3",
   "language": "python",
   "name": "python3"
  },
  "language_info": {
   "codemirror_mode": {
    "name": "ipython",
    "version": 3
   },
   "file_extension": ".py",
   "mimetype": "text/x-python",
   "name": "python",
   "nbconvert_exporter": "python",
   "pygments_lexer": "ipython3",
   "version": "3.8.8"
  }
 },
 "nbformat": 4,
 "nbformat_minor": 1
}
