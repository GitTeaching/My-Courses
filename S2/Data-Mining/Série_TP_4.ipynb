{
 "cells": [
  {
   "cell_type": "markdown",
   "id": "dcd5c165",
   "metadata": {},
   "source": [
    "# Série TP 4 – Fouille de Données – Naive Bayes"
   ]
  },
  {
   "cell_type": "markdown",
   "id": "b8fa3735",
   "metadata": {},
   "source": [
    "## La classification naive bayesienne : CategoricalNB de scikit-learn\n",
    "\n",
    "Doc : https://scikit-learn.org/stable/modules/naive_bayes.html & https://www.datacamp.com/community/tutorials/naive-bayes-scikit-learn\n",
    "\n",
    "Naive Bayes methods are a set of supervised learning algorithms based on applying Bayes’ theorem with the “naive” assumption of conditional independence between every pair of features given the value of the class variable.\n",
    "\n",
    "Naive Bayes Classifiers in sklearn : **GaussianNB**, **CategoricalNB**, BernoulliNB, MultinomialNB, ComplementNB.\n",
    "\n",
    "CategoricalNB implements the categorical naive Bayes algorithm for categorically distributed data.\n",
    "\n",
    "GaussianNB implements the Gaussian Naive Bayes algorithm for classification. The likelihood of the features is assumed to be Gaussian."
   ]
  },
  {
   "cell_type": "markdown",
   "id": "b79dc561",
   "metadata": {},
   "source": [
    "#### Steps :\n",
    "\n",
    "- Import necessary modules\n",
    "\n",
    "- Load & explore the dataset\n",
    "\n",
    "- Split the DataFrame into features (X) and target/class (y)\n",
    "\n",
    "- Create training and test sets \n",
    "\n",
    "- Encode categorical data as numbers : LabelEncoding\n",
    "\n",
    "- Train the model\n",
    "\n",
    "- Predict and Evaluate : Accuracy & Confusion matrix"
   ]
  },
  {
   "cell_type": "markdown",
   "id": "afbe3d25",
   "metadata": {},
   "source": [
    "### Import necessary modules : scikit-learn package"
   ]
  },
  {
   "cell_type": "code",
   "execution_count": 1,
   "id": "12a51916",
   "metadata": {},
   "outputs": [],
   "source": [
    "import numpy as np \n",
    "import pandas as pd \n",
    "import matplotlib.pyplot as plt\n",
    "from sklearn.model_selection import train_test_split \n",
    "from sklearn.naive_bayes import CategoricalNB\n",
    "from sklearn.metrics import accuracy_score, confusion_matrix\n",
    "from sklearn.preprocessing import LabelEncoder"
   ]
  },
  {
   "cell_type": "code",
   "execution_count": 2,
   "id": "8254bd4c",
   "metadata": {},
   "outputs": [],
   "source": [
    "import warnings\n",
    "warnings.filterwarnings('ignore')"
   ]
  },
  {
   "cell_type": "markdown",
   "id": "7df60ae5",
   "metadata": {},
   "source": [
    "### Load & explore the dataset : Exercice 2 - Série TD 2"
   ]
  },
  {
   "cell_type": "code",
   "execution_count": 3,
   "id": "120d1664",
   "metadata": {},
   "outputs": [],
   "source": [
    "lst_data = [\n",
    "    ['jeune', 'f', 'v', 'faible'],\n",
    "    ['jeune', 'v', 'v', 'eleve'],\n",
    "    ['adulte', 'f', 'f', 'faible'],\n",
    "    ['senior', 'v', 'f', 'eleve'],\n",
    "    ['senior', 'f', 'v', 'moyen'],\n",
    "    ['jeune', 'f', 'f', 'faible'],\n",
    "    ['adulte', 'v', 'f', 'moyen'],\n",
    "    ['adulte', 'v', 'v', 'moyen'],\n",
    "    ['senior', 'f', 'f', 'faible'],\n",
    "    ['senior', 'v', 'v', 'eleve'],\n",
    "]"
   ]
  },
  {
   "cell_type": "code",
   "execution_count": 4,
   "id": "6dd37756",
   "metadata": {},
   "outputs": [],
   "source": [
    "df = pd.DataFrame(lst_data, columns=['age', 'S1', 'S2', 'risque'])"
   ]
  },
  {
   "cell_type": "code",
   "execution_count": 5,
   "id": "3e16c666",
   "metadata": {},
   "outputs": [
    {
     "data": {
      "text/html": [
       "<div>\n",
       "<style scoped>\n",
       "    .dataframe tbody tr th:only-of-type {\n",
       "        vertical-align: middle;\n",
       "    }\n",
       "\n",
       "    .dataframe tbody tr th {\n",
       "        vertical-align: top;\n",
       "    }\n",
       "\n",
       "    .dataframe thead th {\n",
       "        text-align: right;\n",
       "    }\n",
       "</style>\n",
       "<table border=\"1\" class=\"dataframe\">\n",
       "  <thead>\n",
       "    <tr style=\"text-align: right;\">\n",
       "      <th></th>\n",
       "      <th>age</th>\n",
       "      <th>S1</th>\n",
       "      <th>S2</th>\n",
       "      <th>risque</th>\n",
       "    </tr>\n",
       "  </thead>\n",
       "  <tbody>\n",
       "    <tr>\n",
       "      <th>0</th>\n",
       "      <td>jeune</td>\n",
       "      <td>f</td>\n",
       "      <td>v</td>\n",
       "      <td>faible</td>\n",
       "    </tr>\n",
       "    <tr>\n",
       "      <th>1</th>\n",
       "      <td>jeune</td>\n",
       "      <td>v</td>\n",
       "      <td>v</td>\n",
       "      <td>eleve</td>\n",
       "    </tr>\n",
       "    <tr>\n",
       "      <th>2</th>\n",
       "      <td>adulte</td>\n",
       "      <td>f</td>\n",
       "      <td>f</td>\n",
       "      <td>faible</td>\n",
       "    </tr>\n",
       "    <tr>\n",
       "      <th>3</th>\n",
       "      <td>senior</td>\n",
       "      <td>v</td>\n",
       "      <td>f</td>\n",
       "      <td>eleve</td>\n",
       "    </tr>\n",
       "    <tr>\n",
       "      <th>4</th>\n",
       "      <td>senior</td>\n",
       "      <td>f</td>\n",
       "      <td>v</td>\n",
       "      <td>moyen</td>\n",
       "    </tr>\n",
       "  </tbody>\n",
       "</table>\n",
       "</div>"
      ],
      "text/plain": [
       "      age S1 S2  risque\n",
       "0   jeune  f  v  faible\n",
       "1   jeune  v  v   eleve\n",
       "2  adulte  f  f  faible\n",
       "3  senior  v  f   eleve\n",
       "4  senior  f  v   moyen"
      ]
     },
     "execution_count": 5,
     "metadata": {},
     "output_type": "execute_result"
    }
   ],
   "source": [
    "df.head()"
   ]
  },
  {
   "cell_type": "code",
   "execution_count": 6,
   "id": "cc4130f4",
   "metadata": {},
   "outputs": [
    {
     "data": {
      "text/plain": [
       "(10, 4)"
      ]
     },
     "execution_count": 6,
     "metadata": {},
     "output_type": "execute_result"
    }
   ],
   "source": [
    "df.shape"
   ]
  },
  {
   "cell_type": "code",
   "execution_count": 7,
   "id": "200de9b0",
   "metadata": {},
   "outputs": [
    {
     "data": {
      "text/html": [
       "<div>\n",
       "<style scoped>\n",
       "    .dataframe tbody tr th:only-of-type {\n",
       "        vertical-align: middle;\n",
       "    }\n",
       "\n",
       "    .dataframe tbody tr th {\n",
       "        vertical-align: top;\n",
       "    }\n",
       "\n",
       "    .dataframe thead th {\n",
       "        text-align: right;\n",
       "    }\n",
       "</style>\n",
       "<table border=\"1\" class=\"dataframe\">\n",
       "  <thead>\n",
       "    <tr style=\"text-align: right;\">\n",
       "      <th></th>\n",
       "      <th>age</th>\n",
       "      <th>S1</th>\n",
       "      <th>S2</th>\n",
       "      <th>risque</th>\n",
       "    </tr>\n",
       "  </thead>\n",
       "  <tbody>\n",
       "    <tr>\n",
       "      <th>count</th>\n",
       "      <td>10</td>\n",
       "      <td>10</td>\n",
       "      <td>10</td>\n",
       "      <td>10</td>\n",
       "    </tr>\n",
       "    <tr>\n",
       "      <th>unique</th>\n",
       "      <td>3</td>\n",
       "      <td>2</td>\n",
       "      <td>2</td>\n",
       "      <td>3</td>\n",
       "    </tr>\n",
       "    <tr>\n",
       "      <th>top</th>\n",
       "      <td>senior</td>\n",
       "      <td>f</td>\n",
       "      <td>v</td>\n",
       "      <td>faible</td>\n",
       "    </tr>\n",
       "    <tr>\n",
       "      <th>freq</th>\n",
       "      <td>4</td>\n",
       "      <td>5</td>\n",
       "      <td>5</td>\n",
       "      <td>4</td>\n",
       "    </tr>\n",
       "  </tbody>\n",
       "</table>\n",
       "</div>"
      ],
      "text/plain": [
       "           age  S1  S2  risque\n",
       "count       10  10  10      10\n",
       "unique       3   2   2       3\n",
       "top     senior   f   v  faible\n",
       "freq         4   5   5       4"
      ]
     },
     "execution_count": 7,
     "metadata": {},
     "output_type": "execute_result"
    }
   ],
   "source": [
    "df.describe()"
   ]
  },
  {
   "cell_type": "code",
   "execution_count": 8,
   "id": "f8da4247",
   "metadata": {},
   "outputs": [
    {
     "data": {
      "text/plain": [
       "faible    4\n",
       "eleve     3\n",
       "moyen     3\n",
       "Name: risque, dtype: int64"
      ]
     },
     "execution_count": 8,
     "metadata": {},
     "output_type": "execute_result"
    }
   ],
   "source": [
    "df['risque'].value_counts()"
   ]
  },
  {
   "cell_type": "code",
   "execution_count": 9,
   "id": "0ceac7cc",
   "metadata": {},
   "outputs": [
    {
     "data": {
      "text/plain": [
       "array(['eleve', 'faible', 'moyen'], dtype=object)"
      ]
     },
     "execution_count": 9,
     "metadata": {},
     "output_type": "execute_result"
    }
   ],
   "source": [
    "np.unique(df['risque'])"
   ]
  },
  {
   "cell_type": "code",
   "execution_count": 10,
   "id": "09c6706c",
   "metadata": {},
   "outputs": [
    {
     "data": {
      "image/png": "[encoded data removed]",
      "text/plain": [
       "<Figure size 432x288 with 1 Axes>"
      ]
     },
     "metadata": {},
     "output_type": "display_data"
    }
   ],
   "source": [
    "df['risque'].value_counts().plot(kind='pie', autopct='%.2f%%')\n",
    "# plt.pie(df['temp'].value_counts(), labels=np.unique(df['age']), autopct='%.2f')\n",
    "plt.show()"
   ]
  },
  {
   "cell_type": "code",
   "execution_count": 11,
   "id": "b61aa329",
   "metadata": {},
   "outputs": [
    {
     "data": {
      "image/png": "[encoded data removed]",
      "text/plain": [
       "<Figure size 432x288 with 1 Axes>"
      ]
     },
     "metadata": {
      "needs_background": "light"
     },
     "output_type": "display_data"
    }
   ],
   "source": [
    "df['risque'].value_counts().plot(kind='bar')\n",
    "plt.show()"
   ]
  },
  {
   "cell_type": "markdown",
   "id": "2d1707f3",
   "metadata": {},
   "source": [
    "### Split the DataFrame into features (X) and target/class (y) "
   ]
  },
  {
   "cell_type": "code",
   "execution_count": 12,
   "id": "cf4c7afd",
   "metadata": {},
   "outputs": [],
   "source": [
    "X = df[['age', 'S1', 'S2']]\n",
    "y = df['risque']"
   ]
  },
  {
   "cell_type": "markdown",
   "id": "22c9a023",
   "metadata": {},
   "source": [
    "### Create training and test sets : 70% of it is in the training set, and 30% of it is in the testing set."
   ]
  },
  {
   "cell_type": "code",
   "execution_count": 13,
   "id": "d385908f",
   "metadata": {},
   "outputs": [],
   "source": [
    "X_train, X_test, y_train, y_test = train_test_split(X, y, test_size = 0.3, random_state = 42)"
   ]
  },
  {
   "cell_type": "code",
   "execution_count": 14,
   "id": "57503a3f",
   "metadata": {},
   "outputs": [
    {
     "data": {
      "text/plain": [
       "(7, 3)"
      ]
     },
     "execution_count": 14,
     "metadata": {},
     "output_type": "execute_result"
    }
   ],
   "source": [
    "X_train.shape"
   ]
  },
  {
   "cell_type": "code",
   "execution_count": 15,
   "id": "959df676",
   "metadata": {},
   "outputs": [
    {
     "data": {
      "text/plain": [
       "(3, 3)"
      ]
     },
     "execution_count": 15,
     "metadata": {},
     "output_type": "execute_result"
    }
   ],
   "source": [
    "X_test.shape"
   ]
  },
  {
   "cell_type": "code",
   "execution_count": 16,
   "id": "6d7350f7",
   "metadata": {},
   "outputs": [
    {
     "data": {
      "text/html": [
       "<div>\n",
       "<style scoped>\n",
       "    .dataframe tbody tr th:only-of-type {\n",
       "        vertical-align: middle;\n",
       "    }\n",
       "\n",
       "    .dataframe tbody tr th {\n",
       "        vertical-align: top;\n",
       "    }\n",
       "\n",
       "    .dataframe thead th {\n",
       "        text-align: right;\n",
       "    }\n",
       "</style>\n",
       "<table border=\"1\" class=\"dataframe\">\n",
       "  <thead>\n",
       "    <tr style=\"text-align: right;\">\n",
       "      <th></th>\n",
       "      <th>age</th>\n",
       "      <th>S1</th>\n",
       "      <th>S2</th>\n",
       "    </tr>\n",
       "  </thead>\n",
       "  <tbody>\n",
       "    <tr>\n",
       "      <th>0</th>\n",
       "      <td>jeune</td>\n",
       "      <td>f</td>\n",
       "      <td>v</td>\n",
       "    </tr>\n",
       "    <tr>\n",
       "      <th>7</th>\n",
       "      <td>adulte</td>\n",
       "      <td>v</td>\n",
       "      <td>v</td>\n",
       "    </tr>\n",
       "    <tr>\n",
       "      <th>2</th>\n",
       "      <td>adulte</td>\n",
       "      <td>f</td>\n",
       "      <td>f</td>\n",
       "    </tr>\n",
       "    <tr>\n",
       "      <th>9</th>\n",
       "      <td>senior</td>\n",
       "      <td>v</td>\n",
       "      <td>v</td>\n",
       "    </tr>\n",
       "    <tr>\n",
       "      <th>4</th>\n",
       "      <td>senior</td>\n",
       "      <td>f</td>\n",
       "      <td>v</td>\n",
       "    </tr>\n",
       "    <tr>\n",
       "      <th>3</th>\n",
       "      <td>senior</td>\n",
       "      <td>v</td>\n",
       "      <td>f</td>\n",
       "    </tr>\n",
       "    <tr>\n",
       "      <th>6</th>\n",
       "      <td>adulte</td>\n",
       "      <td>v</td>\n",
       "      <td>f</td>\n",
       "    </tr>\n",
       "  </tbody>\n",
       "</table>\n",
       "</div>"
      ],
      "text/plain": [
       "      age S1 S2\n",
       "0   jeune  f  v\n",
       "7  adulte  v  v\n",
       "2  adulte  f  f\n",
       "9  senior  v  v\n",
       "4  senior  f  v\n",
       "3  senior  v  f\n",
       "6  adulte  v  f"
      ]
     },
     "execution_count": 16,
     "metadata": {},
     "output_type": "execute_result"
    }
   ],
   "source": [
    "X_train"
   ]
  },
  {
   "cell_type": "code",
   "execution_count": 17,
   "id": "4ff78ef2",
   "metadata": {},
   "outputs": [
    {
     "data": {
      "text/plain": [
       "0    faible\n",
       "7     moyen\n",
       "2    faible\n",
       "9     eleve\n",
       "4     moyen\n",
       "3     eleve\n",
       "6     moyen\n",
       "Name: risque, dtype: object"
      ]
     },
     "execution_count": 17,
     "metadata": {},
     "output_type": "execute_result"
    }
   ],
   "source": [
    "y_train"
   ]
  },
  {
   "cell_type": "markdown",
   "id": "e8d63909",
   "metadata": {},
   "source": [
    "### Encode categorical data as numbers : LabelEncoding\n",
    "\n",
    "Une machine ne peut comprendre que les nombres. Elle ne peut pas comprendre le texte. C'est aussi essentiellement le cas avec les algorithmes d'apprentissage automatique. \n",
    "\n",
    "C'est principalement la raison pour laquelle nous devons convertir les colonnes catégorielles en colonnes numériques afin que l'algorithme le comprenne. Ce processus est appelé l'encodage catégoriel (Encoding).\n",
    "\n",
    "**L'encodage catégoriel est un processus de conversion de catégories en nombres.**\n",
    "\n",
    "Besoin donc de transformation de nos données catégorielles en valeurs numériques.\n",
    "\n",
    "- Label Encoding : Chaque catégorie se voit attribuer un entier unique basé sur l'ordre alphabétique.\n"
   ]
  },
  {
   "cell_type": "code",
   "execution_count": 18,
   "id": "b90e56ae",
   "metadata": {},
   "outputs": [],
   "source": [
    "# Copy of your training data\n",
    "X_train_le = X_train.copy()\n",
    "\n",
    "encoders = {} \n",
    "\n",
    "for col in X_train.columns:\n",
    "    le = LabelEncoder()\n",
    "    le.fit(X_train[col])                \n",
    "    X_train_le[col] = le.transform(X_train[col])  \n",
    "    encoders[col] = le                  "
   ]
  },
  {
   "cell_type": "markdown",
   "id": "8dc833f3",
   "metadata": {},
   "source": [
    "#### Printing encoding values"
   ]
  },
  {
   "cell_type": "code",
   "execution_count": 19,
   "id": "fcf99936",
   "metadata": {},
   "outputs": [
    {
     "data": {
      "text/plain": [
       "array(['adulte', 'jeune', 'senior'], dtype=object)"
      ]
     },
     "execution_count": 19,
     "metadata": {},
     "output_type": "execute_result"
    }
   ],
   "source": [
    "encoders[\"age\"].classes_"
   ]
  },
  {
   "cell_type": "code",
   "execution_count": 20,
   "id": "100488f1",
   "metadata": {},
   "outputs": [
    {
     "name": "stdout",
     "output_type": "stream",
     "text": [
      "['adulte' 'jeune' 'senior']\n"
     ]
    }
   ],
   "source": [
    "# Or \n",
    "enc_values = [0, 1, 2]\n",
    "decoded =  encoders[\"age\"].inverse_transform(enc_values)\n",
    "print(decoded)"
   ]
  },
  {
   "cell_type": "code",
   "execution_count": 21,
   "id": "4cdc159b",
   "metadata": {},
   "outputs": [
    {
     "data": {
      "text/plain": [
       "array(['f', 'v'], dtype=object)"
      ]
     },
     "execution_count": 21,
     "metadata": {},
     "output_type": "execute_result"
    }
   ],
   "source": [
    "encoders[\"S1\"].classes_"
   ]
  },
  {
   "cell_type": "code",
   "execution_count": 22,
   "id": "38c89f95",
   "metadata": {},
   "outputs": [
    {
     "data": {
      "text/plain": [
       "array(['f', 'v'], dtype=object)"
      ]
     },
     "execution_count": 22,
     "metadata": {},
     "output_type": "execute_result"
    }
   ],
   "source": [
    "encoders[\"S2\"].classes_"
   ]
  },
  {
   "cell_type": "markdown",
   "id": "7cdb2294",
   "metadata": {},
   "source": [
    "#### Showing Encoding results"
   ]
  },
  {
   "cell_type": "code",
   "execution_count": 23,
   "id": "75e6fe7a",
   "metadata": {},
   "outputs": [
    {
     "data": {
      "text/html": [
       "<div>\n",
       "<style scoped>\n",
       "    .dataframe tbody tr th:only-of-type {\n",
       "        vertical-align: middle;\n",
       "    }\n",
       "\n",
       "    .dataframe tbody tr th {\n",
       "        vertical-align: top;\n",
       "    }\n",
       "\n",
       "    .dataframe thead th {\n",
       "        text-align: right;\n",
       "    }\n",
       "</style>\n",
       "<table border=\"1\" class=\"dataframe\">\n",
       "  <thead>\n",
       "    <tr style=\"text-align: right;\">\n",
       "      <th></th>\n",
       "      <th>age</th>\n",
       "      <th>S1</th>\n",
       "      <th>S2</th>\n",
       "    </tr>\n",
       "  </thead>\n",
       "  <tbody>\n",
       "    <tr>\n",
       "      <th>0</th>\n",
       "      <td>1</td>\n",
       "      <td>0</td>\n",
       "      <td>1</td>\n",
       "    </tr>\n",
       "    <tr>\n",
       "      <th>7</th>\n",
       "      <td>0</td>\n",
       "      <td>1</td>\n",
       "      <td>1</td>\n",
       "    </tr>\n",
       "    <tr>\n",
       "      <th>2</th>\n",
       "      <td>0</td>\n",
       "      <td>0</td>\n",
       "      <td>0</td>\n",
       "    </tr>\n",
       "    <tr>\n",
       "      <th>9</th>\n",
       "      <td>2</td>\n",
       "      <td>1</td>\n",
       "      <td>1</td>\n",
       "    </tr>\n",
       "    <tr>\n",
       "      <th>4</th>\n",
       "      <td>2</td>\n",
       "      <td>0</td>\n",
       "      <td>1</td>\n",
       "    </tr>\n",
       "    <tr>\n",
       "      <th>3</th>\n",
       "      <td>2</td>\n",
       "      <td>1</td>\n",
       "      <td>0</td>\n",
       "    </tr>\n",
       "    <tr>\n",
       "      <th>6</th>\n",
       "      <td>0</td>\n",
       "      <td>1</td>\n",
       "      <td>0</td>\n",
       "    </tr>\n",
       "  </tbody>\n",
       "</table>\n",
       "</div>"
      ],
      "text/plain": [
       "   age  S1  S2\n",
       "0    1   0   1\n",
       "7    0   1   1\n",
       "2    0   0   0\n",
       "9    2   1   1\n",
       "4    2   0   1\n",
       "3    2   1   0\n",
       "6    0   1   0"
      ]
     },
     "execution_count": 23,
     "metadata": {},
     "output_type": "execute_result"
    }
   ],
   "source": [
    "X_train_le"
   ]
  },
  {
   "cell_type": "markdown",
   "id": "c5ae917e",
   "metadata": {},
   "source": [
    "### Training phase : create the classifier & fit it on the encoded training data\n",
    "\n",
    "Doc: https://scikit-learn.org/stable/modules/generated/sklearn.naive_bayes.CategoricalNB.html#sklearn.naive_bayes.CategoricalNB"
   ]
  },
  {
   "cell_type": "markdown",
   "id": "0e011fb9",
   "metadata": {},
   "source": [
    "### Zero Frequency/Probablity Problem\n",
    "\n",
    "Si une classe individuelle est manquante, l'estimation de probabilité basée sur la fréquence sera de zéro. Et nous obtiendrons un zéro lorsque toutes les probabilités seront multipliées.\n",
    "\n",
    "Une approche pour surmonter ce problème consiste à ajouter 1 (**alpha**) au compte pour chaque combinaison valeur d'attribut-classe lorsqu'une valeur d'attribut n'apparaît pas avec chaque valeur de classe.\n",
    "\n",
    "alpha = 1 is called **Laplace smoothing**, & alpha > 1 is called **Lidstone smoothing**. Defaut = 1.\n",
    "\n",
    "Cela entraînera la suppression de toutes les valeurs nulles des classes et, en même temps, n'aura pas d'impact sur la fréquence relative globale des classes."
   ]
  },
  {
   "cell_type": "code",
   "execution_count": 24,
   "id": "e598f933",
   "metadata": {},
   "outputs": [
    {
     "data": {
      "text/plain": [
       "CategoricalNB()"
      ]
     },
     "execution_count": 24,
     "metadata": {},
     "output_type": "execute_result"
    }
   ],
   "source": [
    "clf = CategoricalNB(alpha=1.0)\n",
    "\n",
    "clf.fit(X_train_le, y_train)"
   ]
  },
  {
   "cell_type": "code",
   "execution_count": 25,
   "id": "8edb3aaa",
   "metadata": {},
   "outputs": [
    {
     "data": {
      "text/plain": [
       "1.0"
      ]
     },
     "execution_count": 25,
     "metadata": {},
     "output_type": "execute_result"
    }
   ],
   "source": [
    "clf.alpha"
   ]
  },
  {
   "attachments": {},
   "cell_type": "markdown",
   "id": "fefe07d2",
   "metadata": {},
   "source": [
    "**category_count_** : is an array of arrays (a list of NumPy arrays), where each inner array corresponds to one feature (categorical column) and contains the number of samples observed for each category value per feature across the entire training set.\n",
    "\n",
    "It tells you how many training examples had each possible category for every feature.\n",
    "\n",
    "It’s part of how Naive Bayes estimates conditional probabilities, P(xi∣y).\n",
    "\n",
    "- Array per feature\n",
    "- Array : (row, col) = (cls, feature_values)"
   ]
  },
  {
   "cell_type": "code",
   "execution_count": 26,
   "id": "9f78da75",
   "metadata": {},
   "outputs": [
    {
     "data": {
      "text/plain": [
       "[array([[0., 0., 2.],\n",
       "        [1., 1., 0.],\n",
       "        [2., 0., 1.]]),\n",
       " array([[0., 2.],\n",
       "        [2., 0.],\n",
       "        [1., 2.]]),\n",
       " array([[1., 1.],\n",
       "        [1., 1.],\n",
       "        [1., 2.]])]"
      ]
     },
     "execution_count": 26,
     "metadata": {},
     "output_type": "execute_result"
    }
   ],
   "source": [
    "clf.category_count_"
   ]
  },
  {
   "cell_type": "code",
   "execution_count": 27,
   "id": "31cb9150",
   "metadata": {},
   "outputs": [
    {
     "data": {
      "text/plain": [
       "array(['age', 'S1', 'S2'], dtype=object)"
      ]
     },
     "execution_count": 27,
     "metadata": {},
     "output_type": "execute_result"
    }
   ],
   "source": [
    "clf.feature_names_in_"
   ]
  },
  {
   "cell_type": "code",
   "execution_count": 28,
   "id": "c0e4f264",
   "metadata": {},
   "outputs": [
    {
     "data": {
      "text/plain": [
       "array(['eleve', 'faible', 'moyen'], dtype='<U6')"
      ]
     },
     "execution_count": 28,
     "metadata": {},
     "output_type": "execute_result"
    }
   ],
   "source": [
    "clf.classes_"
   ]
  },
  {
   "cell_type": "code",
   "execution_count": 29,
   "id": "6f3f989a",
   "metadata": {},
   "outputs": [
    {
     "data": {
      "text/plain": [
       "array([2., 2., 3.])"
      ]
     },
     "execution_count": 29,
     "metadata": {},
     "output_type": "execute_result"
    }
   ],
   "source": [
    "clf.class_count_"
   ]
  },
  {
   "cell_type": "markdown",
   "id": "665551f6",
   "metadata": {},
   "source": [
    "### Evaluate the predictive performance : Accuracy"
   ]
  },
  {
   "cell_type": "code",
   "execution_count": 30,
   "id": "e88909cf",
   "metadata": {},
   "outputs": [],
   "source": [
    "# Copy of your training data\n",
    "X_test_le = X_test.copy()\n",
    "\n",
    "for col in X_test.columns:\n",
    "    X_test_le[col] = encoders[col].transform(X_test[col])"
   ]
  },
  {
   "cell_type": "code",
   "execution_count": 38,
   "id": "4cee3410",
   "metadata": {},
   "outputs": [],
   "source": [
    "y_preds = clf.predict(X_test_le)"
   ]
  },
  {
   "cell_type": "code",
   "execution_count": 31,
   "id": "434ce423",
   "metadata": {},
   "outputs": [
    {
     "name": "stdout",
     "output_type": "stream",
     "text": [
      "Accuracy:  0.3333333333333333\n"
     ]
    }
   ],
   "source": [
    "print('Accuracy: ', accuracy_score(y_test, y_preds))"
   ]
  },
  {
   "cell_type": "code",
   "execution_count": 32,
   "id": "f1937770",
   "metadata": {},
   "outputs": [
    {
     "name": "stdout",
     "output_type": "stream",
     "text": [
      "              precision    recall  f1-score   support\n",
      "\n",
      "       eleve       0.00      0.00      0.00         1\n",
      "      faible       1.00      0.50      0.67         2\n",
      "       moyen       0.00      0.00      0.00         0\n",
      "\n",
      "    accuracy                           0.33         3\n",
      "   macro avg       0.33      0.17      0.22         3\n",
      "weighted avg       0.67      0.33      0.44         3\n",
      "\n"
     ]
    }
   ],
   "source": [
    "from sklearn.metrics import classification_report\n",
    "\n",
    "print(classification_report(y_test, y_preds))"
   ]
  },
  {
   "cell_type": "markdown",
   "id": "5ab6ae32",
   "metadata": {},
   "source": [
    "### Plot confusion matrix "
   ]
  },
  {
   "cell_type": "code",
   "execution_count": 33,
   "id": "f723f005",
   "metadata": {},
   "outputs": [
    {
     "name": "stdout",
     "output_type": "stream",
     "text": [
      "[[0 0 1]\n",
      " [0 1 1]\n",
      " [0 0 0]]\n"
     ]
    }
   ],
   "source": [
    "from sklearn.metrics import confusion_matrix\n",
    "\n",
    "cf_matrix = confusion_matrix(y_test, y_preds)\n",
    "\n",
    "print(cf_matrix)"
   ]
  },
  {
   "cell_type": "code",
   "execution_count": 34,
   "id": "7a732cc5",
   "metadata": {},
   "outputs": [
    {
     "data": {
      "image/png": "[encoded data removed]",
      "text/plain": [
       "<Figure size 432x288 with 2 Axes>"
      ]
     },
     "metadata": {
      "needs_background": "light"
     },
     "output_type": "display_data"
    }
   ],
   "source": [
    "import seaborn as sns\n",
    "\n",
    "ax = sns.heatmap(cf_matrix, annot=True, cmap='Blues')\n",
    "\n",
    "ax.set_title('Seaborn Confusion Matrix with labels\\n\\n');\n",
    "ax.set_xlabel('\\nPredicted Values')\n",
    "ax.set_ylabel('Actual Values ');\n",
    "\n",
    "## Ticket labels\n",
    "ax.xaxis.set_ticklabels(['Eleve', 'Faible', 'Moyen'])\n",
    "ax.yaxis.set_ticklabels(['Eleve', 'Faible', 'Moyen'])\n",
    "\n",
    "## Display the visualization of the Confusion Matrix\n",
    "plt.show()"
   ]
  },
  {
   "cell_type": "markdown",
   "id": "82be9ed9",
   "metadata": {},
   "source": [
    "### Predict one sample : ['jeune', 'v', 'f']"
   ]
  },
  {
   "cell_type": "code",
   "execution_count": 35,
   "id": "1dc4ed50",
   "metadata": {},
   "outputs": [
    {
     "data": {
      "text/plain": [
       "array(['eleve'], dtype='<U6')"
      ]
     },
     "execution_count": 35,
     "metadata": {},
     "output_type": "execute_result"
    }
   ],
   "source": [
    "clf.predict([[1, 1, 0]])"
   ]
  },
  {
   "cell_type": "code",
   "execution_count": 36,
   "id": "e26578fc",
   "metadata": {},
   "outputs": [
    {
     "data": {
      "text/plain": [
       "array([[0.40540541, 0.27027027, 0.32432432]])"
      ]
     },
     "execution_count": 36,
     "metadata": {},
     "output_type": "execute_result"
    }
   ],
   "source": [
    "clf.predict_proba([[1, 1, 0]]) # ['Eleve', 'Faible', 'Moyen']"
   ]
  },
  {
   "cell_type": "code",
   "execution_count": null,
   "id": "b7fc26d0",
   "metadata": {},
   "outputs": [],
   "source": [
    "# OR"
   ]
  },
  {
   "cell_type": "code",
   "execution_count": 37,
   "id": "d0e20213",
   "metadata": {},
   "outputs": [
    {
     "name": "stdout",
     "output_type": "stream",
     "text": [
      "['eleve']\n"
     ]
    }
   ],
   "source": [
    "# New example\n",
    "new_sample = pd.DataFrame([[\"jeune\", \"v\", \"f\"]], columns=[\"age\", \"S1\", \"S2\"])\n",
    "\n",
    "# Encode it\n",
    "new_sample_le = new_sample.copy()\n",
    "for col in new_sample.columns:\n",
    "    new_sample_le[col] = encoders[col].transform(new_sample[col])\n",
    "\n",
    "# Predict\n",
    "y_pred = clf.predict(new_sample_le)\n",
    "print(y_pred)"
   ]
  },
  {
   "cell_type": "code",
   "execution_count": null,
   "id": "e6ea3166",
   "metadata": {},
   "outputs": [],
   "source": []
  }
 ],
 "metadata": {
  "kernelspec": {
   "display_name": "Python 3 (ipykernel)",
   "language": "python",
   "name": "python3"
  },
  "language_info": {
   "codemirror_mode": {
    "name": "ipython",
    "version": 3
   },
   "file_extension": ".py",
   "mimetype": "text/x-python",
   "name": "python",
   "nbconvert_exporter": "python",
   "pygments_lexer": "ipython3",
   "version": "3.8.8"
  }
 },
 "nbformat": 4,
 "nbformat_minor": 5
}
